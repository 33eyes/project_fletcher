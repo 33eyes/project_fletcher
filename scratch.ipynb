{
 "cells": [
  {
   "cell_type": "code",
   "execution_count": 193,
   "metadata": {},
   "outputs": [],
   "source": [
    "import csv\n",
    "from datetime import datetime\n",
    "\n",
    "import numpy as np\n",
    "import matplotlib.pyplot as plt\n",
    "%matplotlib inline\n",
    "\n",
    "import pandas as pd\n",
    "import re\n",
    "\n",
    "import statsmodels.api as sm\n",
    "import statsmodels.formula.api as smf\n",
    "import patsy\n",
    "\n",
    "from IPython.display import Image\n",
    "import seaborn as sns"
   ]
  },
  {
   "cell_type": "code",
   "execution_count": 2,
   "metadata": {
    "collapsed": true
   },
   "outputs": [],
   "source": [
    "# pandas display settings\n",
    "\n",
    "pd.set_option('display.max_columns', 50)\n",
    "pd.set_option('display.max_rows', 50)\n",
    "pd.set_option('display.precision', 3)"
   ]
  },
  {
   "cell_type": "code",
   "execution_count": 304,
   "metadata": {
    "collapsed": true
   },
   "outputs": [],
   "source": [
    "# Scrape the job listings with Selenium\n",
    "import time\n",
    "from selenium import webdriver\n",
    " \n",
    "driver = webdriver.Chrome('C:/Users/Arina/Chromedriver/chromedriver')  "
   ]
  },
  {
   "cell_type": "code",
   "execution_count": 285,
   "metadata": {},
   "outputs": [
    {
     "data": {
      "text/html": [
       "<div>\n",
       "<style>\n",
       "    .dataframe thead tr:only-child th {\n",
       "        text-align: right;\n",
       "    }\n",
       "\n",
       "    .dataframe thead th {\n",
       "        text-align: left;\n",
       "    }\n",
       "\n",
       "    .dataframe tbody tr th {\n",
       "        vertical-align: top;\n",
       "    }\n",
       "</style>\n",
       "<table border=\"1\" class=\"dataframe\">\n",
       "  <thead>\n",
       "    <tr style=\"text-align: right;\">\n",
       "      <th></th>\n",
       "      <th>email_from</th>\n",
       "      <th>email_subject</th>\n",
       "      <th>email_content</th>\n",
       "      <th>date</th>\n",
       "    </tr>\n",
       "  </thead>\n",
       "  <tbody>\n",
       "    <tr>\n",
       "      <th>0</th>\n",
       "      <td>We Work Remotely</td>\n",
       "      <td>Listings for Sun, Feb 18</td>\n",
       "      <td>Your daily We Work Remotely job listings\\r\\n\\r...</td>\n",
       "      <td>Sun, 18 Feb 2018 04:14:19 +0000 (UTC)</td>\n",
       "    </tr>\n",
       "    <tr>\n",
       "      <th>1</th>\n",
       "      <td>We Work Remotely</td>\n",
       "      <td>Listings for Mon, Feb 19</td>\n",
       "      <td>Your daily We Work Remotely job listings\\r\\n\\r...</td>\n",
       "      <td>Mon, 19 Feb 2018 04:15:13 +0000 (UTC)</td>\n",
       "    </tr>\n",
       "    <tr>\n",
       "      <th>2</th>\n",
       "      <td>Indeed Job Alert</td>\n",
       "      <td>You have new recommended jobs: Senior Data Sci...</td>\n",
       "      <td>Recommended Jobs for You\\r\\n\\r\\nJobs 1 to 23 o...</td>\n",
       "      <td>Mon, 19 Feb 2018 13:12:58 -0600 (CST)</td>\n",
       "    </tr>\n",
       "    <tr>\n",
       "      <th>3</th>\n",
       "      <td>Indeed</td>\n",
       "      <td>30+ new data science jobs</td>\n",
       "      <td>Indeed Job Alert\\r\\ndata science jobs\\r\\n\\r\\nJ...</td>\n",
       "      <td>Mon, 19 Feb 2018 17:27:47 -0600 (CST)</td>\n",
       "    </tr>\n",
       "    <tr>\n",
       "      <th>4</th>\n",
       "      <td>LinkedIn Job Alerts</td>\n",
       "      <td>Arina: 503 new jobs for 'data science'</td>\n",
       "      <td>LinkedIn | 503 new jobs matching your search f...</td>\n",
       "      <td>Tue, 20 Feb 2018 01:01:02 +0000 (UTC)</td>\n",
       "    </tr>\n",
       "    <tr>\n",
       "      <th>5</th>\n",
       "      <td>We Work Remotely</td>\n",
       "      <td>Listings for Tue, Feb 20</td>\n",
       "      <td>Your daily We Work Remotely job listings\\r\\n\\r...</td>\n",
       "      <td>Tue, 20 Feb 2018 04:21:59 +0000 (UTC)</td>\n",
       "    </tr>\n",
       "    <tr>\n",
       "      <th>6</th>\n",
       "      <td>Indeed Job Alert</td>\n",
       "      <td>You have new recommended jobs: Senior Data Sci...</td>\n",
       "      <td>Recommended Jobs for You\\r\\n\\r\\nJobs 1 to 9 of...</td>\n",
       "      <td>Tue, 20 Feb 2018 13:51:08 -0600 (CST)</td>\n",
       "    </tr>\n",
       "    <tr>\n",
       "      <th>7</th>\n",
       "      <td>Indeed</td>\n",
       "      <td>30+ new data science jobs</td>\n",
       "      <td>Indeed Job Alert\\r\\ndata science jobs\\r\\n\\r\\nJ...</td>\n",
       "      <td>Tue, 20 Feb 2018 19:23:41 -0600 (CST)</td>\n",
       "    </tr>\n",
       "    <tr>\n",
       "      <th>8</th>\n",
       "      <td>LinkedIn Job Alerts</td>\n",
       "      <td>Arina: 776 new jobs for 'data science'</td>\n",
       "      <td>LinkedIn | 776 new jobs matching your search f...</td>\n",
       "      <td>Wed, 21 Feb 2018 02:12:09 +0000 (UTC)</td>\n",
       "    </tr>\n",
       "    <tr>\n",
       "      <th>9</th>\n",
       "      <td>We Work Remotely</td>\n",
       "      <td>Listings for Wed, Feb 21</td>\n",
       "      <td>Your daily We Work Remotely job listings\\r\\n\\r...</td>\n",
       "      <td>Wed, 21 Feb 2018 04:44:32 +0000 (UTC)</td>\n",
       "    </tr>\n",
       "    <tr>\n",
       "      <th>10</th>\n",
       "      <td>Indeed Job Alert</td>\n",
       "      <td>You have new recommended jobs: Digital Insight...</td>\n",
       "      <td>Recommended Jobs for You\\r\\n\\r\\nJobs 1 to 12 o...</td>\n",
       "      <td>Wed, 21 Feb 2018 13:40:20 -0600 (CST)</td>\n",
       "    </tr>\n",
       "    <tr>\n",
       "      <th>11</th>\n",
       "      <td>Indeed</td>\n",
       "      <td>30+ new data science jobs</td>\n",
       "      <td>Indeed Job Alert\\r\\ndata science jobs\\r\\n\\r\\nJ...</td>\n",
       "      <td>Wed, 21 Feb 2018 18:14:45 -0600 (CST)</td>\n",
       "    </tr>\n",
       "    <tr>\n",
       "      <th>12</th>\n",
       "      <td>LinkedIn Job Alerts</td>\n",
       "      <td>Arina: 951 new jobs for 'data science'</td>\n",
       "      <td>LinkedIn | 951 new jobs matching your search f...</td>\n",
       "      <td>Thu, 22 Feb 2018 03:07:24 +0000 (UTC)</td>\n",
       "    </tr>\n",
       "    <tr>\n",
       "      <th>13</th>\n",
       "      <td>Indeed Job Alert</td>\n",
       "      <td>You have new recommended jobs: Product Manager...</td>\n",
       "      <td>Recommended Jobs for You\\r\\n\\r\\nJobs 1 to 10 o...</td>\n",
       "      <td>Thu, 22 Feb 2018 13:36:51 -0600 (CST)</td>\n",
       "    </tr>\n",
       "  </tbody>\n",
       "</table>\n",
       "</div>"
      ],
      "text/plain": [
       "             email_from                                      email_subject  \\\n",
       "0      We Work Remotely                           Listings for Sun, Feb 18   \n",
       "1      We Work Remotely                           Listings for Mon, Feb 19   \n",
       "2      Indeed Job Alert  You have new recommended jobs: Senior Data Sci...   \n",
       "3                Indeed                          30+ new data science jobs   \n",
       "4   LinkedIn Job Alerts             Arina: 503 new jobs for 'data science'   \n",
       "5      We Work Remotely                           Listings for Tue, Feb 20   \n",
       "6      Indeed Job Alert  You have new recommended jobs: Senior Data Sci...   \n",
       "7                Indeed                          30+ new data science jobs   \n",
       "8   LinkedIn Job Alerts             Arina: 776 new jobs for 'data science'   \n",
       "9      We Work Remotely                           Listings for Wed, Feb 21   \n",
       "10     Indeed Job Alert  You have new recommended jobs: Digital Insight...   \n",
       "11               Indeed                          30+ new data science jobs   \n",
       "12  LinkedIn Job Alerts             Arina: 951 new jobs for 'data science'   \n",
       "13     Indeed Job Alert  You have new recommended jobs: Product Manager...   \n",
       "\n",
       "                                        email_content  \\\n",
       "0   Your daily We Work Remotely job listings\\r\\n\\r...   \n",
       "1   Your daily We Work Remotely job listings\\r\\n\\r...   \n",
       "2   Recommended Jobs for You\\r\\n\\r\\nJobs 1 to 23 o...   \n",
       "3   Indeed Job Alert\\r\\ndata science jobs\\r\\n\\r\\nJ...   \n",
       "4   LinkedIn | 503 new jobs matching your search f...   \n",
       "5   Your daily We Work Remotely job listings\\r\\n\\r...   \n",
       "6   Recommended Jobs for You\\r\\n\\r\\nJobs 1 to 9 of...   \n",
       "7   Indeed Job Alert\\r\\ndata science jobs\\r\\n\\r\\nJ...   \n",
       "8   LinkedIn | 776 new jobs matching your search f...   \n",
       "9   Your daily We Work Remotely job listings\\r\\n\\r...   \n",
       "10  Recommended Jobs for You\\r\\n\\r\\nJobs 1 to 12 o...   \n",
       "11  Indeed Job Alert\\r\\ndata science jobs\\r\\n\\r\\nJ...   \n",
       "12  LinkedIn | 951 new jobs matching your search f...   \n",
       "13  Recommended Jobs for You\\r\\n\\r\\nJobs 1 to 10 o...   \n",
       "\n",
       "                                     date  \n",
       "0   Sun, 18 Feb 2018 04:14:19 +0000 (UTC)  \n",
       "1   Mon, 19 Feb 2018 04:15:13 +0000 (UTC)  \n",
       "2   Mon, 19 Feb 2018 13:12:58 -0600 (CST)  \n",
       "3   Mon, 19 Feb 2018 17:27:47 -0600 (CST)  \n",
       "4   Tue, 20 Feb 2018 01:01:02 +0000 (UTC)  \n",
       "5   Tue, 20 Feb 2018 04:21:59 +0000 (UTC)  \n",
       "6   Tue, 20 Feb 2018 13:51:08 -0600 (CST)  \n",
       "7   Tue, 20 Feb 2018 19:23:41 -0600 (CST)  \n",
       "8   Wed, 21 Feb 2018 02:12:09 +0000 (UTC)  \n",
       "9   Wed, 21 Feb 2018 04:44:32 +0000 (UTC)  \n",
       "10  Wed, 21 Feb 2018 13:40:20 -0600 (CST)  \n",
       "11  Wed, 21 Feb 2018 18:14:45 -0600 (CST)  \n",
       "12  Thu, 22 Feb 2018 03:07:24 +0000 (UTC)  \n",
       "13  Thu, 22 Feb 2018 13:36:51 -0600 (CST)  "
      ]
     },
     "execution_count": 285,
     "metadata": {},
     "output_type": "execute_result"
    }
   ],
   "source": [
    "filepath = '..\\data_local\\jobhunt_zapier_3.csv'\n",
    "df = pd.read_csv(filepath)\n",
    "df"
   ]
  },
  {
   "cell_type": "code",
   "execution_count": 286,
   "metadata": {},
   "outputs": [
    {
     "data": {
      "text/html": [
       "<div>\n",
       "<style>\n",
       "    .dataframe thead tr:only-child th {\n",
       "        text-align: right;\n",
       "    }\n",
       "\n",
       "    .dataframe thead th {\n",
       "        text-align: left;\n",
       "    }\n",
       "\n",
       "    .dataframe tbody tr th {\n",
       "        vertical-align: top;\n",
       "    }\n",
       "</style>\n",
       "<table border=\"1\" class=\"dataframe\">\n",
       "  <thead>\n",
       "    <tr style=\"text-align: right;\">\n",
       "      <th></th>\n",
       "      <th>email_from</th>\n",
       "      <th>email_subject</th>\n",
       "      <th>email_content</th>\n",
       "      <th>date</th>\n",
       "    </tr>\n",
       "  </thead>\n",
       "  <tbody>\n",
       "    <tr>\n",
       "      <th>count</th>\n",
       "      <td>14</td>\n",
       "      <td>14</td>\n",
       "      <td>14</td>\n",
       "      <td>14</td>\n",
       "    </tr>\n",
       "    <tr>\n",
       "      <th>unique</th>\n",
       "      <td>4</td>\n",
       "      <td>12</td>\n",
       "      <td>14</td>\n",
       "      <td>14</td>\n",
       "    </tr>\n",
       "    <tr>\n",
       "      <th>top</th>\n",
       "      <td>Indeed Job Alert</td>\n",
       "      <td>30+ new data science jobs</td>\n",
       "      <td>Recommended Jobs for You\\r\\n\\r\\nJobs 1 to 12 o...</td>\n",
       "      <td>Wed, 21 Feb 2018 04:44:32 +0000 (UTC)</td>\n",
       "    </tr>\n",
       "    <tr>\n",
       "      <th>freq</th>\n",
       "      <td>4</td>\n",
       "      <td>3</td>\n",
       "      <td>1</td>\n",
       "      <td>1</td>\n",
       "    </tr>\n",
       "  </tbody>\n",
       "</table>\n",
       "</div>"
      ],
      "text/plain": [
       "              email_from              email_subject  \\\n",
       "count                 14                         14   \n",
       "unique                 4                         12   \n",
       "top     Indeed Job Alert  30+ new data science jobs   \n",
       "freq                   4                          3   \n",
       "\n",
       "                                            email_content  \\\n",
       "count                                                  14   \n",
       "unique                                                 14   \n",
       "top     Recommended Jobs for You\\r\\n\\r\\nJobs 1 to 12 o...   \n",
       "freq                                                    1   \n",
       "\n",
       "                                         date  \n",
       "count                                      14  \n",
       "unique                                     14  \n",
       "top     Wed, 21 Feb 2018 04:44:32 +0000 (UTC)  \n",
       "freq                                        1  "
      ]
     },
     "execution_count": 286,
     "metadata": {},
     "output_type": "execute_result"
    }
   ],
   "source": [
    "df.describe()"
   ]
  },
  {
   "cell_type": "code",
   "execution_count": 287,
   "metadata": {},
   "outputs": [
    {
     "name": "stdout",
     "output_type": "stream",
     "text": [
      "<class 'pandas.core.frame.DataFrame'>\n",
      "RangeIndex: 14 entries, 0 to 13\n",
      "Data columns (total 4 columns):\n",
      "email_from       14 non-null object\n",
      "email_subject    14 non-null object\n",
      "email_content    14 non-null object\n",
      "date             14 non-null object\n",
      "dtypes: object(4)\n",
      "memory usage: 528.0+ bytes\n"
     ]
    }
   ],
   "source": [
    "df.info()"
   ]
  },
  {
   "cell_type": "code",
   "execution_count": 288,
   "metadata": {},
   "outputs": [
    {
     "data": {
      "text/plain": [
       "0     Your daily We Work Remotely job listings\\r\\n\\r...\n",
       "1     Your daily We Work Remotely job listings\\r\\n\\r...\n",
       "2     Recommended Jobs for You\\r\\n\\r\\nJobs 1 to 23 o...\n",
       "3     Indeed Job Alert\\r\\ndata science jobs\\r\\n\\r\\nJ...\n",
       "4     LinkedIn | 503 new jobs matching your search f...\n",
       "5     Your daily We Work Remotely job listings\\r\\n\\r...\n",
       "6     Recommended Jobs for You\\r\\n\\r\\nJobs 1 to 9 of...\n",
       "7     Indeed Job Alert\\r\\ndata science jobs\\r\\n\\r\\nJ...\n",
       "8     LinkedIn | 776 new jobs matching your search f...\n",
       "9     Your daily We Work Remotely job listings\\r\\n\\r...\n",
       "10    Recommended Jobs for You\\r\\n\\r\\nJobs 1 to 12 o...\n",
       "11    Indeed Job Alert\\r\\ndata science jobs\\r\\n\\r\\nJ...\n",
       "12    LinkedIn | 951 new jobs matching your search f...\n",
       "13    Recommended Jobs for You\\r\\n\\r\\nJobs 1 to 10 o...\n",
       "Name: email_content, dtype: object"
      ]
     },
     "execution_count": 288,
     "metadata": {},
     "output_type": "execute_result"
    }
   ],
   "source": [
    "df.email_content"
   ]
  },
  {
   "cell_type": "code",
   "execution_count": 289,
   "metadata": {},
   "outputs": [
    {
     "data": {
      "text/plain": [
       "\"Your daily We Work Remotely job listings\\r\\n\\r\\nWe Work Remotely \\r\\n( https://u4898190.ct.sendgrid.net/wf/click?upn=YW1lRBveHigy9pfKCwINryPH9gXS1fDvrLx7LFjeI5kRW9biOb4VS8blYCFvZFezLJCeRUrwFMUmHXtbkjCLxg-3D-3D_f5qCWurvD1qQCAM8njv-2BcIZbstIiWZIpZOOjXCrIEXIJoYOgVu57VeQiqJS5T-2FmXFT9asgrRJwxK8pvVnsimT-2B3sVrNXnakqW2S-2B9Hi9q-2B4jvlnrVbuA5R7Ze2u1EN0-2BNlsqo9-2FTvMGAxDEapp43khJDYf1AsKI8cdT0GBebEsk-2F-2FGolqx16867NtPQPfzm1xvt8qwotcN2-2Bcv3KuCaQDQ-3D-3D )\\r\\n\\r\\n********************\\r\\nToday's job listings\\r\\n********************\\r\\n\\r\\nHere are your We Work Remotely job listings for Sunday, February\\r\\n18 2018.\\r\\n\\r\\n-----------\\r\\nProgramming\\r\\n-----------\\r\\n\\r\\nCloud and Rails Security Engineer at Retail Zipline\\r\\n\\r\\n( https://u4898190.ct.sendgrid.net/wf/click?upn=YW1lRBveHigy9pfKCwINryPH9gXS1fDvrLx7LFjeI5lll12hZfj-2B5jeSAhXevx0OKlrZdyS3nhmbSLQazzGBBDU4XuYL2dHviVQDSzt-2Fb4QlQRNK0mgZLH7XripqkQea_f5qCWurvD1qQCAM8njv-2BcIZbstIiWZIpZOOjXCrIEXIJoYOgVu57VeQiqJS5T-2FmXPtfJ7Z7Qo9aLC07ctpX1BFdLkO0wsDmz7pVrr5A5yzlUXdyuswjLlW79dBHcScnJ2RiQRCcDXaHYh8m-2Fm6MCQRsB6J6NBB-2BgHuwzAhvvcFzh0VEgl3KFd1-2FfhWLOSp4b0GsFoPx70H6SDiYOxZS7BA-3D-3D )\\r\\n\\r\\n\\r\\n“Terrific founders with technical and domain expertise, totally\\r\\nfocused on customer success. Their progress in the first two\\r\\nyears is amazing.” - One of our investors\\r\\n\\r\\nRetailers use archaic,...\\r\\n\\r\\nSr Web Developer (PHP) to make events more awesome\\r\\nat Sched \\r\\n( https://u4898190.ct.sendgrid.net/wf/click?upn=YW1lRBveHigy9pfKCwINryPH9gXS1fDvrLx7LFjeI5naS8HLyM9Ba7LbJ-2Fm7dCtFnatWRUwv3B2TKDezAZ-2Bhe-2BshxWxscJPX95jWAnxJkExxFf7tb-2BJuo2EivgmfZ5gfbiFpKttvXcINbZ348w7Lmg-3D-3D_f5qCWurvD1qQCAM8njv-2BcIZbstIiWZIpZOOjXCrIEXIJoYOgVu57VeQiqJS5T-2FmXYFrUCV7n5MHGZH5ZMI72Tcub5xWTe68fEPyVqHiOVQCyIxGwoVf0gA0CenOTANh6KpG4p7Rprtnr9b72LYd7l7Ss-2F-2F0gi4zj2Rk-2FsLJY9SSaUTukrofcC-2BrIdpqfvYHSrCFuUw2NXg0L2vDr0cHBYw-3D-3D )\\r\\n\\r\\n\\r\\nLearn about who we are, what we're looking for and\\r\\nhow you can grow with us:REQUIRED EXPERIENCE\\r\\nOutstanding at communication. We are 100% remote and\\r\\ncommunication means everything.\\r\\n\\r\\nHighly experienced...\\r\\n\\r\\nGood luck with your job hunt!\\r\\n\\r\\nYou’re subscribed to Programming and All\\r\\nOther listings. Click here \\r\\n( https://u4898190.ct.sendgrid.net/wf/click?upn=YW1lRBveHigy9pfKCwINryPH9gXS1fDvrLx7LFjeI5n82bqBiB3BuR3-2BYMW35H7UdkE4Y5xWnboC1P-2FNqJPtq0-2FQyODrK81MRUo8i8bMxdU-3D_f5qCWurvD1qQCAM8njv-2BcIZbstIiWZIpZOOjXCrIEXIJoYOgVu57VeQiqJS5T-2FmXxb-2BFoPXwyikLtzKd7o2wgQqI-2FGV-2F8Vq8XDK45v4DltE3u9lkcsTTBTX0KIW6qBnkeZflQS8UWHvNTOenoi7VMW1zVn5c8iQ4hmiJGzj5iL5EqOcW4b99W6oEEKi4AmHILQgVZzTQWGqSabHRo1yH0Q-3D-3D )\\r\\n to update these categories. You can also unsubscribe here \\r\\n( https://u4898190.ct.sendgrid.net/wf/click?upn=YW1lRBveHigy9pfKCwINryPH9gXS1fDvrLx7LFjeI5n82bqBiB3BuR3-2BYMW35H7U2JlZeV36-2Fwc06Z1G5RvMAfa-2FWO3AXR7bKTFpVVZLcWYXTEFelrBcIIYr0C8mLuU-2B_f5qCWurvD1qQCAM8njv-2BcIZbstIiWZIpZOOjXCrIEXIJoYOgVu57VeQiqJS5T-2FmXSYgthSIjA8Vx3Ii8X9-2FIuLmbLbw0OZ47I59Jg0UPINcWVWRmKkeodbf21hUw4f5Mj33i-2FQ8BZUQ5HF7pRYHTvZdPl-2BNVV5zTvzbItqDphRP1BRpz4ZKPvreXU15U6mvd-2FlL6-2FX4RJbTZ5ES-2FW3NhTA-3D-3D )\\r\\n.\\r\\n\\r\\nWe're Tiny Boards \\r\\n( https://u4898190.ct.sendgrid.net/wf/click?upn=CmTwKX-2FhLm9t8BMDLW68mKKjxDpbxvAljO-2B2drjikdGZNbGrTtw4Xvo2STAHCW7Lu-2BZKP3CXs7s8KluV36jUuQ-3D-3D_f5qCWurvD1qQCAM8njv-2BcIZbstIiWZIpZOOjXCrIEXIJoYOgVu57VeQiqJS5T-2FmXi9CpRBdwDnVnD4rsF4OsCtDUIymK5KIK2yVFdMKi-2FCRTUD6f-2BXmHBZnee439MA1ROP-2FNtfpaBBIKtrFfH9mCw653Qqs9FgPtukvjpPUIy2l7KYMB3ok4f-2Bdawft-2FAwwdx9pl7K0B8UfjCblp5hBA6w-3D-3D ) along with\\r\\nDesigner News \\r\\n( https://u4898190.ct.sendgrid.net/wf/click?upn=YW1lRBveHigy9pfKCwINry1e07Afw3-2FKvo-2Bo3iqV8SfAGulQE6hkNPyyGVB2GULerMI6wnW8pGfZE-2FfCd8jV5A-3D-3D_f5qCWurvD1qQCAM8njv-2BcIZbstIiWZIpZOOjXCrIEXIJoYOgVu57VeQiqJS5T-2FmXDyUUTQTI39uGZXfVyvQYXzjfYWWvtMfGubXYx4SkGPNzRi7Kv3CFnSLRKG7IQxO16-2FHDoDJOHTlczwR0P7ZJ54bVXRlvOWn0kmMMU8EjnhjcplgGDjRD53BOMs0qql2Vrk63JGVDAAAuCYl0Kw4ndw-3D-3D ),\\r\\nUnicorn Hunt \\r\\n( https://u4898190.ct.sendgrid.net/wf/click?upn=YW1lRBveHigy9pfKCwINrwSapkfN4bq0JBKrkV6E7SfDDW9SjYccMQnL0bFb1m9BNFYFlnR7r7ubH5DBF11tJg-3D-3D_f5qCWurvD1qQCAM8njv-2BcIZbstIiWZIpZOOjXCrIEXIJoYOgVu57VeQiqJS5T-2FmX-2Bn0gC-2FNQKipUzlZk4jDmwOZuJ0rk-2BzF3SqI-2F0cXfuoXi8tir-2F4aQWOOgnvuUVb7JQA2R43BR4CjtK1d3NasrHn5mvLz1rWGIU35kTFMmJtiIzvNvf8aDczW-2FyGaEqJH-2Fhmy-2BEpmNIq5YzIUTfnk4Qg-3D-3D ),\\r\\n\\r\\nFresh Gigs \\r\\n( https://u4898190.ct.sendgrid.net/wf/click?upn=YW1lRBveHigy9pfKCwINr4Ycgd7sbgdANg7KYdR-2FobImrIANjKvpm72pnTL-2FlJNh7yjCgt5Z9m5XnP7MfRgvbQ-3D-3D_f5qCWurvD1qQCAM8njv-2BcIZbstIiWZIpZOOjXCrIEXIJoYOgVu57VeQiqJS5T-2FmXdq5K-2BbYeZiUSTjnYctYh8DlPNCTR7TJMjrbLnEPKzHA7eGEeVF6Enwkf5GuMfyuiqNNT4phyQ0TIuJh5nh0d-2Ft8lzWe48-2F5sPwLAzU2GUl5xBHZnbDUSapRJXuTZc-2FtC9E-2BRAyGI0n4-2F5sy4P9koLA-3D-3D ),\\r\\nFuture Jobs \\r\\n( https://u4898190.ct.sendgrid.net/wf/click?upn=YW1lRBveHigy9pfKCwINr68VgLgSjUVzSo59ApWwaJnQWvsgm9mVSLRGPzgFOiZ9Lfh5q4RAnUptcfFOm9Nqxg-3D-3D_f5qCWurvD1qQCAM8njv-2BcIZbstIiWZIpZOOjXCrIEXIJoYOgVu57VeQiqJS5T-2FmX1ZY6Xd531jgeZyxmt1J8314JnltLpJBBQI2EcbCIRRJkLqNmgC5HU-2B-2BtnSt5AQcv4JC76hYkJ6PXTR7UgBXQEztxIQ6vAaNvPOhQ2MUGyIMLdTTzaeKHHK5Tl-2FN8w6GtYYvPxEEG-2BeoHzXR1utPzrg-3D-3D )\\r\\nand more.\\r\\n\\r\\nWe Work Remotely \\r\\n( https://u4898190.ct.sendgrid.net/wf/click?upn=YW1lRBveHigy9pfKCwINryPH9gXS1fDvrLx7LFjeI5kRW9biOb4VS8blYCFvZFez0ZLrsakmXvfoOfH3twplZg-3D-3D_f5qCWurvD1qQCAM8njv-2BcIZbstIiWZIpZOOjXCrIEXIJoYOgVu57VeQiqJS5T-2FmXjELq8wn-2FlAlrj4IuksFWkrRWNV-2Fykwr-2FVqQFTo7CYV0j4j3WRoEfLBgWylcQOe-2B0BQ1rQkEOmB1lGI92-2BIr7Ja6pdwJMlrkjhDQVEnqjZtrzmxP1o73h3yjXKifJiE0TvDXpEBuH4PWd0d9cY4Yv0A-3D-3D ) • #101 524\\r\\nYates Street, Victoria, BC V8W 1K8, Canada\""
      ]
     },
     "execution_count": 289,
     "metadata": {},
     "output_type": "execute_result"
    }
   ],
   "source": [
    "df.email_content[0]"
   ]
  },
  {
   "cell_type": "code",
   "execution_count": 290,
   "metadata": {},
   "outputs": [
    {
     "data": {
      "text/plain": [
       "\"Your daily We Work Remotely job listings\\r\\n\\r\\nWe Work Remotely \\r\\n( https://u4898190.ct.sendgrid.net/wf/click?upn=YW1lRBveHigy9pfKCwINryPH9gXS1fDvrLx7LFjeI5kRW9biOb4VS8blYCFvZFezLJCeRUrwFMUmHXtbkjCLxg-3D-3D_f5qCWurvD1qQCAM8njv-2BcIZbstIiWZIpZOOjXCrIEXIJoYOgVu57VeQiqJS5T-2FmXFT9asgrRJwxK8pvVnsimT-2B3sVrNXnakqW2S-2B9Hi9q-2B4jvlnrVbuA5R7Ze2u1EN0-2BNlsqo9-2FTvMGAxDEapp43khJDYf1AsKI8cdT0GBebEsk-2F-2FGolqx16867NtPQPfzm1xvt8qwotcN2-2Bcv3KuCaQDQ-3D-3D )\\r\\n\\r\\n********************\\r\\nToday's job listings\\r\\n********************\\r\\n\\r\\nHere are your We Work Remotely job listings for Sunday, February\\r\\n18 2018.\\r\\n\\r\\n-----------\\r\\nProgramming\\r\\n-----------\\r\\n\\r\\nCloud and Rails Security Engineer at Retail Zipline\\r\\n\\r\\n( https://u4898190.ct.sendgrid.net/wf/click?upn=YW1lRBveHigy9pfKCwINryPH9gXS1fDvrLx7LFjeI5lll12hZfj-2B5jeSAhXevx0OKlrZdyS3nhmbSLQazzGBBDU4XuYL2dHviVQDSzt-2Fb4QlQRNK0mgZLH7XripqkQea_f5qCWurvD1qQCAM8njv-2BcIZbstIiWZIpZOOjXCrIEXIJoYOgVu57VeQiqJS5T-2FmXPtfJ7Z7Qo9aLC07ctpX1BFdLkO0wsDmz7pVrr5A5yzlUXdyuswjLlW79dBHcScnJ2RiQRCcDXaHYh8m-2Fm6MCQRsB6J6NBB-2BgHuwzAhvvcFzh0VEgl3KFd1-2FfhWLOSp4b0GsFoPx70H6SDiYOxZS7BA-3D-3D )\\r\\n\\r\\n\\r\\n“Terrific founders with technical and domain expertise, totally\\r\\nfocused on customer success. Their progress in the first two\\r\\nyears is amazing.” - One of our investors\\r\\n\\r\\nRetailers use archaic,...\\r\\n\\r\\nSr Web Developer (PHP) to make events more awesome\\r\\nat Sched \\r\\n( https://u4898190.ct.sendgrid.net/wf/click?upn=YW1lRBveHigy9pfKCwINryPH9gXS1fDvrLx7LFjeI5naS8HLyM9Ba7LbJ-2Fm7dCtFnatWRUwv3B2TKDezAZ-2Bhe-2BshxWxscJPX95jWAnxJkExxFf7tb-2BJuo2EivgmfZ5gfbiFpKttvXcINbZ348w7Lmg-3D-3D_f5qCWurvD1qQCAM8njv-2BcIZbstIiWZIpZOOjXCrIEXIJoYOgVu57VeQiqJS5T-2FmXYFrUCV7n5MHGZH5ZMI72Tcub5xWTe68fEPyVqHiOVQCyIxGwoVf0gA0CenOTANh6KpG4p7Rprtnr9b72LYd7l7Ss-2F-2F0gi4zj2Rk-2FsLJY9SSaUTukrofcC-2BrIdpqfvYHSrCFuUw2NXg0L2vDr0cHBYw-3D-3D )\\r\\n\\r\\n\\r\\nLearn about who we are, what we're looking for and\\r\\nhow you can grow with us:REQUIRED EXPERIENCE\\r\\nOutstanding at communication. We are 100% remote and\\r\\ncommunication means everything.\\r\\n\\r\\nHighly experienced...\\r\\n\\r\\nGood luck with your job hunt!\\r\\n\\r\\nYou’re subscribed to Programming and All\\r\\nOther listings. Click here \\r\\n( https://u4898190.ct.sendgrid.net/wf/click?upn=YW1lRBveHigy9pfKCwINryPH9gXS1fDvrLx7LFjeI5n82bqBiB3BuR3-2BYMW35H7UdkE4Y5xWnboC1P-2FNqJPtq0-2FQyODrK81MRUo8i8bMxdU-3D_f5qCWurvD1qQCAM8njv-2BcIZbstIiWZIpZOOjXCrIEXIJoYOgVu57VeQiqJS5T-2FmXxb-2BFoPXwyikLtzKd7o2wgQqI-2FGV-2F8Vq8XDK45v4DltE3u9lkcsTTBTX0KIW6qBnkeZflQS8UWHvNTOenoi7VMW1zVn5c8iQ4hmiJGzj5iL5EqOcW4b99W6oEEKi4AmHILQgVZzTQWGqSabHRo1yH0Q-3D-3D )\\r\\n to update these categories. You can also unsubscribe here \\r\\n( https://u4898190.ct.sendgrid.net/wf/click?upn=YW1lRBveHigy9pfKCwINryPH9gXS1fDvrLx7LFjeI5n82bqBiB3BuR3-2BYMW35H7U2JlZeV36-2Fwc06Z1G5RvMAfa-2FWO3AXR7bKTFpVVZLcWYXTEFelrBcIIYr0C8mLuU-2B_f5qCWurvD1qQCAM8njv-2BcIZbstIiWZIpZOOjXCrIEXIJoYOgVu57VeQiqJS5T-2FmXSYgthSIjA8Vx3Ii8X9-2FIuLmbLbw0OZ47I59Jg0UPINcWVWRmKkeodbf21hUw4f5Mj33i-2FQ8BZUQ5HF7pRYHTvZdPl-2BNVV5zTvzbItqDphRP1BRpz4ZKPvreXU15U6mvd-2FlL6-2FX4RJbTZ5ES-2FW3NhTA-3D-3D )\\r\\n.\\r\\n\\r\\nWe're Tiny Boards \\r\\n( https://u4898190.ct.sendgrid.net/wf/click?upn=CmTwKX-2FhLm9t8BMDLW68mKKjxDpbxvAljO-2B2drjikdGZNbGrTtw4Xvo2STAHCW7Lu-2BZKP3CXs7s8KluV36jUuQ-3D-3D_f5qCWurvD1qQCAM8njv-2BcIZbstIiWZIpZOOjXCrIEXIJoYOgVu57VeQiqJS5T-2FmXi9CpRBdwDnVnD4rsF4OsCtDUIymK5KIK2yVFdMKi-2FCRTUD6f-2BXmHBZnee439MA1ROP-2FNtfpaBBIKtrFfH9mCw653Qqs9FgPtukvjpPUIy2l7KYMB3ok4f-2Bdawft-2FAwwdx9pl7K0B8UfjCblp5hBA6w-3D-3D ) along with\\r\\nDesigner News \\r\\n( https://u4898190.ct.sendgrid.net/wf/click?upn=YW1lRBveHigy9pfKCwINry1e07Afw3-2FKvo-2Bo3iqV8SfAGulQE6hkNPyyGVB2GULerMI6wnW8pGfZE-2FfCd8jV5A-3D-3D_f5qCWurvD1qQCAM8njv-2BcIZbstIiWZIpZOOjXCrIEXIJoYOgVu57VeQiqJS5T-2FmXDyUUTQTI39uGZXfVyvQYXzjfYWWvtMfGubXYx4SkGPNzRi7Kv3CFnSLRKG7IQxO16-2FHDoDJOHTlczwR0P7ZJ54bVXRlvOWn0kmMMU8EjnhjcplgGDjRD53BOMs0qql2Vrk63JGVDAAAuCYl0Kw4ndw-3D-3D ),\\r\\nUnicorn Hunt \\r\\n( https://u4898190.ct.sendgrid.net/wf/click?upn=YW1lRBveHigy9pfKCwINrwSapkfN4bq0JBKrkV6E7SfDDW9SjYccMQnL0bFb1m9BNFYFlnR7r7ubH5DBF11tJg-3D-3D_f5qCWurvD1qQCAM8njv-2BcIZbstIiWZIpZOOjXCrIEXIJoYOgVu57VeQiqJS5T-2FmX-2Bn0gC-2FNQKipUzlZk4jDmwOZuJ0rk-2BzF3SqI-2F0cXfuoXi8tir-2F4aQWOOgnvuUVb7JQA2R43BR4CjtK1d3NasrHn5mvLz1rWGIU35kTFMmJtiIzvNvf8aDczW-2FyGaEqJH-2Fhmy-2BEpmNIq5YzIUTfnk4Qg-3D-3D ),\\r\\n\\r\\nFresh Gigs \\r\\n( https://u4898190.ct.sendgrid.net/wf/click?upn=YW1lRBveHigy9pfKCwINr4Ycgd7sbgdANg7KYdR-2FobImrIANjKvpm72pnTL-2FlJNh7yjCgt5Z9m5XnP7MfRgvbQ-3D-3D_f5qCWurvD1qQCAM8njv-2BcIZbstIiWZIpZOOjXCrIEXIJoYOgVu57VeQiqJS5T-2FmXdq5K-2BbYeZiUSTjnYctYh8DlPNCTR7TJMjrbLnEPKzHA7eGEeVF6Enwkf5GuMfyuiqNNT4phyQ0TIuJh5nh0d-2Ft8lzWe48-2F5sPwLAzU2GUl5xBHZnbDUSapRJXuTZc-2FtC9E-2BRAyGI0n4-2F5sy4P9koLA-3D-3D ),\\r\\nFuture Jobs \\r\\n( https://u4898190.ct.sendgrid.net/wf/click?upn=YW1lRBveHigy9pfKCwINr68VgLgSjUVzSo59ApWwaJnQWvsgm9mVSLRGPzgFOiZ9Lfh5q4RAnUptcfFOm9Nqxg-3D-3D_f5qCWurvD1qQCAM8njv-2BcIZbstIiWZIpZOOjXCrIEXIJoYOgVu57VeQiqJS5T-2FmX1ZY6Xd531jgeZyxmt1J8314JnltLpJBBQI2EcbCIRRJkLqNmgC5HU-2B-2BtnSt5AQcv4JC76hYkJ6PXTR7UgBXQEztxIQ6vAaNvPOhQ2MUGyIMLdTTzaeKHHK5Tl-2FN8w6GtYYvPxEEG-2BeoHzXR1utPzrg-3D-3D )\\r\\nand more.\\r\\n\\r\\nWe Work Remotely \\r\\n( https://u4898190.ct.sendgrid.net/wf/click?upn=YW1lRBveHigy9pfKCwINryPH9gXS1fDvrLx7LFjeI5kRW9biOb4VS8blYCFvZFez0ZLrsakmXvfoOfH3twplZg-3D-3D_f5qCWurvD1qQCAM8njv-2BcIZbstIiWZIpZOOjXCrIEXIJoYOgVu57VeQiqJS5T-2FmXjELq8wn-2FlAlrj4IuksFWkrRWNV-2Fykwr-2FVqQFTo7CYV0j4j3WRoEfLBgWylcQOe-2B0BQ1rQkEOmB1lGI92-2BIr7Ja6pdwJMlrkjhDQVEnqjZtrzmxP1o73h3yjXKifJiE0TvDXpEBuH4PWd0d9cY4Yv0A-3D-3D ) • #101 524\\r\\nYates Street, Victoria, BC V8W 1K8, Canada\""
      ]
     },
     "execution_count": 290,
     "metadata": {},
     "output_type": "execute_result"
    }
   ],
   "source": [
    "df.email_content[0]"
   ]
  },
  {
   "cell_type": "markdown",
   "metadata": {},
   "source": [
    "# Remotive emails"
   ]
  },
  {
   "cell_type": "code",
   "execution_count": 291,
   "metadata": {
    "collapsed": true
   },
   "outputs": [],
   "source": [
    "# \\r\\n\\r\\n-----------------------------------------------------------------\\r\\nTechnical Customer Support and Customer Success (\\r\\nhttps://el2.convertkit-mail2.com/c/8kuo6xnw8foh3qe4p/zlvughn/aHR0cDovL3JlbW90aXZlLmlvL2pvYi90ZWNobmljYWwtY3VzdG9tZXItc3VwcG9ydC1jdXN0b21lci1zdWNjZXNzLw== )\\r\\n-----------------------------------------------------------------\\r\\n\\r\\n\n",
    "\n",
    "#re_str = \"(\\r\\n\\r\\n-*\\r\\n\\w* \\(\\r\\n)https://\\w*(\\)\\r\\n-*\\r\\n\\r\\n)\"\n",
    "#p = re.compile(re_str, re.IGNORECASE)\n",
    "\n",
    "p =r\"(?<=---).{1,100} \\( ?https://\\S* \\)-*\"\n"
   ]
  },
  {
   "cell_type": "code",
   "execution_count": 283,
   "metadata": {},
   "outputs": [
    {
     "data": {
      "text/plain": [
       "\"Your daily We Work Remotely job listingsWe Work Remotely ( https://u4898190.ct.sendgrid.net/wf/click?upn=YW1lRBveHigy9pfKCwINryPH9gXS1fDvrLx7LFjeI5kRW9biOb4VS8blYCFvZFezLJCeRUrwFMUmHXtbkjCLxg-3D-3D_f5qCWurvD1qQCAM8njv-2BcIZbstIiWZIpZOOjXCrIEXIJoYOgVu57VeQiqJS5T-2FmXFT9asgrRJwxK8pvVnsimT-2B3sVrNXnakqW2S-2B9Hi9q-2B4jvlnrVbuA5R7Ze2u1EN0-2BNlsqo9-2FTvMGAxDEapp43khJDYf1AsKI8cdT0GBebEsk-2F-2FGolqx16867NtPQPfzm1xvt8qwotcN2-2Bcv3KuCaQDQ-3D-3D )********************Today's job listings********************Here are your We Work Remotely job listings for Sunday, February18 2018.-----------Programming-----------Cloud and Rails Security Engineer at Retail Zipline( https://u4898190.ct.sendgrid.net/wf/click?upn=YW1lRBveHigy9pfKCwINryPH9gXS1fDvrLx7LFjeI5lll12hZfj-2B5jeSAhXevx0OKlrZdyS3nhmbSLQazzGBBDU4XuYL2dHviVQDSzt-2Fb4QlQRNK0mgZLH7XripqkQea_f5qCWurvD1qQCAM8njv-2BcIZbstIiWZIpZOOjXCrIEXIJoYOgVu57VeQiqJS5T-2FmXPtfJ7Z7Qo9aLC07ctpX1BFdLkO0wsDmz7pVrr5A5yzlUXdyuswjLlW79dBHcScnJ2RiQRCcDXaHYh8m-2Fm6MCQRsB6J6NBB-2BgHuwzAhvvcFzh0VEgl3KFd1-2FfhWLOSp4b0GsFoPx70H6SDiYOxZS7BA-3D-3D )“Terrific founders with technical and domain expertise, totallyfocused on customer success. Their progress in the first twoyears is amazing.” - One of our investorsRetailers use archaic,...Sr Web Developer (PHP) to make events more awesomeat Sched ( https://u4898190.ct.sendgrid.net/wf/click?upn=YW1lRBveHigy9pfKCwINryPH9gXS1fDvrLx7LFjeI5naS8HLyM9Ba7LbJ-2Fm7dCtFnatWRUwv3B2TKDezAZ-2Bhe-2BshxWxscJPX95jWAnxJkExxFf7tb-2BJuo2EivgmfZ5gfbiFpKttvXcINbZ348w7Lmg-3D-3D_f5qCWurvD1qQCAM8njv-2BcIZbstIiWZIpZOOjXCrIEXIJoYOgVu57VeQiqJS5T-2FmXYFrUCV7n5MHGZH5ZMI72Tcub5xWTe68fEPyVqHiOVQCyIxGwoVf0gA0CenOTANh6KpG4p7Rprtnr9b72LYd7l7Ss-2F-2F0gi4zj2Rk-2FsLJY9SSaUTukrofcC-2BrIdpqfvYHSrCFuUw2NXg0L2vDr0cHBYw-3D-3D )Learn about who we are, what we're looking for andhow you can grow with us:REQUIRED EXPERIENCEOutstanding at communication. We are 100% remote andcommunication means everything.Highly experienced...Good luck with your job hunt!You’re subscribed to Programming and AllOther listings. Click here ( https://u4898190.ct.sendgrid.net/wf/click?upn=YW1lRBveHigy9pfKCwINryPH9gXS1fDvrLx7LFjeI5n82bqBiB3BuR3-2BYMW35H7UdkE4Y5xWnboC1P-2FNqJPtq0-2FQyODrK81MRUo8i8bMxdU-3D_f5qCWurvD1qQCAM8njv-2BcIZbstIiWZIpZOOjXCrIEXIJoYOgVu57VeQiqJS5T-2FmXxb-2BFoPXwyikLtzKd7o2wgQqI-2FGV-2F8Vq8XDK45v4DltE3u9lkcsTTBTX0KIW6qBnkeZflQS8UWHvNTOenoi7VMW1zVn5c8iQ4hmiJGzj5iL5EqOcW4b99W6oEEKi4AmHILQgVZzTQWGqSabHRo1yH0Q-3D-3D ) to update these categories. You can also \""
      ]
     },
     "execution_count": 283,
     "metadata": {},
     "output_type": "execute_result"
    }
   ],
   "source": [
    "text = df.email_content[0]\n",
    "text = re.sub(r'\\\\n', r'\\r\\n', text)\n",
    "text = re.sub(r'\\r\\n', r'', text)\n",
    "#text = re.sub(r'\\n\\n', r'', text)\n",
    "text = re.sub(r'unsubscribe.*', r'', text, flags=re.IGNORECASE)\n",
    "text = re.sub(r'.*-Rodolphe', r'', text, flags=re.IGNORECASE)\n",
    "#print(text)\n",
    "text"
   ]
  },
  {
   "cell_type": "code",
   "execution_count": 268,
   "metadata": {},
   "outputs": [
    {
     "data": {
      "text/plain": [
       "[]"
      ]
     },
     "execution_count": 268,
     "metadata": {},
     "output_type": "execute_result"
    }
   ],
   "source": [
    "links_list = re.findall(p, text)\n",
    "links_list"
   ]
  },
  {
   "cell_type": "code",
   "execution_count": 248,
   "metadata": {},
   "outputs": [
    {
     "data": {
      "text/plain": [
       "0"
      ]
     },
     "execution_count": 248,
     "metadata": {},
     "output_type": "execute_result"
    }
   ],
   "source": [
    "# should be 10\n",
    "\n",
    "len(links_list)"
   ]
  },
  {
   "cell_type": "code",
   "execution_count": 239,
   "metadata": {},
   "outputs": [
    {
     "data": {
      "text/plain": [
       "['https://el2.convertkit-mail2.com/c/8kuo6xnw8foh3qe4p/e5uph7/aHR0cHM6Ly9yZW1vdGl2ZS5pby9qb2IvamF2YS1lbmdpbmVlci1zb2xyLw==',\n",
       " 'https://el2.convertkit-mail2.com/c/8kuo6xnw8foh3qe4p/zvtghn/aHR0cDovL3JlbW90aXZlLmlvL2pvYi9kZXZlbG9wZXItZXhwZXJpZW5jZS11c2luZy1zd2lmdC8=',\n",
       " 'https://el2.convertkit-mail2.com/c/8kuo6xnw8foh3qe4p/60aeh8/aHR0cDovL3JlbW90aXZlLmlvL2pvYi9iYWNrZW5kLWRldmVsb3Blci8=',\n",
       " 'https://el2.convertkit-mail2.com/c/8kuo6xnw8foh3qe4p/2ou2ho/aHR0cDovL3JlbW90aXZlLmlvL2pvYi9mcm9udGVuZC1kZXZlbG9wZXIv',\n",
       " 'https://el2.convertkit-mail2.com/c/8kuo6xnw8foh3qe4p/93tzhn/aHR0cDovL3JlbW90aXZlLmlvL2pvYi9sZWFkLXJlYWN0LWVuZ2luZWVyLw==',\n",
       " 'https://el2.convertkit-mail2.com/c/8kuo6xnw8foh3qe4p/43avhe/aHR0cDovL3JlbW90aXZlLmlvL2pvYi9tYXJrZXRpbmctZW5naW5lZXIv',\n",
       " 'https://el2.convertkit-mail2.com/c/8kuo6xnw8foh3qe4p/0luwh9/aHR0cDovL3JlbW90aXZlLmlvL2pvYi9zaXRlLXJlbGlhYmlsaXR5LWVuZ2luZWVyLTEv',\n",
       " 'https://el2.convertkit-mail2.com/c/8kuo6xnw8foh3qe4p/lotehm/aHR0cDovL3JlbW90aXZlLmlvL2pvYi9jb25zdWx0aW5nLWVuZ2luZWVyLw==',\n",
       " 'https://el2.convertkit-mail2.com/c/8kuo6xnw8foh3qe4p/e55aph7/aHR0cDovL3JlbW90aXZlLmlvL2pvYi9sZWFkLWxheW91dC1lbmdpbmVlci8=',\n",
       " 'https://el2.convertkit-mail2.com/c/8kuo6xnw8foh3qe4p/zlvughn/aHR0cDovL3JlbW90aXZlLmlvL2pvYi90ZWNobmljYWwtY3VzdG9tZXItc3VwcG9ydC1jdXN0b21lci1zdWNjZXNzLw==']"
      ]
     },
     "execution_count": 239,
     "metadata": {},
     "output_type": "execute_result"
    }
   ],
   "source": [
    "# clean the links\n",
    "\n",
    "links_list_clean = []\n",
    "for linky in links_list:\n",
    "    linky_clean = re.search(r'(?<=\\() ?https?://.*(?=\\))', linky, re.IGNORECASE).group().strip()\n",
    "    if linky_clean not in set(links_list_clean):\n",
    "        links_list_clean.append(linky_clean)\n",
    "    \n",
    "links_list_clean"
   ]
  },
  {
   "cell_type": "code",
   "execution_count": 109,
   "metadata": {},
   "outputs": [
    {
     "data": {
      "text/plain": [
       "10"
      ]
     },
     "execution_count": 109,
     "metadata": {},
     "output_type": "execute_result"
    }
   ],
   "source": [
    "len(links_list_clean)"
   ]
  },
  {
   "cell_type": "code",
   "execution_count": 132,
   "metadata": {},
   "outputs": [
    {
     "data": {
      "text/plain": [
       "'https://el2.convertkit-mail2.com/c/8kuo6xnw8foh3qe4p/e5uph7/aHR0cHM6Ly9yZW1vdGl2ZS5pby9qb2IvamF2YS1lbmdpbmVlci1zb2xyLw=='"
      ]
     },
     "execution_count": 132,
     "metadata": {},
     "output_type": "execute_result"
    }
   ],
   "source": [
    "# loop over job posts in email\n",
    "linky_url = links_list_clean[0]\n",
    "linky_url"
   ]
  },
  {
   "cell_type": "code",
   "execution_count": 133,
   "metadata": {
    "collapsed": true
   },
   "outputs": [],
   "source": [
    "driver.get(linky_url)"
   ]
  },
  {
   "cell_type": "code",
   "execution_count": 137,
   "metadata": {},
   "outputs": [
    {
     "name": "stdout",
     "output_type": "stream",
     "text": [
      "Java Engineer (Solr)\n"
     ]
    }
   ],
   "source": [
    "# job title\n",
    "selector = '//h2[@class=\"page-title\"]'\n",
    "job_title = driver.find_elements_by_xpath(selector)[0].text\n",
    "print(job_title)"
   ]
  },
  {
   "cell_type": "code",
   "execution_count": 117,
   "metadata": {},
   "outputs": [
    {
     "name": "stdout",
     "output_type": "stream",
     "text": [
      "Help Scout\n"
     ]
    }
   ],
   "source": [
    "# company name\n",
    "selector = '//ul[@class=\"job-listing-meta meta\"]/li[@class=\"job-company\"]/a'\n",
    "company_name = driver.find_element_by_xpath(selector).text\n",
    "print(company_name)"
   ]
  },
  {
   "cell_type": "code",
   "execution_count": 119,
   "metadata": {},
   "outputs": [
    {
     "name": "stdout",
     "output_type": "stream",
     "text": [
      "Remote\n"
     ]
    }
   ],
   "source": [
    "# location\n",
    "selector = '//ul[@class=\"job-listing-meta meta\"]/li[@class=\"location\"]'\n",
    "location = driver.find_element_by_xpath(selector).text\n",
    "print(location)"
   ]
  },
  {
   "cell_type": "code",
   "execution_count": 120,
   "metadata": {},
   "outputs": [
    {
     "name": "stdout",
     "output_type": "stream",
     "text": [
      "Posted 5 days ago\n"
     ]
    }
   ],
   "source": [
    "# date posted\n",
    "selector = '//ul[@class=\"job-listing-meta meta\"]/li[@class=\"date-posted\"]'\n",
    "date_posted = driver.find_element_by_xpath(selector).text\n",
    "print(date_posted)"
   ]
  },
  {
   "cell_type": "code",
   "execution_count": 127,
   "metadata": {},
   "outputs": [
    {
     "name": "stdout",
     "output_type": "stream",
     "text": [
      "Overview\n",
      "The ideal engineer for this position has experience designing and implementing search and large data solutions at scale. You love building RESTful APIs and other web services. You relish the opportunity to take on a challenging problem, choose the right tool for the job and build an elegant, scalable solution. Your work as an experienced Java engineer will empower over 8,000 businesses around the world to provide great customer service, and will support the other senior engineers on your team.\n",
      "  We leverage Solr for several services at Help Scout and are looking for someone that can improve and maintain our implementation as we grow.\n",
      "  Tools We Use\n",
      "Apache Solr, Java, Spring, Play, MySQL, AWS, Hibernate\n",
      "Slack, Trello, Github, Sentry, Postman Pro, Jenkins\n",
      "About the role\n",
      "You will join our two-person search team in owning the enhancement of the data quality and data processing on our large-scale search platform. On a daily basis, you’ll work on improving existing code, adding new functionality and API endpoints all with a focus on testing and documentation.\n",
      "We are constantly improving our search and reporting capabilities and you will work on new challenging projects such as streamlining the Reports infrastructure, improving search relevancy and solving large scale data problems.\n",
      "Our engineering team is currently thirty people, just over half the company. As part of our eight-person Java team you will be involved in the decisions made regarding implementation, testing, and backlog prioritization.\n",
      "We work in two-week iterations, communicate mostly via Slack and are committed to remote, agile development. When you are ready, you’ll create and send a pull request with tests and tag your team for review – using video and screen-sharing as needed. Your development builds can be easily tested on environments that closely match production. You’ll work autonomously for the most part and we trust you to get work done when/where you can be productive.\n",
      "Your team performs engineering support when a question can’t be answered by our in-house support team and passes triage. We’ll get you up-to-speed with engineering support so you can help our customers and improve the product along the way.\n",
      "Everything is secondary to the customer experience. We expect you to have a keen sense of how your code will impact the experience in terms of performance, security and usability.\n",
      "You’ll be working with product people that challenge you to get better every day. The founders are technical and committed to creating a magical experience for customers. You’ll deploy work that moves the needle for businesses around the world.\n",
      "About you\n",
      "You became an engineer because you like writing software that helps people.\n",
      "You bring a level of Java-specific expertise that will help us craft an outstanding experience for customers and fellow developers.\n",
      "You are a skilled and passionate engineer who is friendly, collaborative, and supportive.\n",
      "You value personal growth and constructive feedback.\n",
      "You demonstrate an empathetic, organized and collaborative communication style with fellow engineers and non-engineering stakeholders.\n",
      "You will consider how your work impacts others, and demonstrate thoughtful, flexible approaches to mentoring and guiding technical decisions.\n",
      "Your code is not only a pleasure for customers to use, but for other engineers to read and understand easily.\n",
      "Benefits\n",
      "Competitive Salary – We pay at or above market salary in most cases and evaluate a lot of research to make sure everyone is paid well. The formula we use to calculate all salaries is public to employees and is improved upon regularly.\n",
      "Work anywhere – Provided you have 4 hours of overlap with the team. We’ll fly you to Boston for a week of new employee on-boarding and buy your home office furniture or help you pay for a co-working space.\n",
      "Health and dental insurance – We cover you and your family’s health/dental insurance 100%. If you are based in the US, we’ll cover you on our Aetna policy. If you’re based outside the US, we’ll reimburse your out-of-pocket health and dental insurance costs.\n",
      "Long-term/Short-term Disability Insurance & Life Insurance – we cover 100% of the premiums for LT/ST Disability insurance and base Life Insurance. You also have the option to purchase supplementary life insurance through our provider. (currently US only)\n",
      "Flexible vacation – Take time off when you need it, we trust you.\n",
      "Paid parental leave, including adoption- 12 weeks if you have or adopt a baby, 4 weeks if your partner has a baby.\n",
      "401k with 1% match- via Betterment for Business (currently US only)\n",
      "Personal Development stipend – Up to $1,800 per year to improve your craft\n",
      "Great tools – Each employee will be provided with a Mac laptop and 27” display (or equivalent equipment of choice). We’ll also purchase any additional software or hardware you need.\n",
      "Complete transparency – Everyone has full access to business metrics and financial information about the company.\n",
      " \n"
     ]
    }
   ],
   "source": [
    "# job posting\n",
    "selector = \"//div[contains(concat(' ', @class, ' '), ' job-overview ')]\"\n",
    "job_posting = driver.find_element_by_xpath(selector).text\n",
    "print(job_posting)"
   ]
  },
  {
   "cell_type": "code",
   "execution_count": 128,
   "metadata": {},
   "outputs": [
    {
     "name": "stdout",
     "output_type": "stream",
     "text": [
      "About Help Scout\n",
      "Help Scout is made by roughly 70 people in 40+ cities around the world, all with a passion for excellence in their craft.\n",
      "We come from diverse backgrounds and are united by an enthusiasm for great products and delightful customer experiences.\n",
      "Since launching in April of 2011, Help Scout now powers 8,000+ support teams in over 140 countries. Our software is used and trusted by businesses of every shape and size.\n",
      "Designed to go the distance\n",
      "Our mission is to foster the world’s customer-centric businesses by providing tools that serve customers in the most human, helpful way. While growth is important, team and values are paramount. We’re always striving to do impactful work we’re proud of in lieu of chasing overnight success.\n",
      "We’re builders without borders\n",
      "Our entire team is free to work remotely from wherever they choose. We overcome remote challenges through transparency, trust, and video conferencing. The reward is worth the effort—we’ll take talent, skill, and diverse perspectives over local geography any day.\n",
      "Above all, we want Help Scout to be a place where passionate people can do their very best work. You won’t find any ping-pong tables or kegerators here. Instead, you’ll be surrounded by driven, supportive teammates who will push you to be better. We take work/life harmony seriously, too, as we want every career at Help Scout to be a long and satisfying one.\n",
      "Diversity & Inclusion\n",
      "We are an equal opportunity employer and are committed to building a company that embraces and celebrates diversity and inclusion. We do not discriminate on the basis of race, religion, color, national origin, gender, gender identity or expression, sexual orientation, age, marital status, veteran status, or disability status.\n"
     ]
    }
   ],
   "source": [
    "# company description\n",
    "selector = \"//div[contains(concat(' ', @class, ' '), ' job-company-about ')]\"\n",
    "company_descr = driver.find_element_by_xpath(selector).text\n",
    "print(company_descr)"
   ]
  },
  {
   "cell_type": "code",
   "execution_count": 129,
   "metadata": {},
   "outputs": [
    {
     "data": {
      "text/plain": [
       "'https://remotive.io/job/java-engineer-solr/'"
      ]
     },
     "execution_count": 129,
     "metadata": {},
     "output_type": "execute_result"
    }
   ],
   "source": [
    "# Get current link\n",
    "driver.current_url"
   ]
  },
  {
   "cell_type": "code",
   "execution_count": 130,
   "metadata": {
    "collapsed": true
   },
   "outputs": [],
   "source": [
    "driver.close()"
   ]
  },
  {
   "cell_type": "markdown",
   "metadata": {},
   "source": [
    "# Indeed emails"
   ]
  },
  {
   "cell_type": "code",
   "execution_count": 138,
   "metadata": {},
   "outputs": [
    {
     "data": {
      "text/html": [
       "<div>\n",
       "<style>\n",
       "    .dataframe thead tr:only-child th {\n",
       "        text-align: right;\n",
       "    }\n",
       "\n",
       "    .dataframe thead th {\n",
       "        text-align: left;\n",
       "    }\n",
       "\n",
       "    .dataframe tbody tr th {\n",
       "        vertical-align: top;\n",
       "    }\n",
       "</style>\n",
       "<table border=\"1\" class=\"dataframe\">\n",
       "  <thead>\n",
       "    <tr style=\"text-align: right;\">\n",
       "      <th></th>\n",
       "      <th>email_from</th>\n",
       "      <th>email_subject</th>\n",
       "      <th>email_content</th>\n",
       "      <th>date</th>\n",
       "    </tr>\n",
       "  </thead>\n",
       "  <tbody>\n",
       "    <tr>\n",
       "      <th>0</th>\n",
       "      <td>Rodolphe Dutel</td>\n",
       "      <td>Remotive Jobs Weekly</td>\n",
       "      <td>Happy Friday,\\r\\n\\r\\nYou've asked us to send y...</td>\n",
       "      <td>2018-02-16 12:48:44</td>\n",
       "    </tr>\n",
       "    <tr>\n",
       "      <th>1</th>\n",
       "      <td>We Work Remotely</td>\n",
       "      <td>Listings for Sun, Feb 18</td>\n",
       "      <td>Your daily We Work Remotely job listings\\r\\n\\r...</td>\n",
       "      <td>Sun, 18 Feb 2018 04:14:19 +0000 (UTC)</td>\n",
       "    </tr>\n",
       "    <tr>\n",
       "      <th>2</th>\n",
       "      <td>We Work Remotely</td>\n",
       "      <td>Listings for Mon, Feb 19</td>\n",
       "      <td>Your daily We Work Remotely job listings\\r\\n\\r...</td>\n",
       "      <td>Mon, 19 Feb 2018 04:15:13 +0000 (UTC)</td>\n",
       "    </tr>\n",
       "    <tr>\n",
       "      <th>3</th>\n",
       "      <td>Indeed Job Alert</td>\n",
       "      <td>You have new recommended jobs: Senior Data Sci...</td>\n",
       "      <td>Recommended Jobs for You\\r\\n\\r\\nJobs 1 to 23 o...</td>\n",
       "      <td>Mon, 19 Feb 2018 13:12:58 -0600 (CST)</td>\n",
       "    </tr>\n",
       "  </tbody>\n",
       "</table>\n",
       "</div>"
      ],
      "text/plain": [
       "         email_from                                      email_subject  \\\n",
       "0    Rodolphe Dutel                               Remotive Jobs Weekly   \n",
       "1  We Work Remotely                           Listings for Sun, Feb 18   \n",
       "2  We Work Remotely                           Listings for Mon, Feb 19   \n",
       "3  Indeed Job Alert  You have new recommended jobs: Senior Data Sci...   \n",
       "\n",
       "                                       email_content  \\\n",
       "0  Happy Friday,\\r\\n\\r\\nYou've asked us to send y...   \n",
       "1  Your daily We Work Remotely job listings\\r\\n\\r...   \n",
       "2  Your daily We Work Remotely job listings\\r\\n\\r...   \n",
       "3  Recommended Jobs for You\\r\\n\\r\\nJobs 1 to 23 o...   \n",
       "\n",
       "                                    date  \n",
       "0                    2018-02-16 12:48:44  \n",
       "1  Sun, 18 Feb 2018 04:14:19 +0000 (UTC)  \n",
       "2  Mon, 19 Feb 2018 04:15:13 +0000 (UTC)  \n",
       "3  Mon, 19 Feb 2018 13:12:58 -0600 (CST)  "
      ]
     },
     "execution_count": 138,
     "metadata": {},
     "output_type": "execute_result"
    }
   ],
   "source": [
    "df"
   ]
  },
  {
   "cell_type": "code",
   "execution_count": 170,
   "metadata": {},
   "outputs": [
    {
     "data": {
      "text/plain": [
       "\"Recommended Jobs for You\\r\\n\\r\\nJobs 1 to 23 of 23 recommendations\\r\\nView all recommended jobs: https://www.indeed.com/recommendedjobs?from=rje&tk=1c6nnh4em1db5a8e&key=424055209985802272&rgtk=1c6nnnfhq39vpecv\\r\\n\\r\\n\\r\\nSenior Data Scientist\\r\\nBluecore - New York, NY\\r\\nWe are looking for Senior Data Scientists with strong mathematical backgrounds to work alongside our engineering teams to build the next generation of retail...\\r\\nBluecore - Feb 19\\r\\nhttps://www.indeed.com/rc/clk?jk=6c7ebde0dbd89142&from=rje&rgtk=1c6nnh4em1db5a8e\\r\\n\\r\\nData Scientist\\r\\nLoadsmart - New York, NY\\r\\nSoftware development skills in Python or R. At Loadsmart, we won't settle for the status quo in logistics....\\r\\nLoadSmart - Feb 19\\r\\nhttps://www.indeed.com/rc/clk?jk=59a797491eb26a8c&from=rje&rgtk=1c6nnh4em1db5a8e\\r\\n\\r\\nData Scientist\\r\\nFoursquare - New York, NY\\r\\n3+ years work experience as a data scientist or in analytics, working with big datasets. Familiarity with Foursquare or location data and an ability to clearly...\\r\\nfoursquare - Feb 18\\r\\nhttps://www.indeed.com/rc/clk?jk=7490c513ac10a12c&from=rje&rgtk=1c6nnh4em1db5a8e\\r\\n\\r\\nData Scientist / Signal Researcher\\r\\nThe Hagan-Ricci Group, Inc. - New York, NY\\r\\n$200,000 - $300,000 a year\\r\\nExpert coder in at least two of the following:. Experience with numerical analysis in Python using pandas, numpy, scipy, statsmodels, etc....\\r\\nThe Hagan-Ricci Group, Inc. - Feb 16\\r\\nhttps://www.indeed.com/rc/clk?jk=4eceac18fce041d1&from=rje&rgtk=1c6nnh4em1db5a8e\\r\\n\\r\\nData Scientist Intern\\r\\nOath Inc - New York, NY\\r\\nCurrently enrolled in an MS or PhD program in Computer Science, Software Engineering, Math, Statistics or related field....\\r\\nOath Inc - Feb 17\\r\\nhttps://www.indeed.com/rc/clk?jk=6b82f29c6741d6e5&from=rje&rgtk=1c6nnh4em1db5a8e\\r\\n\\r\\nData Scientist - New York\\r\\nBenevolentAI - New York, NY\\r\\nYou are bringing expertise and excellence in Data Science. The Data Scientist will be a core team member of our high impact team based in New York....\\r\\nBenevolentAI - Feb 13\\r\\nhttps://www.indeed.com/rc/clk?jk=89a671ea11d57c12&from=rje&rgtk=1c6nnh4em1db5a8e\\r\\n\\r\\nSenior Data Scientist\\r\\nWeight Watchers International - New York, NY\\r\\nAdvanced Degree (Ph.D./MS) in Statistics or a related quantitative discipline. Experience with Google Cloud Platform (Dataflow, Beam, BigQuery, Tensorflow) a...\\r\\nWeight Watchers International - Feb 17\\r\\nhttps://www.indeed.com/rc/clk?jk=1c9df0f237366ecc&from=rje&rgtk=1c6nnh4em1db5a8e\\r\\n\\r\\nData Scientist Intern\\r\\nSphereOI Studios - McLean, VA\\r\\n*Job Summary* SphereOI is seeking a Data Scientist Intern to work in our analytics studio in McLean, VA where our team develops and operationalizes advanced...\\r\\nIndeed - Feb 16\\r\\nhttps://www.indeed.com/rc/clk?jk=21cec82830aaeac2&from=rje&rgtk=1c6nnh4em1db5a8e\\r\\n\\r\\nSenior Data Scientist\\r\\nCapgemini: RO - New York, NY\\r\\nShort Description About Capgemini With more than 193,000 people in over 44 countries, Capgemini is one of the world's foremost providers of consulting,...\\r\\nCapgemini - Feb 19\\r\\nhttps://www.indeed.com/rc/clk?jk=0c3d5016781c6555&from=rje&rgtk=1c6nnh4em1db5a8e\\r\\n\\r\\nData Scientist\\r\\nTwitter - San Francisco, CA\\r\\nMS in Statistics, Computer Science, Econometrics, Computational Research or related field. We do not discriminate based on race, ethnicity, color, ancestry,...\\r\\nTwitter - Feb 11\\r\\nhttps://www.indeed.com/rc/clk?jk=4a3134853e77264f&from=rje&rgtk=1c6nnh4em1db5a8e\\r\\n\\r\\nData Scientist - Alexa Language Technologies\\r\\nAmazon.com - East Palo Alto, CA\\r\\nBachelor's degree in Math, Finance, Statistics, Engineering or related discipline. Experience using baselines to accurately determine cause and effect relations...\\r\\nAmazon.com - Feb 13\\r\\nhttps://www.indeed.com/rc/clk?jk=e9af3391c7e1069f&from=rje&rgtk=1c6nnh4em1db5a8e\\r\\n\\r\\nDATA SCIENTIST\\r\\nPekin Insurance - Pekin, IL\\r\\nMaster’s degree required, PhD preferred, in Applied Mathematics, Statistics, Computer Science, or other related field....\\r\\nPekin Insurance - Feb 9\\r\\nhttps://www.indeed.com/rc/clk?jk=44971a3c0fc6d1db&from=rje&rgtk=1c6nnh4em1db5a8e\\r\\n\\r\\nPython Developer\\r\\nTekniforce,LLC - Raleigh, NC\\r\\n$95,000 - $120,000 a year\\r\\n*Job Summary* *Position: * As a Software Engineer, you will be responsible for many phases of the software development life cycle, including: refining...\\r\\nIndeed - Feb 13\\r\\nhttps://www.indeed.com/rc/clk?jk=880b2a71235d63fa&from=rje&rgtk=1c6nnh4em1db5a8e\\r\\n\\r\\nData Scientist\\r\\nEpsilon - Chicago, IL\\r\\nExperience in Spark, Hive, Scala, Python, or SQL. All job offers are contingent upon successful completion of certain background checks which unless prohibited...\\r\\nEpsilon - Feb 12\\r\\nhttps://www.indeed.com/rc/clk?jk=fed71f97f1d75ad9&from=rje&rgtk=1c6nnh4em1db5a8e\\r\\n\\r\\nAnalytic Software Engineer\\r\\nABB - Raleigh, NC\\r\\nMS in Computer Science, Electrical Engineering with 3 years applied research &amp; development experience, or. Familiarity with Microsoft cloud technologies (Azure,...\\r\\nABB - Feb 12\\r\\nhttps://www.indeed.com/rc/clk?jk=44badc4a45a714fe&from=rje&rgtk=1c6nnh4em1db5a8e\\r\\n\\r\\nAb Initio Application Lead - Raleigh, NC\\r\\nAccenture - Raleigh, NC\\r\\nMinimum of 3 years of Ab Initio ETL experience. Proven ability to work creatively and analytically in a problem-solving environment....\\r\\nAccenture - Feb 7\\r\\nhttps://www.indeed.com/rc/clk?jk=74fe0b225aede1e9&from=rje&rgtk=1c6nnh4em1db5a8e\\r\\n\\r\\nBig Data Developer\\r\\nVoith GmbH - Raleigh, NC\\r\\nStrong desire to learn a variety of technologies and processes with a &quot;can do&quot; attitude. Hands-on working experience with the following technologies:....\\r\\nVoith - Feb 11\\r\\nhttps://www.indeed.com/rc/clk?jk=c94dabca5d3e89d8&from=rje&rgtk=1c6nnh4em1db5a8e\\r\\n\\r\\nData Warehouse - ETL Developer\\r\\nLocal Government Federal Credit Union - Raleigh, NC\\r\\nHere are a few skills you MUST have to be considered for this position. In-depth knowledge of database design and data warehousing....\\r\\nLocal Government Federal Credit Union - Feb 15\\r\\nhttps://www.indeed.com/rc/clk?jk=859f981cef3de9c4&from=rje&rgtk=1c6nnh4em1db5a8e\\r\\n\\r\\nDirector, Data Scientist\\r\\nKPMG - New York, NY\\r\\nA minimum of ten years of relevant experience and expert knowledge in at least one of the following fields:. Known for being a great place to work and build a...\\r\\nKPMG LLP - Feb 16\\r\\nhttps://www.indeed.com/rc/clk?jk=2685f6888b1ff267&from=rje&rgtk=1c6nnh4em1db5a8e\\r\\n\\r\\nStaff Data Scientist - Machine Learning\\r\\nValassis Digital - Morrisville, NC\\r\\nStaff Data Scientist – Machine Learning Valassis Digital is a leader in the business intelligence space, processing over 12 trillion calculations and...\\r\\nValassis Digital - Jan 16\\r\\nhttps://www.indeed.com/rc/clk?jk=e4159bb48f455aa9&from=rje&rgtk=1c6nnh4em1db5a8e\\r\\n\\r\\nChange Management Consultant\\r\\nRed Hat, Inc. - Raleigh, NC\\r\\nBachelor's degree from an accredited institution, ideally in industrial and organizational (I/O) psychology, business administration, or other disciplines...\\r\\nRed Hat, Inc. - Feb 12\\r\\nhttps://www.indeed.com/rc/clk?jk=b47861e83225bab0&from=rje&rgtk=1c6nnh4em1db5a8e\\r\\n\\r\\nData Scientist\\r\\nNational Geospatial-Intelligence Agency - Springfield, VA\\r\\nPay is only part of the compensation you will earn working for the Federal Government. We offer a broad array of benefits programs and family friendly...\\r\\nIndeed - Nov 6\\r\\nhttps://www.indeed.com/rc/clk?jk=7dee0a3754255bee&from=rje&rgtk=1c6nnh4em1db5a8e\\r\\n\\r\\nEnterprise Data Management Consultant\\r\\nDeloitte - Arlington, VA\\r\\nBachelor's degree and at least 1 year of technology consulting or other relevant industry experience. Experience with problem solving in a EDM environment....\\r\\nDeloitte - Nov 28\\r\\nhttps://www.indeed.com/rc/clk?jk=3cad933193f03c30&from=rje&rgtk=1c6nnh4em1db5a8e\\r\\n\\r\\n\\r\\nView all recommended jobs: https://www.indeed.com/recommendedjobs?from=rje&tk=1c6nnh4em1db5a8e&key=424055209985802272&rgtk=1c6nnnfhq39vpecv\\r\\n\\r\\nCancel this Recommended Job Alert: https://subscriptions.indeed.com/alerts/cancel?token=CkBprvaE6mqJCuKOl2vcQelTnyijdck_F8wAgxln1T66avHKzsD5ItCQG37MsJlJwC0uD_DD0HXmb86xJsqd-xeVEiCVU5ok3kGXQakQjWOvSYrhjbhXJPxYjYPhF4Pon-YdXBoQq_oNq5DoFEhynG-Pmu9Y-Q%3D%3D&co=US&hl=en&tmtk=1c6nnh4em1db5a8e&subId=5a88bc7be4b0e74c7b1c11ce&rgtk=1c6nnnfhq39vpecv&from=jarecjobs\\r\\n\\r\\nIndeed - one search. all jobs. | 6433 Champion Grandview Way, Building 1, Austin, TX 78750\\r\\n\""
      ]
     },
     "execution_count": 170,
     "metadata": {},
     "output_type": "execute_result"
    }
   ],
   "source": [
    "df.email_content[3]"
   ]
  },
  {
   "cell_type": "code",
   "execution_count": 171,
   "metadata": {},
   "outputs": [
    {
     "data": {
      "text/plain": [
       "'indeed job alert'"
      ]
     },
     "execution_count": 171,
     "metadata": {},
     "output_type": "execute_result"
    }
   ],
   "source": [
    "# https://www.indeed.com/viewjob?jk=6c7ebde0dbd89142&from=rje&rgtk=1c6nnh4em1db5a8e\n",
    "df.email_from[3].strip().lower()"
   ]
  },
  {
   "cell_type": "code",
   "execution_count": 172,
   "metadata": {},
   "outputs": [
    {
     "data": {
      "text/plain": [
       "\"Recommended Jobs for You  Jobs 1 to 23 of 23 recommendations View all recommended jobs: https://www.indeed.com/recommendedjobs?from=rje&tk=1c6nnh4em1db5a8e&key=424055209985802272&rgtk=1c6nnnfhq39vpecv   Senior Data Scientist Bluecore - New York, NY We are looking for Senior Data Scientists with strong mathematical backgrounds to work alongside our engineering teams to build the next generation of retail... Bluecore - Feb 19 https://www.indeed.com/rc/clk?jk=6c7ebde0dbd89142&from=rje&rgtk=1c6nnh4em1db5a8e  Data Scientist Loadsmart - New York, NY Software development skills in Python or R. At Loadsmart, we won't settle for the status quo in logistics.... LoadSmart - Feb 19 https://www.indeed.com/rc/clk?jk=59a797491eb26a8c&from=rje&rgtk=1c6nnh4em1db5a8e  Data Scientist Foursquare - New York, NY 3+ years work experience as a data scientist or in analytics, working with big datasets. Familiarity with Foursquare or location data and an ability to clearly... foursquare - Feb 18 https://www.indeed.com/rc/clk?jk=7490c513ac10a12c&from=rje&rgtk=1c6nnh4em1db5a8e  Data Scientist / Signal Researcher The Hagan-Ricci Group, Inc. - New York, NY $200,000 - $300,000 a year Expert coder in at least two of the following:. Experience with numerical analysis in Python using pandas, numpy, scipy, statsmodels, etc.... The Hagan-Ricci Group, Inc. - Feb 16 https://www.indeed.com/rc/clk?jk=4eceac18fce041d1&from=rje&rgtk=1c6nnh4em1db5a8e  Data Scientist Intern Oath Inc - New York, NY Currently enrolled in an MS or PhD program in Computer Science, Software Engineering, Math, Statistics or related field.... Oath Inc - Feb 17 https://www.indeed.com/rc/clk?jk=6b82f29c6741d6e5&from=rje&rgtk=1c6nnh4em1db5a8e  Data Scientist - New York BenevolentAI - New York, NY You are bringing expertise and excellence in Data Science. The Data Scientist will be a core team member of our high impact team based in New York.... BenevolentAI - Feb 13 https://www.indeed.com/rc/clk?jk=89a671ea11d57c12&from=rje&rgtk=1c6nnh4em1db5a8e  Senior Data Scientist Weight Watchers International - New York, NY Advanced Degree (Ph.D./MS) in Statistics or a related quantitative discipline. Experience with Google Cloud Platform (Dataflow, Beam, BigQuery, Tensorflow) a... Weight Watchers International - Feb 17 https://www.indeed.com/rc/clk?jk=1c9df0f237366ecc&from=rje&rgtk=1c6nnh4em1db5a8e  Data Scientist Intern SphereOI Studios - McLean, VA *Job Summary* SphereOI is seeking a Data Scientist Intern to work in our analytics studio in McLean, VA where our team develops and operationalizes advanced... Indeed - Feb 16 https://www.indeed.com/rc/clk?jk=21cec82830aaeac2&from=rje&rgtk=1c6nnh4em1db5a8e  Senior Data Scientist Capgemini: RO - New York, NY Short Description About Capgemini With more than 193,000 people in over 44 countries, Capgemini is one of the world's foremost providers of consulting,... Capgemini - Feb 19 https://www.indeed.com/rc/clk?jk=0c3d5016781c6555&from=rje&rgtk=1c6nnh4em1db5a8e  Data Scientist Twitter - San Francisco, CA MS in Statistics, Computer Science, Econometrics, Computational Research or related field. We do not discriminate based on race, ethnicity, color, ancestry,... Twitter - Feb 11 https://www.indeed.com/rc/clk?jk=4a3134853e77264f&from=rje&rgtk=1c6nnh4em1db5a8e  Data Scientist - Alexa Language Technologies Amazon.com - East Palo Alto, CA Bachelor's degree in Math, Finance, Statistics, Engineering or related discipline. Experience using baselines to accurately determine cause and effect relations... Amazon.com - Feb 13 https://www.indeed.com/rc/clk?jk=e9af3391c7e1069f&from=rje&rgtk=1c6nnh4em1db5a8e  DATA SCIENTIST Pekin Insurance - Pekin, IL Master’s degree required, PhD preferred, in Applied Mathematics, Statistics, Computer Science, or other related field.... Pekin Insurance - Feb 9 https://www.indeed.com/rc/clk?jk=44971a3c0fc6d1db&from=rje&rgtk=1c6nnh4em1db5a8e  Python Developer Tekniforce,LLC - Raleigh, NC $95,000 - $120,000 a year *Job Summary* *Position: * As a Software Engineer, you will be responsible for many phases of the software development life cycle, including: refining... Indeed - Feb 13 https://www.indeed.com/rc/clk?jk=880b2a71235d63fa&from=rje&rgtk=1c6nnh4em1db5a8e  Data Scientist Epsilon - Chicago, IL Experience in Spark, Hive, Scala, Python, or SQL. All job offers are contingent upon successful completion of certain background checks which unless prohibited... Epsilon - Feb 12 https://www.indeed.com/rc/clk?jk=fed71f97f1d75ad9&from=rje&rgtk=1c6nnh4em1db5a8e  Analytic Software Engineer ABB - Raleigh, NC MS in Computer Science, Electrical Engineering with 3 years applied research &amp; development experience, or. Familiarity with Microsoft cloud technologies (Azure,... ABB - Feb 12 https://www.indeed.com/rc/clk?jk=44badc4a45a714fe&from=rje&rgtk=1c6nnh4em1db5a8e  Ab Initio Application Lead - Raleigh, NC Accenture - Raleigh, NC Minimum of 3 years of Ab Initio ETL experience. Proven ability to work creatively and analytically in a problem-solving environment.... Accenture - Feb 7 https://www.indeed.com/rc/clk?jk=74fe0b225aede1e9&from=rje&rgtk=1c6nnh4em1db5a8e  Big Data Developer Voith GmbH - Raleigh, NC Strong desire to learn a variety of technologies and processes with a &quot;can do&quot; attitude. Hands-on working experience with the following technologies:.... Voith - Feb 11 https://www.indeed.com/rc/clk?jk=c94dabca5d3e89d8&from=rje&rgtk=1c6nnh4em1db5a8e  Data Warehouse - ETL Developer Local Government Federal Credit Union - Raleigh, NC Here are a few skills you MUST have to be considered for this position. In-depth knowledge of database design and data warehousing.... Local Government Federal Credit Union - Feb 15 https://www.indeed.com/rc/clk?jk=859f981cef3de9c4&from=rje&rgtk=1c6nnh4em1db5a8e  Director, Data Scientist KPMG - New York, NY A minimum of ten years of relevant experience and expert knowledge in at least one of the following fields:. Known for being a great place to work and build a... KPMG LLP - Feb 16 https://www.indeed.com/rc/clk?jk=2685f6888b1ff267&from=rje&rgtk=1c6nnh4em1db5a8e  Staff Data Scientist - Machine Learning Valassis Digital - Morrisville, NC Staff Data Scientist – Machine Learning Valassis Digital is a leader in the business intelligence space, processing over 12 trillion calculations and... Valassis Digital - Jan 16 https://www.indeed.com/rc/clk?jk=e4159bb48f455aa9&from=rje&rgtk=1c6nnh4em1db5a8e  Change Management Consultant Red Hat, Inc. - Raleigh, NC Bachelor's degree from an accredited institution, ideally in industrial and organizational (I/O) psychology, business administration, or other disciplines... Red Hat, Inc. - Feb 12 https://www.indeed.com/rc/clk?jk=b47861e83225bab0&from=rje&rgtk=1c6nnh4em1db5a8e  Data Scientist National Geospatial-Intelligence Agency - Springfield, VA Pay is only part of the compensation you will earn working for the Federal Government. We offer a broad array of benefits programs and family friendly... Indeed - Nov 6 https://www.indeed.com/rc/clk?jk=7dee0a3754255bee&from=rje&rgtk=1c6nnh4em1db5a8e  Enterprise Data Management Consultant Deloitte - Arlington, VA Bachelor's degree and at least 1 year of technology consulting or other relevant industry experience. Experience with problem solving in a EDM environment.... Deloitte - Nov 28 https://www.indeed.com/rc/clk?jk=3cad933193f03c30&from=rje&rgtk=1c6nnh4em1db5a8e   View all recommended jobs: https://www.indeed.com/recommendedjobs?from=rje&tk=1c6nnh4em1db5a8e&key=424055209985802272&rgtk=1c6nnnfhq39vpecv  \""
      ]
     },
     "execution_count": 172,
     "metadata": {},
     "output_type": "execute_result"
    }
   ],
   "source": [
    "text = df.email_content[3]\n",
    "text = re.sub(r'\\r\\n', r' ', text)\n",
    "text = re.sub(r'Cancel this Recommended Job Alert:.*', r'', text, flags=re.IGNORECASE)\n",
    "text"
   ]
  },
  {
   "cell_type": "code",
   "execution_count": 173,
   "metadata": {},
   "outputs": [
    {
     "data": {
      "text/plain": [
       "['https://www.indeed.com/rc/clk?jk=6c7ebde0dbd89142&from=rje&rgtk=1c6nnh4em1db5a8e ',\n",
       " 'https://www.indeed.com/rc/clk?jk=59a797491eb26a8c&from=rje&rgtk=1c6nnh4em1db5a8e ',\n",
       " 'https://www.indeed.com/rc/clk?jk=7490c513ac10a12c&from=rje&rgtk=1c6nnh4em1db5a8e ',\n",
       " 'https://www.indeed.com/rc/clk?jk=4eceac18fce041d1&from=rje&rgtk=1c6nnh4em1db5a8e ',\n",
       " 'https://www.indeed.com/rc/clk?jk=6b82f29c6741d6e5&from=rje&rgtk=1c6nnh4em1db5a8e ',\n",
       " 'https://www.indeed.com/rc/clk?jk=89a671ea11d57c12&from=rje&rgtk=1c6nnh4em1db5a8e ',\n",
       " 'https://www.indeed.com/rc/clk?jk=1c9df0f237366ecc&from=rje&rgtk=1c6nnh4em1db5a8e ',\n",
       " 'https://www.indeed.com/rc/clk?jk=21cec82830aaeac2&from=rje&rgtk=1c6nnh4em1db5a8e ',\n",
       " 'https://www.indeed.com/rc/clk?jk=0c3d5016781c6555&from=rje&rgtk=1c6nnh4em1db5a8e ',\n",
       " 'https://www.indeed.com/rc/clk?jk=4a3134853e77264f&from=rje&rgtk=1c6nnh4em1db5a8e ',\n",
       " 'https://www.indeed.com/rc/clk?jk=e9af3391c7e1069f&from=rje&rgtk=1c6nnh4em1db5a8e ',\n",
       " 'https://www.indeed.com/rc/clk?jk=44971a3c0fc6d1db&from=rje&rgtk=1c6nnh4em1db5a8e ',\n",
       " 'https://www.indeed.com/rc/clk?jk=880b2a71235d63fa&from=rje&rgtk=1c6nnh4em1db5a8e ',\n",
       " 'https://www.indeed.com/rc/clk?jk=fed71f97f1d75ad9&from=rje&rgtk=1c6nnh4em1db5a8e ',\n",
       " 'https://www.indeed.com/rc/clk?jk=44badc4a45a714fe&from=rje&rgtk=1c6nnh4em1db5a8e ',\n",
       " 'https://www.indeed.com/rc/clk?jk=74fe0b225aede1e9&from=rje&rgtk=1c6nnh4em1db5a8e ',\n",
       " 'https://www.indeed.com/rc/clk?jk=c94dabca5d3e89d8&from=rje&rgtk=1c6nnh4em1db5a8e ',\n",
       " 'https://www.indeed.com/rc/clk?jk=859f981cef3de9c4&from=rje&rgtk=1c6nnh4em1db5a8e ',\n",
       " 'https://www.indeed.com/rc/clk?jk=2685f6888b1ff267&from=rje&rgtk=1c6nnh4em1db5a8e ',\n",
       " 'https://www.indeed.com/rc/clk?jk=e4159bb48f455aa9&from=rje&rgtk=1c6nnh4em1db5a8e ',\n",
       " 'https://www.indeed.com/rc/clk?jk=b47861e83225bab0&from=rje&rgtk=1c6nnh4em1db5a8e ',\n",
       " 'https://www.indeed.com/rc/clk?jk=7dee0a3754255bee&from=rje&rgtk=1c6nnh4em1db5a8e ',\n",
       " 'https://www.indeed.com/rc/clk?jk=3cad933193f03c30&from=rje&rgtk=1c6nnh4em1db5a8e ']"
      ]
     },
     "execution_count": 173,
     "metadata": {},
     "output_type": "execute_result"
    }
   ],
   "source": [
    "# parse out the raw link parts\n",
    "p =r\"https://www.indeed.com/rc/\\S* \"\n",
    "\n",
    "links_list = re.findall(p, text)\n",
    "links_list"
   ]
  },
  {
   "cell_type": "code",
   "execution_count": 174,
   "metadata": {},
   "outputs": [
    {
     "data": {
      "text/plain": [
       "23"
      ]
     },
     "execution_count": 174,
     "metadata": {},
     "output_type": "execute_result"
    }
   ],
   "source": [
    "len(links_list)"
   ]
  },
  {
   "cell_type": "code",
   "execution_count": 175,
   "metadata": {},
   "outputs": [
    {
     "data": {
      "text/plain": [
       "'https://www.indeed.com/rc/clk?jk=6c7ebde0dbd89142&from=rje&rgtk=1c6nnh4em1db5a8e '"
      ]
     },
     "execution_count": 175,
     "metadata": {},
     "output_type": "execute_result"
    }
   ],
   "source": [
    "# loop over job posts in email\n",
    "linky_url = links_list[0]\n",
    "linky_url"
   ]
  },
  {
   "cell_type": "code",
   "execution_count": 176,
   "metadata": {
    "collapsed": true
   },
   "outputs": [],
   "source": [
    "driver.get(linky_url)"
   ]
  },
  {
   "cell_type": "code",
   "execution_count": 149,
   "metadata": {},
   "outputs": [
    {
     "name": "stdout",
     "output_type": "stream",
     "text": [
      "Senior Data Scientist\n"
     ]
    }
   ],
   "source": [
    "# job title\n",
    "selector = '//table[@id=\"job-content\"]//b[@class=\"jobtitle\"]'\n",
    "job_title = driver.find_elements_by_xpath(selector)[0].text\n",
    "print(job_title)"
   ]
  },
  {
   "cell_type": "code",
   "execution_count": 150,
   "metadata": {},
   "outputs": [
    {
     "name": "stdout",
     "output_type": "stream",
     "text": [
      "Bluecore\n"
     ]
    }
   ],
   "source": [
    "# company name\n",
    "selector = '//table[@id=\"job-content\"]//span[@class=\"company\"]'\n",
    "company_name = driver.find_elements_by_xpath(selector)[0].text\n",
    "print(company_name)"
   ]
  },
  {
   "cell_type": "code",
   "execution_count": 151,
   "metadata": {},
   "outputs": [
    {
     "name": "stdout",
     "output_type": "stream",
     "text": [
      "New York, NY 10002\n"
     ]
    }
   ],
   "source": [
    "# location\n",
    "selector = '//table[@id=\"job-content\"]//span[@class=\"location\"]'\n",
    "location = driver.find_elements_by_xpath(selector)[0].text\n",
    "print(location)"
   ]
  },
  {
   "cell_type": "code",
   "execution_count": 157,
   "metadata": {},
   "outputs": [
    {
     "name": "stdout",
     "output_type": "stream",
     "text": [
      "2 days ago\n"
     ]
    }
   ],
   "source": [
    "# date posted\n",
    "#selector = '//div[@id=\"info-link-row\"]//span[@class=\"date\"]'\n",
    "selector = '//span[@class=\"date\"]'\n",
    "date_posted = driver.find_elements_by_xpath(selector)[0].text\n",
    "print(date_posted)"
   ]
  },
  {
   "cell_type": "code",
   "execution_count": 158,
   "metadata": {},
   "outputs": [
    {
     "name": "stdout",
     "output_type": "stream",
     "text": [
      "We are looking for Senior Data Scientists with strong mathematical backgrounds to work alongside our engineering teams to build the next generation of retail and commerce models that delight and empower marketers. The ideal candidate is one that has several years of experience researching, building, serving, and maintaining data science models at scale. They have first-hand experience with what works and what doesn’t, and are eager to share this experience with more junior members and guide them through that process. They are also able to and excited to help architect and build out the data science architecture needed to accelerate innovation on models and facilitate serving and maintaining them. Finally, they should be curious and eager to identify and explore the myriad of other products that can be built on our data asset. Our culture emphasizes making good tradeoffs, working as a team, and leaving your ego at the door.\n",
      "First-party data is at the core of everything we build and the Data Science team at Bluecore is at the forefront of exploring innovative and exciting ways to activate that data asset. We’re a dedicated team of data scientists and engineers working together to build powerful models that empower marketers to make the right decisions and engage their customers with personalized content. Our approach to building models is an academic one, starting with a literature search, a baseline, and an iterative process of training and validation to identify the most suitable model that is as simple as possible and as powerful as necessary. We employ a wide variety of models, such as Bayesian models for predicting customer lifetime value, and matrix factorization to identify a customer’s product affinity. Our models operate at scale and crunch through millions of data points to make decisions that have been shown to double revenue and triple reach, and are designed in a flexible manner to generalize across our set of 300+ diverse customers who span industries from apparel to automotive. To explore, build, deploy and maintain models we leverage many tools such as BigQuery, Spark, Cloud SQL, Keras, TensorFlow, Airflow, Google App Engine and Google Compute Engine. Finally, we’re a team that values applied research and constantly exploring the frontier of what’s possible; diving into topics such as topic modeling, restricted Boltzmann machines, recurrent neural networks, convolutional neural networks for image feature extraction, and most recently an extensive dive into differential privacy. Responsibilities\n",
      "Identify new opportunities to leverage our data asset\n",
      "Propose and drive technical initiatives\n",
      "Propose infrastructure to accelerate the pace of model exploration and improve model serving and maintenance\n",
      "Meet with customers to discuss our models and our roadmap\n",
      "Identifying appropriate models/algorithms to solve product requirements\n",
      "Meticulous experimentation to evaluate and compare models\n",
      "Writing internal and external facing documentation describing models and approaches\n",
      "Deploying models to production and maintaining them Requirements\n",
      "PhD or MS in Computer Science, Electrical Engineering, Applied Math, Statistics or other relevant quantitative disciplines, or equivalent industry experience\n",
      "Relevant coursework and experience in the fields of Machine Learning, Statistics, Optimization\n",
      "Deep understanding of statistical/probabilistic analysis and linear algebra\n",
      "3+ years of relevant industry experience, including internships\n",
      "Ability to write production-ready code\n",
      "Experience with Natural Language Processing, Deep Learning, Reinforcement Learning, and/or Optimization\n",
      "Experience with ML at scale\n",
      "Experience with scale computing: Hadoop/Scala/Spark/Cassandra\n",
      "Experience with SQL Benefits\n",
      "Highly competitive compensation package including salary and equity as well as the opportunity to work for one of the fastest growing marketing technology start-ups\n",
      "Comprehensive medical, dental, and vision insurance\n",
      "401(k) plan\n",
      "Monthly fitness stipend for a gym membership or fitness classes\n",
      "Monthly NYC Metro Card\n",
      "Generous Parental Leave & flexible vacation policy At Bluecore we believe in fostering an inclusive environment in which employees feel encouraged to share their unique perspectives, leverage their strengths, and act authentically. We know that diverse teams are strong teams, and welcome those from all backgrounds and varying experiences.\n",
      "Bluecore is a proud equal opportunity employer. We are committed to fair hiring practices and to creating a welcoming environment for all team members. All qualified applicants will receive consideration for employment without regard to race, color, religion, gender, gender identity or expression, sexual orientation, national origin, disability, age, familial status or veteran status.\n"
     ]
    }
   ],
   "source": [
    "# job posting\n",
    "selector = '//span[@id=\"job_summary\"]'\n",
    "job_posting = driver.find_elements_by_xpath(selector)[0].text\n",
    "print(job_posting)"
   ]
  },
  {
   "cell_type": "code",
   "execution_count": 177,
   "metadata": {},
   "outputs": [
    {
     "data": {
      "text/plain": [
       "'https://www.indeed.com/viewjob?jk=6c7ebde0dbd89142&from=rje&rgtk=1c6nnh4em1db5a8e'"
      ]
     },
     "execution_count": 177,
     "metadata": {},
     "output_type": "execute_result"
    }
   ],
   "source": [
    "driver.current_url"
   ]
  },
  {
   "cell_type": "code",
   "execution_count": 178,
   "metadata": {
    "collapsed": true
   },
   "outputs": [],
   "source": [
    "# Get company description\n",
    "name_selector = '//div[@class= \"cmp_info\"]//div[@class= \"cmp_title\"]/a'\n",
    "driver.find_element_by_xpath(name_selector).click()\n",
    "current_url = driver.current_url"
   ]
  },
  {
   "cell_type": "code",
   "execution_count": 179,
   "metadata": {},
   "outputs": [
    {
     "data": {
      "text/plain": [
       "'https://www.indeed.com/cmp/Bluecore?from=vjcmpinfo&fromjk=6c7ebde0dbd89142&attributionid=vjcmpinfo'"
      ]
     },
     "execution_count": 179,
     "metadata": {},
     "output_type": "execute_result"
    }
   ],
   "source": [
    "current_url"
   ]
  },
  {
   "cell_type": "code",
   "execution_count": 180,
   "metadata": {},
   "outputs": [
    {
     "name": "stdout",
     "output_type": "stream",
     "text": [
      "At Bluecore we are transforming the way eCommerce marketers use data and automation to communicate with customers. Bluecore’s customer experience platform is designed to simplify the process of ingesting terabytes of behavioral data and automatically taking action on precise insights, driving engagement and conversion rates that defy industry standards.\n"
     ]
    }
   ],
   "source": [
    "# short company descr\n",
    "selector = '//span[@id=\"cmp-short-description\"]'\n",
    "company_descr1 = driver.find_elements_by_xpath(selector)[0].text\n",
    "print(company_descr1)"
   ]
  },
  {
   "cell_type": "code",
   "execution_count": 167,
   "metadata": {
    "collapsed": true
   },
   "outputs": [],
   "source": [
    "from bs4 import BeautifulSoup"
   ]
  },
  {
   "cell_type": "code",
   "execution_count": 181,
   "metadata": {},
   "outputs": [
    {
     "data": {
      "text/plain": [
       "'<!DOCTYPE html>\\n<html xmlns=\"http://www.w3.org/1999/xhtml\">\\n <head>\\n  <title>\\n   Bluecore Careers and Employment | Indeed.com\\n  </title>\\n  <meta content=\"text/html;charset=utf-8\" http-equiv=\"content-type\"/>\\n  <meta content=\"115882278440564\" property=\"fb:app_id\"/>\\n  <meta content=\"website\" property=\"og:type\"/>\\n  <meta content=\"Indeed.com\" property=\"og:site_name\"/>\\n  <meta content=\"http://labkit.indeed.com/static/indeed_fb.png\" property=\"og:image\"/>\\n  <meta content=\"What it is like to work at Bluecore\" property=\"og:title\"/>\\n  <meta content=\"Take an inside look at working for Bluecore as told by real employees.  Find reviews, frequently asked questions and open jobs on Indeed.com.\" property=\"og:description\"/>\\n  <meta content=\"https://www.indeed.com/cmp/Bluecore\" property=\"og:url\"/>\\n  <meta content=\"Research and review Bluecore jobs. Learn more about a career with Bluecore including all recent jobs, hiring trends, salaries, work environment and more.\" name=\"description\"/>\\n  <meta content=\"width = device-width, initial-scale=1.0, maximum-scale=1.0, user-scalable=no\" name=\"viewport\"/>\\n  <link href=\"/cmp/Bluecore\" rel=\"canonical\"/>\\n  <link href=\"https://ar.indeed.com/cmp/Bluecore\" hreflang=\"es-AR\" rel=\"alternate\"/>\\n  <link href=\"https://at.indeed.com/cmp/Bluecore\" hreflang=\"de-AT\" rel=\"alternate\"/>\\n  <link href=\"https://au.indeed.com/cmp/Bluecore\" hreflang=\"en-AU\" rel=\"alternate\"/>\\n  <link href=\"https://be.indeed.com/cmp/Bluecore\" hreflang=\"nl-BE\" rel=\"alternate\"/>\\n  <link href=\"https://emplois.be.indeed.com/cmp/Bluecore\" hreflang=\"fr-BE\" rel=\"alternate\"/>\\n  <link href=\"https://www.indeed.com.br/cmp/Bluecore\" hreflang=\"pt-BR\" rel=\"alternate\"/>\\n  <link href=\"https://ca.indeed.com/cmp/Bluecore\" hreflang=\"en-CA\" rel=\"alternate\"/>\\n  <link href=\"https://emplois.ca.indeed.com/cmp/Bluecore\" hreflang=\"fr-CA\" rel=\"alternate\"/>\\n  <link href=\"https://www.indeed.ch/cmp/Bluecore\" hreflang=\"de-CH\" rel=\"alternate\"/>\\n  <link href=\"https://emplois.indeed.ch/cmp/Bluecore\" hreflang=\"fr-CH\" rel=\"alternate\"/>\\n  <link href=\"https://www.indeed.cl/cmp/Bluecore\" hreflang=\"es-CL\" rel=\"alternate\"/>\\n  <link href=\"https://cn.indeed.com/cmp/Bluecore\" hreflang=\"zh-CN\" rel=\"alternate\"/>\\n  <link href=\"https://co.indeed.com/cmp/Bluecore\" hreflang=\"es-CO\" rel=\"alternate\"/>\\n  <link href=\"https://de.indeed.com/cmp/Bluecore\" hreflang=\"de-DE\" rel=\"alternate\"/>\\n  <link href=\"https://www.indeed.es/cmp/Bluecore\" hreflang=\"es-ES\" rel=\"alternate\"/>\\n  <link href=\"https://www.indeed.fr/cmp/Bluecore\" hreflang=\"fr-FR\" rel=\"alternate\"/>\\n  <link href=\"https://www.indeed.co.uk/cmp/Bluecore\" hreflang=\"en-GB\" rel=\"alternate\"/>\\n  <link href=\"https://www.indeed.hk/cmp/Bluecore\" hreflang=\"en-HK\" rel=\"alternate\"/>\\n  <link href=\"https://ie.indeed.com/cmp/Bluecore\" hreflang=\"en-IE\" rel=\"alternate\"/>\\n  <link href=\"https://www.indeed.co.in/cmp/Bluecore\" hreflang=\"en-IN\" rel=\"alternate\"/>\\n  <link href=\"https://it.indeed.com/cmp/Bluecore\" hreflang=\"it-IT\" rel=\"alternate\"/>\\n  <link href=\"https://jp.indeed.com/cmp/Bluecore\" hreflang=\"ja-JP\" rel=\"alternate\"/>\\n  <link href=\"https://kr.indeed.com/cmp/Bluecore\" hreflang=\"ko-KR\" rel=\"alternate\"/>\\n  <link href=\"https://www.indeed.com.mx/cmp/Bluecore\" hreflang=\"es-MX\" rel=\"alternate\"/>\\n  <link href=\"https://www.indeed.nl/cmp/Bluecore\" hreflang=\"nl-NL\" rel=\"alternate\"/>\\n  <link href=\"https://nz.indeed.com/cmp/Bluecore\" hreflang=\"en-NZ\" rel=\"alternate\"/>\\n  <link href=\"https://pl.indeed.com/cmp/Bluecore\" hreflang=\"pl-PL\" rel=\"alternate\"/>\\n  <link href=\"https://se.indeed.com/cmp/Bluecore\" hreflang=\"sv-SE\" rel=\"alternate\"/>\\n  <link href=\"https://www.indeed.com.sg/cmp/Bluecore\" hreflang=\"en-SG\" rel=\"alternate\"/>\\n  <link href=\"https://www.indeed.com/cmp/Bluecore\" hreflang=\"en-US\" rel=\"alternate\"/>\\n  <link href=\"https://www.indeed.co.za/cmp/Bluecore\" hreflang=\"en-ZA\" rel=\"alternate\"/>\\n  <link href=\"https://www.indeed.ae/cmp/Bluecore\" hreflang=\"en-AE\" rel=\"alternate\"/>\\n  <link href=\"https://bh.indeed.com/cmp/Bluecore\" hreflang=\"en-BH\" rel=\"alternate\"/>\\n  <link href=\"https://cz.indeed.com/cmp/Bluecore\" hreflang=\"cs-CZ\" rel=\"alternate\"/>\\n  <link href=\"https://dk.indeed.com/cmp/Bluecore\" hreflang=\"da-DK\" rel=\"alternate\"/>\\n  <link href=\"https://www.indeed.fi/cmp/Bluecore\" hreflang=\"fi-FI\" rel=\"alternate\"/>\\n  <link href=\"https://gr.indeed.com/cmp/Bluecore\" hreflang=\"el-GR\" rel=\"alternate\"/>\\n  <link href=\"https://hu.indeed.com/cmp/Bluecore\" hreflang=\"hu-HU\" rel=\"alternate\"/>\\n  <link href=\"https://id.indeed.com/cmp/Bluecore\" hreflang=\"in-ID\" rel=\"alternate\"/>\\n  <link href=\"https://kw.indeed.com/cmp/Bluecore\" hreflang=\"en-KW\" rel=\"alternate\"/>\\n  <link href=\"https://www.indeed.lu/cmp/Bluecore\" hreflang=\"de-LU\" rel=\"alternate\"/>\\n  <link href=\"https://www.indeed.com.my/cmp/Bluecore\" hreflang=\"en-MY\" rel=\"alternate\"/>\\n  <link href=\"https://no.indeed.com/cmp/Bluecore\" hreflang=\"no-NO\" rel=\"alternate\"/>\\n  <link href=\"https://om.indeed.com/cmp/Bluecore\" hreflang=\"en-OM\" rel=\"alternate\"/>\\n  <link href=\"https://www.indeed.com.pe/cmp/Bluecore\" hreflang=\"es-PE\" rel=\"alternate\"/>\\n  <link href=\"https://www.indeed.com.ph/cmp/Bluecore\" hreflang=\"en-PH\" rel=\"alternate\"/>\\n  <link href=\"https://www.indeed.com.pk/cmp/Bluecore\" hreflang=\"en-PK\" rel=\"alternate\"/>\\n  <link href=\"https://www.indeed.pt/cmp/Bluecore\" hreflang=\"pt-PT\" rel=\"alternate\"/>\\n  <link href=\"https://qa.indeed.com/cmp/Bluecore\" hreflang=\"en-QA\" rel=\"alternate\"/>\\n  <link href=\"https://ro.indeed.com/cmp/Bluecore\" hreflang=\"ro-RO\" rel=\"alternate\"/>\\n  <link href=\"https://ru.indeed.com/cmp/Bluecore\" hreflang=\"ru-RU\" rel=\"alternate\"/>\\n  <link href=\"https://th.indeed.com/cmp/Bluecore\" hreflang=\"th-TH\" rel=\"alternate\"/>\\n  <link href=\"https://tr.indeed.com/cmp/Bluecore\" hreflang=\"tr-TR\" rel=\"alternate\"/>\\n  <link href=\"https://tw.indeed.com/cmp/Bluecore\" hreflang=\"zh-TW\" rel=\"alternate\"/>\\n  <link href=\"https://ve.indeed.com/cmp/Bluecore\" hreflang=\"es-VE\" rel=\"alternate\"/>\\n  <link href=\"https://vn.indeed.com/cmp/Bluecore\" hreflang=\"vi-VN\" rel=\"alternate\"/>\\n  <link href=\"https://jobs.vn.indeed.com/cmp/Bluecore\" hreflang=\"en-VN\" rel=\"alternate\"/>\\n  <link href=\"https://cr.indeed.com/cmp/Bluecore\" hreflang=\"es-CR\" rel=\"alternate\"/>\\n  <link href=\"https://ec.indeed.com/cmp/Bluecore\" hreflang=\"es-EC\" rel=\"alternate\"/>\\n  <link href=\"https://eg.indeed.com/cmp/Bluecore\" hreflang=\"ar-EG\" rel=\"alternate\"/>\\n  <link href=\"https://ma.indeed.com/cmp/Bluecore\" hreflang=\"fr-MA\" rel=\"alternate\"/>\\n  <link href=\"https://ng.indeed.com/cmp/Bluecore\" hreflang=\"en-NG\" rel=\"alternate\"/>\\n  <link href=\"https://pa.indeed.com/cmp/Bluecore\" hreflang=\"es-PA\" rel=\"alternate\"/>\\n  <link href=\"https://ua.indeed.com/cmp/Bluecore\" hreflang=\"ru-UA\" rel=\"alternate\"/>\\n  <link href=\"https://uy.indeed.com/cmp/Bluecore\" hreflang=\"es-UY\" rel=\"alternate\"/>\\n  <link href=\"android-app://com.indeed.android.jobsearch/http/www.indeed.com/cmp/Bluecore\" rel=\"alternate\"/>\\n  <script async=\"\" src=\"https://www.google-analytics.com/plugins/ua/linkid.js\" type=\"text/javascript\">\\n  </script>\\n  <script async=\"\" src=\"https://sb.scorecardresearch.com/beacon.js\">\\n  </script>\\n  <script async=\"\" src=\"https://connect.facebook.net/signals/config/579216298929618?v=2.8.12&amp;r=stable\">\\n  </script>\\n  <script async=\"\" src=\"https://connect.facebook.net/en_US/fbevents.js\">\\n  </script>\\n  <script async=\"\" src=\"//www.google-analytics.com/analytics.js\">\\n  </script>\\n  <script id=\"facebook-jssdk\" src=\"//connect.facebook.net/en_US/sdk.js#xfbml=1&amp;version=v2.3&amp;appId=115882278440564\">\\n  </script>\\n  <script id=\"twitter-wjs\" src=\"https://platform.twitter.com/widgets.js\">\\n  </script>\\n  <script type=\"text/javascript\">\\n   window.__JSERROR__=[];window.onerror=function() { window.__JSERROR__.push(arguments)}\\n  </script>\\n  <link href=\"/s/527e0f0/global.css\" rel=\"stylesheet\" type=\"text/css\"/>\\n  <link href=\"/cmp/_s/s/65bcd10/cmp-pc-min.css\" rel=\"stylesheet\" type=\"text/css\"/>\\n  <script crossorigin=\"anonymous\" src=\"//t.indeed.com/s/21bb7b3/turnstile-compiled.js\">\\n  </script>\\n  <script async=\"\" charset=\"utf-8\" src=\"https://platform.twitter.com/js/timeline.25e3f797ea5047ab5a8d06fd6ee7f701.js\" type=\"text/javascript\">\\n  </script>\\n  <style type=\"text/css\">\\n   .fb_hidden{position:absolute;top:-10000px;z-index:10001}.fb_reposition{overflow:hidden;position:relative}.fb_invisible{display:none}.fb_reset{background:none;border:0;border-spacing:0;color:#000;cursor:auto;direction:ltr;font-family:\"lucida grande\", tahoma, verdana, arial, sans-serif;font-size:11px;font-style:normal;font-variant:normal;font-weight:normal;letter-spacing:normal;line-height:1;margin:0;overflow:visible;padding:0;text-align:left;text-decoration:none;text-indent:0;text-shadow:none;text-transform:none;visibility:visible;white-space:normal;word-spacing:normal}.fb_reset&gt;div{overflow:hidden}.fb_link img{border:none}@keyframes fb_transform{from{opacity:0;transform:scale(.95)}to{opacity:1;transform:scale(1)}}.fb_animate{animation:fb_transform .3s forwards}\\n.fb_dialog{background:rgba(82, 82, 82, .7);position:absolute;top:-10000px;z-index:10001}.fb_reset .fb_dialog_legacy{overflow:visible}.fb_dialog_advanced{padding:10px;-moz-border-radius:8px;-webkit-border-radius:8px;border-radius:8px}.fb_dialog_content{background:#fff;color:#333}.fb_dialog_close_icon{background:url(https://static.xx.fbcdn.net/rsrc.php/v3/yq/r/IE9JII6Z1Ys.png) no-repeat scroll 0 0 transparent;cursor:pointer;display:block;height:15px;position:absolute;right:18px;top:17px;width:15px}.fb_dialog_mobile .fb_dialog_close_icon{top:5px;left:5px;right:auto}.fb_dialog_padding{background-color:transparent;position:absolute;width:1px;z-index:-1}.fb_dialog_close_icon:hover{background:url(https://static.xx.fbcdn.net/rsrc.php/v3/yq/r/IE9JII6Z1Ys.png) no-repeat scroll 0 -15px transparent}.fb_dialog_close_icon:active{background:url(https://static.xx.fbcdn.net/rsrc.php/v3/yq/r/IE9JII6Z1Ys.png) no-repeat scroll 0 -30px transparent}.fb_dialog_loader{background-color:#f6f7f9;border:1px solid #606060;font-size:24px;padding:20px}.fb_dialog_top_left,.fb_dialog_top_right,.fb_dialog_bottom_left,.fb_dialog_bottom_right{height:10px;width:10px;overflow:hidden;position:absolute}.fb_dialog_top_left{background:url(https://static.xx.fbcdn.net/rsrc.php/v3/ye/r/8YeTNIlTZjm.png) no-repeat 0 0;left:-10px;top:-10px}.fb_dialog_top_right{background:url(https://static.xx.fbcdn.net/rsrc.php/v3/ye/r/8YeTNIlTZjm.png) no-repeat 0 -10px;right:-10px;top:-10px}.fb_dialog_bottom_left{background:url(https://static.xx.fbcdn.net/rsrc.php/v3/ye/r/8YeTNIlTZjm.png) no-repeat 0 -20px;bottom:-10px;left:-10px}.fb_dialog_bottom_right{background:url(https://static.xx.fbcdn.net/rsrc.php/v3/ye/r/8YeTNIlTZjm.png) no-repeat 0 -30px;right:-10px;bottom:-10px}.fb_dialog_vert_left,.fb_dialog_vert_right,.fb_dialog_horiz_top,.fb_dialog_horiz_bottom{position:absolute;background:#525252;filter:alpha(opacity=70);opacity:.7}.fb_dialog_vert_left,.fb_dialog_vert_right{width:10px;height:100%}.fb_dialog_vert_left{margin-left:-10px}.fb_dialog_vert_right{right:0;margin-right:-10px}.fb_dialog_horiz_top,.fb_dialog_horiz_bottom{width:100%;height:10px}.fb_dialog_horiz_top{margin-top:-10px}.fb_dialog_horiz_bottom{bottom:0;margin-bottom:-10px}.fb_dialog_iframe{line-height:0}.fb_dialog_content .dialog_title{background:#6d84b4;border:1px solid #365899;color:#fff;font-size:14px;font-weight:bold;margin:0}.fb_dialog_content .dialog_title&gt;span{background:url(https://static.xx.fbcdn.net/rsrc.php/v3/yd/r/Cou7n-nqK52.gif) no-repeat 5px 50%;float:left;padding:5px 0 7px 26px}body.fb_hidden{-webkit-transform:none;height:100%;margin:0;overflow:visible;position:absolute;top:-10000px;left:0;width:100%}.fb_dialog.fb_dialog_mobile.loading{background:url(https://static.xx.fbcdn.net/rsrc.php/v3/ya/r/3rhSv5V8j3o.gif) white no-repeat 50% 50%;min-height:100%;min-width:100%;overflow:hidden;position:absolute;top:0;z-index:10001}.fb_dialog.fb_dialog_mobile.loading.centered{width:auto;height:auto;min-height:initial;min-width:initial;background:none}.fb_dialog.fb_dialog_mobile.loading.centered #fb_dialog_loader_spinner{width:100%}.fb_dialog.fb_dialog_mobile.loading.centered .fb_dialog_content{background:none}.loading.centered #fb_dialog_loader_close{color:#fff;display:block;padding-top:20px;clear:both;font-size:18px}#fb-root #fb_dialog_ipad_overlay{background:rgba(0, 0, 0, .45);position:absolute;bottom:0;left:0;right:0;top:0;width:100%;min-height:100%;z-index:10000}#fb-root #fb_dialog_ipad_overlay.hidden{display:none}.fb_dialog.fb_dialog_mobile.loading iframe{visibility:hidden}.fb_dialog_content .dialog_header{-webkit-box-shadow:white 0 1px 1px -1px inset;background:-webkit-gradient(linear, 0% 0%, 0% 100%, from(#738ABA), to(#2C4987));border-bottom:1px solid;border-color:#1d4088;color:#fff;font:14px Helvetica, sans-serif;font-weight:bold;text-overflow:ellipsis;text-shadow:rgba(0, 30, 84, .296875) 0 -1px 0;vertical-align:middle;white-space:nowrap}.fb_dialog_content .dialog_header table{-webkit-font-smoothing:subpixel-antialiased;height:43px;width:100%}.fb_dialog_content .dialog_header td.header_left{font-size:12px;padding-left:5px;vertical-align:middle;width:60px}.fb_dialog_content .dialog_header td.header_right{font-size:12px;padding-right:5px;vertical-align:middle;width:60px}.fb_dialog_content .touchable_button{background:-webkit-gradient(linear, 0% 0%, 0% 100%, from(#4966A6), color-stop(.5, #355492), to(#2A4887));border:1px solid #29487d;-webkit-background-clip:padding-box;-webkit-border-radius:3px;-webkit-box-shadow:rgba(0, 0, 0, .117188) 0 1px 1px inset, rgba(255, 255, 255, .167969) 0 1px 0;display:inline-block;margin-top:3px;max-width:85px;line-height:18px;padding:4px 12px;position:relative}.fb_dialog_content .dialog_header .touchable_button input{border:none;background:none;color:#fff;font:12px Helvetica, sans-serif;font-weight:bold;margin:2px -12px;padding:2px 6px 3px 6px;text-shadow:rgba(0, 30, 84, .296875) 0 -1px 0}.fb_dialog_content .dialog_header .header_center{color:#fff;font-size:16px;font-weight:bold;line-height:18px;text-align:center;vertical-align:middle}.fb_dialog_content .dialog_content{background:url(https://static.xx.fbcdn.net/rsrc.php/v3/y9/r/jKEcVPZFk-2.gif) no-repeat 50% 50%;border:1px solid #555;border-bottom:0;border-top:0;height:150px}.fb_dialog_content .dialog_footer{background:#f6f7f9;border:1px solid #555;border-top-color:#ccc;height:40px}#fb_dialog_loader_close{float:left}.fb_dialog.fb_dialog_mobile .fb_dialog_close_button{text-shadow:rgba(0, 30, 84, .296875) 0 -1px 0}.fb_dialog.fb_dialog_mobile .fb_dialog_close_icon{visibility:hidden}#fb_dialog_loader_spinner{animation:rotateSpinner 1.2s linear infinite;background-color:transparent;background-image:url(https://static.xx.fbcdn.net/rsrc.php/v3/yD/r/t-wz8gw1xG1.png);background-repeat:no-repeat;background-position:50% 50%;height:24px;width:24px}@keyframes rotateSpinner{0%{transform:rotate(0deg)}100%{transform:rotate(360deg)}}\\n.fb_iframe_widget{display:inline-block;position:relative}.fb_iframe_widget span{display:inline-block;position:relative;text-align:justify}.fb_iframe_widget iframe{position:absolute}.fb_iframe_widget_fluid_desktop,.fb_iframe_widget_fluid_desktop span,.fb_iframe_widget_fluid_desktop iframe{max-width:100%}.fb_iframe_widget_fluid_desktop iframe{min-width:220px;position:relative}.fb_iframe_widget_lift{z-index:1}.fb_hide_iframes iframe{position:relative;left:-10000px}.fb_iframe_widget_loader{position:relative;display:inline-block}.fb_iframe_widget_fluid{display:inline}.fb_iframe_widget_fluid span{width:100%}.fb_iframe_widget_loader iframe{min-height:32px;z-index:2;zoom:1}.fb_iframe_widget_loader .FB_Loader{background:url(https://static.xx.fbcdn.net/rsrc.php/v3/y9/r/jKEcVPZFk-2.gif) no-repeat;height:32px;width:32px;margin-left:-16px;position:absolute;left:50%;z-index:4}\\n.fb_customer_chat_bounce_in{animation-duration:250ms;animation-name:fb_bounce_in}.fb_customer_chat_bounce_out{animation-duration:250ms;animation-name:fb_fade_out}.fb_invisible_flow{display:inherit;height:0;overflow-x:hidden;width:0}.fb_mobile_overlay_active{height:100%;overflow:hidden;position:fixed;width:100%}@keyframes fb_fade_out{from{opacity:1}to{opacity:0}}@keyframes fb_bounce_in{0%{opacity:0;transform:scale(.8, .8);transform-origin:100% 100%}10%{opacity:.1}20%{opacity:.2}30%{opacity:.3}40%{opacity:.4}50%{opacity:.5}60%{opacity:.6}70%{opacity:.7}80%{opacity:.8;transform:scale(1.03, 1.03)}90{opacity:.9}100%{opacity:1;transform:scale(1, 1)}}\\n  </style>\\n </head>\\n <body>\\n  <style type=\"text/css\">\\n   body { margin-top: 0; margin-left: 0; margin-right: 0; padding-top: 0; padding-right: 0; padding-left: 0; }\\n\\n    #g_nav { border-bottom:1px solid #ccc; margin-bottom:9px; }\\n\\n    #g_nav a,\\n    #g_nav a:visited { color: #00c; }\\n\\n    .navBi { display: -moz-inline-box; display: inline-block; padding: 9px 12px; margin: 0; list-style-type: none; }\\n  </style>\\n  <div class=\"left\" data-tn-section=\"globalNav\" id=\"g_nav\" role=\"navigation\">\\n   <table cellpadding=\"0\" cellspacing=\"0\" width=\"100%\">\\n    <tbody>\\n     <tr>\\n      <td nowrap=\"\">\\n       <style type=\"text/css\">\\n        #p_nav a.selected { font-weight: bold; text-decoration:none; color: #000 !important; }\\n       </style>\\n       <div id=\"p_nav\">\\n        <span class=\"navBi\">\\n         <a href=\"/\" id=\"jobsLink\" title=\"Jobs\">\\n          Find Jobs\\n         </a>\\n        </span>\\n        <span class=\"navBi\">\\n         <a class=\"selected\" href=\"/companies\" onmousedown=\"this.href = appendParamsOnce(this.href, \\'?from=headercmplink&amp;attributionid=\\')\">\\n          Company Reviews\\n         </a>\\n        </span>\\n        <span class=\"navBi\">\\n         <a href=\"/salaries\" onmousedown=\"this.href = appendParamsOnce(this.href, \\'?from=headercmplink&amp;attributionid=\\')\">\\n          Find Salaries\\n         </a>\\n        </span>\\n        <span class=\"navBi\">\\n         <a href=\"/resumes?isid=find-resumes&amp;ikw=jobsearch&amp;co=US&amp;hl=en\" id=\"rezLink\">\\n          Find Resumes\\n         </a>\\n        </span>\\n        <span class=\"navBi\">\\n         <a href=\"/hire?hl=en&amp;cc=US\" id=\"empLink\">\\n          Employers / Post Job\\n         </a>\\n        </span>\\n       </div>\\n      </td>\\n      <td align=\"right\" nowrap=\"\">\\n       <script type=\"text/javascript\">\\n        if (typeof window[\\'closureReadyCallbacks\\'] == \\'undefined\\') {\\n        window[\\'closureReadyCallbacks\\'] = [];\\n    }\\n\\n    function call_when_jsall_loaded(cb) {\\n        if (window[\\'closureReady\\']) {\\n            cb();\\n        } else {\\n            window[\\'closureReadyCallbacks\\'].push(cb);\\n        }\\n    }\\n       </script>\\n       <style type=\"text/css\">\\n        #navpromo a,\\n    #navpromo a:visited {\\n        color: #f60;\\n    }\\n\\n    \\n    #u_nav .login_unconfirmed,\\n    #u_nav .login_unconfirmed a,\\n    #u_nav .login_unconfirmed a:visited {\\n        color: #c00\\n    }\\n\\n    #u_nav .resume_pending,\\n    #u_nav .resume_pending a,\\n    #u_nav .resume_pending a:visited {\\n        color: #c00\\n    }\\n\\n    #userOptionsLabel {\\n        position: relative;\\n        z-index: 5;\\n    }\\n\\n    #userOptionsLabel b {\\n        cursor: pointer;\\n        text-decoration: underline;\\n        position: relative;\\n        z-index: 5;\\n    }\\n\\n    #userOptionsLabel:active {\\n        outline: none;\\n    }\\n\\n    #userOptionsLabel.active {\\n        padding: 9px 11px;\\n        margin-bottom: -1px;\\n        _margin-bottom: 0px;\\n        border: 1px solid #ccc;\\n        border-top: 0;\\n    }\\n\\n    #userOptionsLabel.active .arrowStub {\\n        border-width: 0 3px 3px;\\n        _border-width: 0px 3px 4px;\\n        border-color: transparent;\\n        border-bottom-color: #666;\\n        top: -2px;\\n        border-style: dashed dashed solid;\\n    }\\n\\n    #userOptionsLabel.active .halfPxlFix {\\n        background: #fff;\\n        bottom: -3px;\\n        height: 6px;\\n        left: 0;\\n        position: absolute;\\n        right: 0;\\n        border: 1px solid #fff;\\n    }\\n\\n    .arrowStub {\\n        position: relative;\\n        border-style: solid dashed dashed;\\n        border-color: transparent;\\n        border-top-color: #666;\\n        display: -moz-inline-box;\\n        display: inline-block;\\n        font-size: 0;\\n        height: 0;\\n        line-height: 0;\\n        width: 0;\\n    left: 4px;\\n        border-top-width: 3px;\\n        border-bottom-width: 0;\\n        border-right-width: 3px;\\n        padding-top: 1px;\\n        top: -1px;\\n    }\\n\\n    #userOptions {\\n        z-index: 2;\\n        visibility: hidden;\\n        position: absolute;\\n    right: 0;\\n        x_right: -1px;\\n        top: 100%;\\n        padding: 9px 15px;\\n        border: 1px solid #ccc;\\n        background: #fff;\\n        min-width: 150px;\\n        _width: 150px;\\n        text-align: left;\\n    }\\n\\n    #userOptions.open {\\n        visibility: visible;\\n    }\\n\\n    .userOptionItem {\\n        margin: 6px 0;\\n    }\\n\\n    .userOptionItem a {\\n        white-space: nowrap;\\n    }\\n\\n    .userOptionGroup {\\n        border-top: 1px solid #e8e8e8;\\n        margin-top: 12px;\\n    }\\n\\n    .userNameRepeat {\\n        color: #a8a8a8;\\n        padding-right: 48px;\\n        font-weight: bold;\\n    }\\n\\n    .userOptionGroupHeader {\\n        font-weight: bold;\\n        margin: 6px 0;\\n    }\\n\\n    #g_nav {\\n    position: relative;\\n}\\n\\n#g_nav td {\\n    height: 58px;\\n    font-size:13px;\\n}\\n\\n.resumeCTAOrangeOutlineGreyBackgound {\\n    border: #f60 solid 1px;\\n    border-radius: 3px;\\n}\\n\\n.resumeCTAOrangeOutlineGreyBackgound:hover {\\n    background-color: #f7f7f7;\\n}\\n\\n.resumeCTAOrangeOutlineGreyBackgound span {\\n    margin-left: -13px;\\n    margin-right: -13px;\\n}\\n\\n.resumeCTAOrangeOutlineGreyBackgound span a {\\n    text-decoration: none;\\n    width: 100%;\\n    height: 100%;\\n    top: 0;\\n    left: 0;\\n    padding: 9px 12px;\\n}\\n\\n.resumeCTAOrangeOutlineGreyBackgound span a:hover {\\n    text-decoration: none;\\n}\\n\\n.resumeCTAOrangeOutlineOrangeBackgound {\\n    border: #f60 solid 1px;\\n    border-radius: 3px;\\n}\\n\\n.resumeCTAOrangeOutlineOrangeBackgound:hover {\\n    background-color: #fffaf7;\\n}\\n\\n.resumeCTAOrangeOutlineOrangeBackgound span {\\n    margin-left: -12px;\\n    margin-right: -12px;\\n}\\n\\n.resumeCTAOrangeOutlineOrangeBackgound span a {\\n    text-decoration: none;\\n    width: 100%;\\n    height: 100%;\\n    top: 0;\\n    left: 0;\\n    padding: 9px 12px;\\n}\\n\\n.resumeCTAOrangeOutlineOrangeBackgound span a:hover {\\n    text-decoration: none;\\n}\\n       </style>\\n       <div id=\"u_nav\">\\n        <script>\\n         function regExpEscape(s) {\\n    return String(s).replace(/([-()\\\\[\\\\]{}+?*.$\\\\^|,:#&lt;!\\\\\\\\])/g, \\'\\\\\\\\$1\\').\\n            replace(/\\\\x08/g, \\'\\\\\\\\x08\\');\\n}\\n\\n\\nfunction appendParamsOnce(url, params) {\\n    var useParams = params.replace(/^(\\\\?|\\\\&amp;)/, \\'\\');\\n    if (url.match(new RegExp(\\'[\\\\\\\\?|\\\\\\\\&amp;]\\' + regExpEscape(useParams))) == null) {\\n        return url += (url.indexOf(\\'?\\') &gt; 0 ? \\'&amp;\\' : \\'?\\' ) + useParams;\\n    }\\n    return url;\\n}\\n        </script>\\n        <div id=\"user_actions\">\\n         <span class=\"navBi resumeCTAWhiteOutline resumeCTAOrangeOutlineGreyBackgound\">\\n          <span class=\"resume-promo\" id=\"navpromo\">\\n           <a href=\"/promo/resume\" onclick=\"window.location=this.href + \\'?from=nav&amp;subfrom=rezprmstd&amp;trk.origin=&amp;trk.variant=rezprmstd&amp;trk.pos=nav\\'; return false;\">\\n            Upload your resume\\n           </a>\\n          </span>\\n         </span>\\n         <span class=\"navBi\">\\n          <a href=\"https://www.indeed.com/account/login?dest=%2Fcmp%2FBluecore%3Ffrom%3Dvjcmpinfo%26fromjk%3D6c7ebde0dbd89142%26attributionid%3Dvjcmpinfo\" id=\"userOptionsLabel\" rel=\"nofollow\">\\n           Sign in\\n          </a>\\n         </span>\\n        </div>\\n       </div>\\n      </td>\\n     </tr>\\n    </tbody>\\n   </table>\\n   <style>\\n    #float_logo {\\n                background: url(\"/images/indeed_white.png\") no-repeat left center;\\n                background-size: 109px 30px;\\n                display: inline-block;\\n                width: 109px;\\n                height: 30px;\\n                position: absolute;\\n                top: 12px;\\n                left: 9px;\\n            }\\n\\n            @media (-webkit-min-device-pixel-ratio: 2),\\n            (   min--moz-device-pixel-ratio: 2),\\n            (     -o-min-device-pixel-ratio: 2/1),\\n            (        min-device-pixel-ratio: 2),\\n            (                min-resolution: 192dpi),\\n            (                min-resolution: 2dppx) {\\n                #float_logo {\\n                    background: url(\"/images/indeed_white@2x.png\") no-repeat left center;\\n                    background-size: 109px 30px;\\n                }\\n            }\\n   </style>\\n   <a href=\"/\" id=\"float_logo\">\\n   </a>\\n   <style>\\n    #g_nav {\\n        position: relative;\\n    }\\n\\n    \\n    #user_actions #userOptionsLabel.active {\\n        border: 0;\\n        line-height: 58px;\\n        padding: 0 11px;\\n        margin-bottom: 0;\\n    }\\n    #user_actions #userOptionsLabel {\\n        line-height: 58px;\\n        padding: 0 11px;\\n    }\\n    #g_nav td {\\n        \\n                text-align: right;\\n            \\n        height: 58px;\\n    }\\n    #notifCenterLabel.active {\\n        line-height: 58px;\\n        margin-bottom: 0;\\n    }\\n    #notifCenterLabel {\\n        line-height: 58px;\\n    }\\n    #notifBubble {\\n        bottom: 26.5px;\\n    }\\n\\n    #p_nav {\\n        \\n                padding-left: 150px;\\n            \\n    }\\n\\n    \\n        #user_actions .navBi a#userOptionsLabel {\\n            line-height: initial;\\n        }\\n    \\n    #user_actions #userOptions {\\n        -webkit-user-select: none;\\n        -moz-user-select: none;\\n        user-select: none;\\n    }\\n    \\n    #g_nav td:last-child {\\n        width: 1%;\\n    }\\n    \\n    div#g_nav {\\n        margin-bottom: 0;\\n        border-bottom: none;\\n    }\\n    \\n            #g_nav #p_nav a:link,\\n            #g_nav #p_nav a:visited,\\n            .navBi #navpromo a:link,\\n            .navBi #navpromo a:visited,\\n            #g_nav #u_nav .navBi a:link,\\n            #g_nav #u_nav .navBi a:visited\\n            ,#user_actions:not(.loggedin) .navBi #userOptionsLabel\\n            {\\n                color: rgb(255, 255, 255);\\n                text-decoration: none;\\n            }\\n            #g_nav #p_nav a:hover,\\n            .navBi #navpromo a:hover,\\n            #g_nav #u_nav .navBi a:hover,\\n            #user_actions:not(.loggedin) .navBi a#userOptionsLabel:hover\\n            {\\n                text-decoration: underline;\\n            }\\n            \\n            #user_actions #userOptionsLabel b {\\n                text-decoration: none;\\n                color: #ffffff;\\n                font-weight: normal;\\n            }\\n            #user_actions #userOptionsLabel.active b {\\n                color: #ffffff;\\n            }\\n            \\n            #g_nav tr {\\n                background: #2164f3;\\n            }\\n            #user_actions #userOptionsLabel.active {\\n                background: #1251d7;\\n            }\\n            #user_actions #userOptionsLabel.active span.halfPxlFix {\\n                display: none;\\n            }\\n            \\n            #user_actions #userOptionsLabel .arrowStub  {\\n                border-top-color: #ffffff;\\n            }\\n            #user_actions #userOptionsLabel.active .arrowStub {\\n                border-bottom-color: #ffffff;\\n            }\\n            \\n            #g_nav #p_nav a.selected {\\n                color: rgb(255, 255, 255) !important;\\n            }\\n            #notifCenterLabel {\\n                padding: 21.0px 21.0px;\\n            }\\n            #notifCenterLabel.active {\\n                background: #1251d7;\\n                padding: 21.0px 21.0px;\\n                border: 0;\\n            }\\n            #notifCenterLabel .bell-ico {\\n                background: url(/images/bell-solid-white.png);\\n                background: url(\"data:image/svg+xml,%3Csvg%20xmlns%3D%22http%3A//www.w3.org/2000/svg%22%20width%3D%2220%22%20height%3D%2220%22%20viewBox%3D%220%200%2020%2020%22%3E%3Ctitle%3Ebell-solid-white%3C/title%3E%3Cpath%20d%3D%22M18.7143%2015.143C17.2277%2013.8872%2015.5%2011.6372%2015.5%206.7856c0-1.9286-1.597-4.038-4.259-4.4297.0503-.1205.0804-.251.0804-.3917%200-.5324-.432-.9643-.9642-.9643-.5324%200-.9643.432-.9643.9643%200%20.1406.03.2712.0802.3917-2.6618.3918-4.259%202.501-4.259%204.4297%200%204.8516-1.7276%207.1016-3.2142%208.3572%200%20.703.5826%201.2856%201.2857%201.2856h4.5C7.7857%2017.845%208.941%2019%2010.3572%2019c1.4162%200%202.5714-1.155%202.5714-2.5714h4.5c.703%200%201.2857-.5826%201.2857-1.2857z%22%20fill%3D%22%23FFF%22%20fill-rule%3D%22evenodd%22/%3E%3C/svg%3E%0A\"),\\n                    linear-gradient(transparent, transparent);\\n                background-size: 20px 20px;\\n            }\\n            @media (-webkit-min-device-pixel-ratio: 2),\\n            (   min--moz-device-pixel-ratio: 2),\\n            (     -o-min-device-pixel-ratio: 2/1),\\n            (        min-device-pixel-ratio: 2),\\n            (                min-resolution: 192dpi),\\n            (                min-resolution: 2dppx) {\\n                #notifCenterLabel .bell-ico {\\n                    background: url(/images/bell-solid-white@2x.png);\\n                    background: url(\"data:image/svg+xml,%3Csvg%20xmlns%3D%22http%3A//www.w3.org/2000/svg%22%20width%3D%2220%22%20height%3D%2220%22%20viewBox%3D%220%200%2020%2020%22%3E%3Ctitle%3Ebell-solid-white%3C/title%3E%3Cpath%20d%3D%22M18.7143%2015.143C17.2277%2013.8872%2015.5%2011.6372%2015.5%206.7856c0-1.9286-1.597-4.038-4.259-4.4297.0503-.1205.0804-.251.0804-.3917%200-.5324-.432-.9643-.9642-.9643-.5324%200-.9643.432-.9643.9643%200%20.1406.03.2712.0802.3917-2.6618.3918-4.259%202.501-4.259%204.4297%200%204.8516-1.7276%207.1016-3.2142%208.3572%200%20.703.5826%201.2856%201.2857%201.2856h4.5C7.7857%2017.845%208.941%2019%2010.3572%2019c1.4162%200%202.5714-1.155%202.5714-2.5714h4.5c.703%200%201.2857-.5826%201.2857-1.2857z%22%20fill%3D%22%23FFF%22%20fill-rule%3D%22evenodd%22/%3E%3C/svg%3E%0A\"),\\n                        linear-gradient(transparent, transparent);\\n                    background-size: 20px 20px;}\\n            }\\n            #notifCenterLabel .halfPxlFix {\\n                display: none;\\n            }\\n            a#inboxLinkNavbar {\\n                color: #ffffff;\\n            }\\n\\n            .resumeCTAWhiteOutline {\\n                border: white solid 1px;\\n                border-radius: 3px;\\n            }\\n\\n            .resumeCTAWhiteOutline:hover {\\n                text-decoration: none;\\n                background-color: #2d56da;\\n            }\\n\\n            #user_actions .resumeCTAWhiteOutline.navBi #navpromo.resume-promo a:hover {\\n                text-decoration: none;\\n\\n            }\\n        \\n            #refineresultscol {\\n                position: relative;\\n                top: -62px;\\n            }\\n            #branding-td {\\n                visibility: hidden;\\n            }\\n   </style>\\n  </div>\\n  <style>\\n   #userOptions {z-index: 10000;}#g_nav a{text-decoration: none;}#g_nav a:hover{text-decoration: underline;}\\n  </style>\\n  <div class=\"turnstileInfo\" data-tn-application=\"acme-webapp\" data-tn-olth=\"ad40ce22551837d40d3253ae0aa5211b\" data-tn-originlogid=\"1c6vcca56akbi949\" data-tn-originlogtype=\"acmePage\" data-tn-page=\"overview\" dir=\"ltr\" id=\"cmp-root\" itemscope=\"\" itemtype=\"http://schema.org/LocalBusiness\">\\n   <div id=\"cmp-autocomplete-header\">\\n    <div class=\"cmp-jumbotron cmp-autocomplete-curated\" data-tn-section=\"company-search-header\" id=\"cmp-new-search-header\">\\n     <div class=\"cmp-search-header-side-padding\" id=\"cmp-autocomplete-search-card-header\">\\n      <div class=\"cmp-card\">\\n       <form action=\"/cmp\" id=\"cmp-autocomplete-cs-form-header\" method=\"get\">\\n        <div id=\"search-by-company-elem-header\">\\n         <input name=\"from\" type=\"hidden\" value=\"overview-cmp-search-header\"/>\\n         <input aria-haspopup=\"true\" autocomplete=\"off\" class=\"cmp-autocomplete-input-header\" data-initial=\"\" data-search=\"\" id=\"search-by-company-input-header\" maxlength=\"512\" name=\"q\" placeholder=\"Enter a company name\" type=\"text\" value=\"\"/>\\n         <button data-tn-element=\"find-companies-button\" data-tn-link=\"\" type=\"submit\">\\n          Find Companies\\n         </button>\\n        </div>\\n       </form>\\n      </div>\\n     </div>\\n    </div>\\n   </div>\\n   <div id=\"cmp-headerimage\" style=\"background-image: url(\\'https://d2q79iu7y748jz.cloudfront.net/s/_headerimage/c000c01b1bc87a1bfee375e27991873f\\');\">\\n    <img class=\"hidden\" src=\"https://d2q79iu7y748jz.cloudfront.net/s/_headerimage/c000c01b1bc87a1bfee375e27991873f\"/>\\n   </div>\\n   <div id=\"cmp-header-menu-container\">\\n    <div id=\"cmp-header-menu-fixed-width-container\">\\n     <div data-tn-section=\"header-menu\" id=\"cmp-header-menu\">\\n      <div id=\"cmp-header-sticky-wrapper\">\\n       <div id=\"cmp-header\">\\n        <div id=\"cmp-header-content\">\\n         <div id=\"cmp-header-logo\">\\n          <img src=\"https://d2q79iu7y748jz.cloudfront.net/s/_logo/99bef56a53a4ba94fcbe42c295795919\"/>\\n          <meta content=\"https://d2q79iu7y748jz.cloudfront.net/s/_logo/99bef56a53a4ba94fcbe42c295795919\" itemprop=\"image\"/>\\n         </div>\\n         <div id=\"cmp-name-and-rating\">\\n          <div class=\"cmp-company-name\" itemprop=\"name\">\\n           Bluecore\\n          </div>\\n          <div id=\"cmp-header-rating\">\\n           <span class=\"cmp-header-rating-average\">\\n            5.0\\n           </span>\\n           <div class=\"cmp-Rating cmp-Rating--large cmp-Rating--middle\">\\n            <span class=\"cmp-Rating-on\" style=\"width: 100.0%;\">\\n            </span>\\n           </div>\\n           <div class=\"cmp-note\" data-tn-component=\"overall-rating\">\\n            <a data-tn-element=\"reviews-countLink\" data-tn-link=\"\" href=\"/cmp/Bluecore/reviews\">\\n             2 reviews\\n            </a>\\n           </div>\\n          </div>\\n         </div>\\n        </div>\\n        <div id=\"cmp-header-sidebar\">\\n         <div class=\"follow\" id=\"cmp-header-follow-button\">\\n          <table class=\"followForm\">\\n           <tbody>\\n            <tr>\\n             <td>\\n              <span class=\"inwrapBorder\" style=\"width: auto; padding-right: 0px;\">\\n               <span class=\"inwrapBorderTop\">\\n                <button class=\"input_submit followButton\" id=\":0\">\\n                 Follow\\n                </button>\\n               </span>\\n              </span>\\n             </td>\\n             <td class=\"followButtonCaption\">\\n              <span>\\n               Get job updates from Bluecore\\n              </span>\\n             </td>\\n            </tr>\\n           </tbody>\\n          </table>\\n         </div>\\n        </div>\\n       </div>\\n       <div class=\"clearfix cmp-underline-none\" data-tn-component=\"menu\" id=\"cmp-menu-container\">\\n        <ul class=\"cmp-menu cmp-menu-left\">\\n         <li class=\"cmp-menu--overview cmp-menu-selected\" data-tn-element=\"overview-tab\">\\n          <a data-tn-link=\"\" href=\"/cmp/Bluecore\">\\n           <div class=\"cmp-note\">\\n           </div>\\n           About\\n          </a>\\n         </li>\\n         <li class=\"cmp-menu--reviews\" data-tn-element=\"reviews-tab\">\\n          <a data-tn-link=\"\" href=\"/cmp/Bluecore/reviews\">\\n           <div class=\"cmp-note\">\\n            2\\n           </div>\\n           Reviews\\n          </a>\\n         </li>\\n         <li class=\"cmp-menu--salaries\" data-tn-element=\"salaries-tab\">\\n          <a data-tn-link=\"\" href=\"/cmp/Bluecore/salaries\">\\n           <div class=\"cmp-note\">\\n            13\\n           </div>\\n           Salaries\\n          </a>\\n         </li>\\n         <li class=\"cmp-menu--photos\" data-tn-element=\"photos-tab\">\\n          <a data-tn-link=\"\" href=\"/cmp/Bluecore/photos\">\\n           <div class=\"cmp-note\">\\n           </div>\\n           Photos\\n          </a>\\n         </li>\\n         <li class=\"cmp-menu--jobs\" data-tn-element=\"jobs-tab\">\\n          <a data-tn-link=\"\" href=\"/cmp/Bluecore/jobs\">\\n           <div class=\"cmp-note\">\\n            16\\n           </div>\\n           Jobs\\n          </a>\\n         </li>\\n         <li class=\"cmp-menu--qna\" data-tn-element=\"qna-tab\">\\n          <a data-tn-link=\"\" href=\"/cmp/Bluecore/faq\" rel=\"nofollow\">\\n           <div class=\"cmp-note\">\\n           </div>\\n           Q&amp;A\\n          </a>\\n         </li>\\n        </ul>\\n       </div>\\n      </div>\\n     </div>\\n     <div id=\"cmp-header-sticky-spacer\">\\n     </div>\\n    </div>\\n   </div>\\n   <div id=\"cmp-page\">\\n    <div class=\"cmp-inline-block\" id=\"cmp-content\">\\n     <div class=\"cmp-section cmp-with-border cmp-chapter\" data-tn-section=\"about\" id=\"cmp-about\">\\n      <h1 class=\"cmp-section-first-header\">\\n       About Bluecore\\n      </h1>\\n      <div class=\"cmp-section clearfix cmp-about-description\" data-tn-component=\"about-description\">\\n       <p class=\"cmp-body-text\">\\n        <span id=\"cmp-short-description\">\\n         At Bluecore we are transforming the way eCommerce marketers use data and automation to communicate with customers. Bluecore’s customer experience platform is designed to simplify the process of ingesting terabytes of behavioral data and automatically taking action on precise insights, driving engagement and conversion rates that defy industry standards.\\n        </span>\\n        <span id=\"cmp-more-link-container\">\\n         –\\n         <a data-tn-action-click=\"\" data-tn-element=\"more-link\" href=\"javascript:void(0);\" id=\"cmp-more-link\">\\n          more...\\n         </a>\\n        </span>\\n        <span class=\"hidden\" id=\"cmp-more-description\">\\n         We\\'re one of New York City’s fastest growing SaaS start-ups, working with more than 190 customers representing more than 250 high-end apparel, electronics, automotive and other consumer brands.\\n         <br/>\\n         <br/>\\n         We have only one rule: use good judgment. We hire incredible people so we don’t have to institute cumbersome rules or processes. We want you to be free to think, create and get things done on your own terms. We love positive energy in the office. In fact, we need it—happy people are more efficient and creative. So if 6 PM improv classes or midday gym sessions are what makes you happy, we will support you. When you join us, you’re stuck with us. We hired you for you, not just for this job. We know the best people move up and often go on to start their own companies. We want to help you get where you want to go.\\n         <br/>\\n         <br/>\\n         Perks &amp; Benefits\\n         <br/>\\n         - Highly competitive compensation package and opportunity to work for one of the fastest growing start-ups in New York City.\\n         <br/>\\n         - Laid-back office, casual attire. Jeans and a t-shirt always OK, though we have some pretty snappy dressers on this team. The choice is yours.\\n         <br/>\\n         - Free breakfast, lunch, snacks, drinks.\\n         <br/>\\n         - Ergonomic desk options from top to bottom.\\n         <br/>\\n         - Monthly fitness stipend. Yoga, CrossFit, Spin … your choice.\\n         <br/>\\n         - Monthly NYC metro card (or similar public transit pass) paid for.\\n         <br/>\\n         - You’ll receive a new MacBook Pro with appropriate software installed to complete your work.\\n         <br/>\\n         - Full medical, dental and vision benefits program.\\xa0–\\n         <a href=\"javascript:void(0);\" id=\"cmp-less-link\">\\n          less\\n         </a>\\n        </span>\\n       </p>\\n      </div>\\n     </div>\\n     <div class=\"cmp-section cmp-with-border cmp-chapter\" data-tn-section=\"reviews\" id=\"cmp-reviews\">\\n      <h2>\\n       Reviews\\n      </h2>\\n      <div id=\"cmp-review-overview\">\\n       <div class=\"cmp-inline-block cmp-bordered-box\" id=\"cmp-reviews-overall-view\">\\n        <h3>\\n         Overall\\n        </h3>\\n        <div>\\n         <span class=\"cmp-average-rating\">\\n          5.0\\n         </span>\\n         <div class=\"cmp-Rating cmp-Rating--large cmp-Rating--middle\">\\n          <span class=\"cmp-Rating-on\" style=\"width: 100.0%;\">\\n          </span>\\n         </div>\\n         <div class=\"cmp-note\">\\n          Based on 2 reviews\\n         </div>\\n        </div>\\n        <div class=\"cmp-review-histogram\">\\n         <div class=\"cmp-ReviewHistogram\">\\n          <div class=\"cmp-ReviewHistogram-row\">\\n           <span class=\"cmp-ReviewHistogram-label\">\\n            <span class=\"cmp-ReviewHistogram-rating\">\\n             5\\n            </span>\\n            <span class=\"cmp-Star cmp-Star--5 cmp-Star--middle\">\\n            </span>\\n           </span>\\n           <span class=\"cmp-ReviewHistogram-quantity\">\\n            <span class=\"cmp-ReviewHistogram-bar\" style=\"width:190px;\">\\n             <span class=\"cmp-ReviewHistogram-bar-filled\" style=\"width:100.0%\">\\n             </span>\\n            </span>\\n           </span>\\n           <span class=\"cmp-ReviewHistogram-number\">\\n            2\\n           </span>\\n          </div>\\n          <div class=\"cmp-ReviewHistogram-row\">\\n           <span class=\"cmp-ReviewHistogram-label\">\\n            <span class=\"cmp-ReviewHistogram-rating\">\\n             4\\n            </span>\\n            <span class=\"cmp-Star cmp-Star--5 cmp-Star--middle\">\\n            </span>\\n           </span>\\n           <span class=\"cmp-ReviewHistogram-quantity\">\\n            <span class=\"cmp-ReviewHistogram-bar\" style=\"width:190px;\">\\n            </span>\\n           </span>\\n           <span class=\"cmp-ReviewHistogram-number\">\\n            0\\n           </span>\\n          </div>\\n          <div class=\"cmp-ReviewHistogram-row\">\\n           <span class=\"cmp-ReviewHistogram-label\">\\n            <span class=\"cmp-ReviewHistogram-rating\">\\n             3\\n            </span>\\n            <span class=\"cmp-Star cmp-Star--5 cmp-Star--middle\">\\n            </span>\\n           </span>\\n           <span class=\"cmp-ReviewHistogram-quantity\">\\n            <span class=\"cmp-ReviewHistogram-bar\" style=\"width:190px;\">\\n            </span>\\n           </span>\\n           <span class=\"cmp-ReviewHistogram-number\">\\n            0\\n           </span>\\n          </div>\\n          <div class=\"cmp-ReviewHistogram-row\">\\n           <span class=\"cmp-ReviewHistogram-label\">\\n            <span class=\"cmp-ReviewHistogram-rating\">\\n             2\\n            </span>\\n            <span class=\"cmp-Star cmp-Star--5 cmp-Star--middle\">\\n            </span>\\n           </span>\\n           <span class=\"cmp-ReviewHistogram-quantity\">\\n            <span class=\"cmp-ReviewHistogram-bar\" style=\"width:190px;\">\\n            </span>\\n           </span>\\n           <span class=\"cmp-ReviewHistogram-number\">\\n            0\\n           </span>\\n          </div>\\n          <div class=\"cmp-ReviewHistogram-row\">\\n           <span class=\"cmp-ReviewHistogram-label\">\\n            <span class=\"cmp-ReviewHistogram-rating\">\\n             1\\n            </span>\\n            <span class=\"cmp-Star cmp-Star--5 cmp-Star--middle\">\\n            </span>\\n           </span>\\n           <span class=\"cmp-ReviewHistogram-quantity\">\\n            <span class=\"cmp-ReviewHistogram-bar\" style=\"width:190px;\">\\n            </span>\\n           </span>\\n           <span class=\"cmp-ReviewHistogram-number\">\\n            0\\n           </span>\\n          </div>\\n         </div>\\n        </div>\\n       </div>\\n       <dl class=\"cmp-inline-block cmp-dl-list\" id=\"cmp-reviews-attributes\">\\n        <dt>\\n         Work/Life Balance\\n        </dt>\\n        <dd>\\n         <span class=\"cmp-star-rating\">\\n          5.0\\n         </span>\\n         <div class=\"cmp-Rating cmp-Rating--normal cmp-Rating--middle\">\\n          <span class=\"cmp-Rating-on\" style=\"width: 100.0%;\">\\n          </span>\\n         </div>\\n        </dd>\\n        <dt>\\n         Compensation/Benefits\\n        </dt>\\n        <dd>\\n         <span class=\"cmp-star-rating\">\\n          4.5\\n         </span>\\n         <div class=\"cmp-Rating cmp-Rating--normal cmp-Rating--middle\">\\n          <span class=\"cmp-Rating-on\" style=\"width: 90.0%;\">\\n          </span>\\n         </div>\\n        </dd>\\n        <dt>\\n         Job Security/Advancement\\n        </dt>\\n        <dd>\\n         <span class=\"cmp-star-rating\">\\n          4.0\\n         </span>\\n         <div class=\"cmp-Rating cmp-Rating--normal cmp-Rating--middle\">\\n          <span class=\"cmp-Rating-on\" style=\"width: 80.0%;\">\\n          </span>\\n         </div>\\n        </dd>\\n        <dt>\\n         Management\\n        </dt>\\n        <dd>\\n         <span class=\"cmp-star-rating\">\\n          5.0\\n         </span>\\n         <div class=\"cmp-Rating cmp-Rating--normal cmp-Rating--middle\">\\n          <span class=\"cmp-Rating-on\" style=\"width: 100.0%;\">\\n          </span>\\n         </div>\\n        </dd>\\n        <dt>\\n         Culture\\n        </dt>\\n        <dd>\\n         <span class=\"cmp-star-rating\">\\n          5.0\\n         </span>\\n         <div class=\"cmp-Rating cmp-Rating--normal cmp-Rating--middle\">\\n          <span class=\"cmp-Rating-on\" style=\"width: 100.0%;\">\\n          </span>\\n         </div>\\n        </dd>\\n       </dl>\\n      </div>\\n      <div class=\"cmp-section\" data-tn-component=\"featuredReview\" id=\"cmp-featured-review\">\\n       <h3 class=\"cmp-featured-review-header\">\\n        Featured Review\\n       </h3>\\n       <div class=\"cmp-section cmp-review-entry\">\\n        <div class=\"cmp-Rating cmp-Rating--normal cmp-Rating--middle\">\\n         <span class=\"cmp-Rating-on\" style=\"width: 100.0%;\">\\n         </span>\\n        </div>\\n        <div class=\"cmp-strong\">\\n         <a class=\"cmp-featured-review\" data-tn-element=\"featuredReviewLink\" data-tn-link=\"\" href=\"/cmp/Bluecore/reviews?id=fa54073b84fdd132\" rel=\"nofollow\">\\n          Fast-paced, inclusive culture\\n         </a>\\n        </div>\\n        <div class=\"cmp-note\">\\n         Business Operations, New York, NY -\\n         <span>\\n          December 14, 2017\\n         </span>\\n        </div>\\n        <div class=\"cmp-review-text cmp-body-text\">\\n         Working with such a talented team has been an absolute delight. It\\'s refreshing to work for a company whose product you believe in and that provides an executive team that is so driven to see the company succeed and thrive. Can\\'t wait to see what the next year brings.\\n        </div>\\n       </div>\\n      </div>\\n      <div class=\"cmp-section-footer\" data-tn-component=\"reviewLinksSummary\">\\n       <div class=\"cmp-chevron-link\">\\n        <a data-tn-element=\"reviews-viewAllLink\" data-tn-link=\"\" href=\"/cmp/Bluecore/reviews\">\\n         See all 2 Bluecore reviews\\n        </a>\\n        <span class=\"cmp-chevron\">\\n        </span>\\n       </div>\\n       <div class=\"cmp-normal-link\">\\n        <a data-tn-element=\"reviews-addReviewLink\" data-tn-link=\"\" href=\"/cmp/Bluecore/write-review\">\\n         Add a review\\n        </a>\\n       </div>\\n      </div>\\n     </div>\\n     <div class=\"cmp-section cmp-with-border cmp-chapter cmp-overview-salaries\" data-tn-section=\"salaries\" id=\"cmp-salaries\">\\n      <div>\\n       <div class=\"cmp-salaries-icon-question-mark\" id=\"cmp-salary-legal-disclaimer\">\\n       </div>\\n       <h2>\\n        Salaries\\n       </h2>\\n      </div>\\n      <table class=\"cmp-salary-table\">\\n       <tbody>\\n        <tr class=\"cmp-salary-aggregate-table-entry cmp-sal-separate-row\" data-tn-component=\"salary-entry[]\">\\n         <td class=\"cmp-sal-description-col\">\\n          <div class=\"cmp-sal-description\">\\n           <div class=\"cmp-sal-title\">\\n            <a data-tn-element=\"salary-compareLink\" data-tn-link=\"\" href=\"/salaries/Software-Engineer-Salaries-at-Bluecore\">\\n             Software Engineer\\n            </a>\\n           </div>\\n           <div class=\"cmp-sal-note\">\\n            6 salaries reported\\n           </div>\\n          </div>\\n         </td>\\n         <td class=\"cmp-sal-summary-col\">\\n          <div class=\"cmp-sal-summary\">\\n           <span class=\"cmp-salary-amount\">\\n            $110,017\\n           </span>\\n           per year\\n          </div>\\n         </td>\\n         <td class=\"cmp-sal-distribution-col\">\\n          <div class=\"cmp-sal-distribution\">\\n           <ul>\\n            <li style=\"height:4.567440782420896%; width:9.2%; left:0.0%;\">\\n            </li>\\n            <li style=\"height:31.77042565233853%; width:9.2%; left:10.088999999999999%;\">\\n            </li>\\n            <li style=\"height:72.76523965979985%; width:9.2%; left:20.177999999999997%;\">\\n            </li>\\n            <li class=\"cmp-sal-highlight\" style=\"height:90.0%; width:9.2%; left:30.266999999999996%;\">\\n             <span>\\n              <i>\\n              </i>\\n              Most Reported\\n             </span>\\n            </li>\\n            <li style=\"height:77.59699325938843%; width:9.2%; left:40.355999999999995%;\">\\n            </li>\\n            <li style=\"height:53.6512303851865%; width:9.2%; left:50.44499999999999%;\">\\n            </li>\\n            <li style=\"height:32.26671408066827%; width:9.2%; left:60.53399999999999%;\">\\n            </li>\\n            <li style=\"height:17.737647966756995%; width:9.2%; left:70.62299999999999%;\">\\n            </li>\\n            <li style=\"height:9.197729733265295%; width:9.2%; left:80.71199999999999%;\">\\n            </li>\\n            <li style=\"height:4.592994894271303%; width:9.2%; left:90.80099999999999%;\">\\n            </li>\\n           </ul>\\n           <div class=\"cmp-sal-min cmp-sal-caption cmp-float-left\">\\n            <div>\\n            </div>\\n            <span>\\n             $38,000\\n            </span>\\n           </div>\\n           <div class=\"cmp-sal-max cmp-sal-caption cmp-float-right\">\\n            <div>\\n            </div>\\n            <span>\\n             $218,000\\n            </span>\\n           </div>\\n          </div>\\n         </td>\\n        </tr>\\n       </tbody>\\n      </table>\\n      <div class=\"cmp-section-footer cmp-chevron-content cmp-chevron-link\" data-tn-component=\"salaryLinksSummary\">\\n       <a data-tn-element=\"salaries-viewAllLink\" data-tn-link=\"\" href=\"/cmp/Bluecore/salaries\">\\n        See all 1 Bluecore salary\\n       </a>\\n       <span class=\"cmp-chevron\">\\n       </span>\\n      </div>\\n     </div>\\n     <div class=\"cmp-section cmp-with-border cmp-chapter\" data-tn-section=\"jobs\" id=\"cmp-jobs\">\\n      <h2>\\n       Bluecore Jobs\\n      </h2>\\n      <div id=\"cmp-jobs-container\">\\n       <ul data-tn-component=\"jobs-left\">\\n        <li data-tn-element=\"job-entry[]\">\\n         <a class=\"cmp-underline-partial cmp-joblink\" data-tn-link=\"\" href=\"/cmp/_/job?jk=96bd5da9336610e1&amp;tk=1c6vcca56akbi949\" rel=\"nofollow\">\\n          <span class=\"cmp-job-list-location\">\\n           Technical Data Analyst\\n          </span>\\n          <span class=\"cmp-note cmp-underline-partial-none\">\\n           New York, NY\\n          </span>\\n         </a>\\n        </li>\\n        <li data-tn-element=\"job-entry[]\">\\n         <a class=\"cmp-underline-partial cmp-joblink\" data-tn-link=\"\" href=\"/cmp/_/job?jk=575a0e96d4675e09&amp;tk=1c6vcca56akbi949\" rel=\"nofollow\">\\n          <span class=\"cmp-job-list-location\">\\n           Forward Deployed Engineer\\n          </span>\\n          <span class=\"cmp-note cmp-underline-partial-none\">\\n           New York, NY\\n          </span>\\n         </a>\\n        </li>\\n        <li data-tn-element=\"job-entry[]\">\\n         <a class=\"cmp-underline-partial cmp-joblink\" data-tn-link=\"\" href=\"/cmp/_/job?jk=8d7139efddefc635&amp;tk=1c6vcca56akbi949\" rel=\"nofollow\">\\n          <span class=\"cmp-job-list-location\">\\n           Associate Customer Onboarding Manager\\n          </span>\\n          <span class=\"cmp-note cmp-underline-partial-none\">\\n           New York, NY\\n          </span>\\n         </a>\\n        </li>\\n        <li data-tn-element=\"job-entry[]\">\\n         <a class=\"cmp-underline-partial cmp-joblink\" data-tn-link=\"\" href=\"/cmp/_/job?jk=70ffec94688dbec0&amp;tk=1c6vcca56akbi949\" rel=\"nofollow\">\\n          <span class=\"cmp-job-list-location\">\\n           Customer Success Manager\\n          </span>\\n          <span class=\"cmp-note cmp-underline-partial-none\">\\n           New York, NY\\n          </span>\\n         </a>\\n        </li>\\n        <li data-tn-element=\"job-entry[]\">\\n         <a class=\"cmp-underline-partial cmp-joblink\" data-tn-link=\"\" href=\"/cmp/_/job?jk=06bcf11e6532d3cb&amp;tk=1c6vcca56akbi949\" rel=\"nofollow\">\\n          <span class=\"cmp-job-list-location\">\\n           Associate Customer Success Manager\\n          </span>\\n          <span class=\"cmp-note cmp-underline-partial-none\">\\n           New York, NY\\n          </span>\\n         </a>\\n        </li>\\n       </ul>\\n       <ul data-tn-component=\"jobs-right\">\\n        <li data-tn-element=\"job-entry[]\">\\n         <a class=\"cmp-underline-partial cmp-joblink\" data-tn-link=\"\" href=\"/cmp/_/job?jk=abe557a4a69cde3a&amp;tk=1c6vcca56akbi949\" rel=\"nofollow\">\\n          <span class=\"cmp-job-list-location\">\\n           Software Engineer\\n          </span>\\n          <span class=\"cmp-note cmp-underline-partial-none\">\\n           New York, NY\\n          </span>\\n         </a>\\n        </li>\\n        <li data-tn-element=\"job-entry[]\">\\n         <a class=\"cmp-underline-partial cmp-joblink\" data-tn-link=\"\" href=\"/cmp/_/job?jk=7cf52e611c1237c7&amp;tk=1c6vcca56akbi949\" rel=\"nofollow\">\\n          <span class=\"cmp-job-list-location\">\\n           Freelance Visual Designer\\n          </span>\\n          <span class=\"cmp-note cmp-underline-partial-none\">\\n           New York, NY\\n          </span>\\n         </a>\\n        </li>\\n        <li data-tn-element=\"job-entry[]\">\\n         <a class=\"cmp-underline-partial cmp-joblink\" data-tn-link=\"\" href=\"/cmp/_/job?jk=974042d9f99dc826&amp;tk=1c6vcca56akbi949\" rel=\"nofollow\">\\n          <span class=\"cmp-job-list-location\">\\n           Account Executive\\n          </span>\\n          <span class=\"cmp-note cmp-underline-partial-none\">\\n           New York, NY\\n          </span>\\n         </a>\\n        </li>\\n        <li data-tn-element=\"job-entry[]\">\\n         <a class=\"cmp-underline-partial cmp-joblink\" data-tn-link=\"\" href=\"/cmp/_/job?jk=c8fd7a6e735f866b&amp;tk=1c6vcca56akbi949\" rel=\"nofollow\">\\n          <span class=\"cmp-job-list-location\">\\n           Market Development Representative\\n          </span>\\n          <span class=\"cmp-note cmp-underline-partial-none\">\\n           New York, NY\\n          </span>\\n         </a>\\n        </li>\\n        <li data-tn-element=\"job-entry[]\">\\n         <a class=\"cmp-underline-partial cmp-joblink\" data-tn-link=\"\" href=\"/cmp/_/job?jk=848e30010ede0a85&amp;tk=1c6vcca56akbi949\" rel=\"nofollow\">\\n          <span class=\"cmp-job-list-location\">\\n           Senior Forward Deployed Engineer\\n          </span>\\n          <span class=\"cmp-note cmp-underline-partial-none\">\\n           New York, NY\\n          </span>\\n         </a>\\n        </li>\\n       </ul>\\n      </div>\\n      <div class=\"cmp-section-footer cmp-chevron-link clear\" data-tn-component=\"jobLinksSummary\">\\n       <a data-tn-element=\"jobs-viewAllLink\" data-tn-link=\"\" href=\"/cmp/Bluecore/jobs\">\\n        See all 16 Bluecore jobs\\n       </a>\\n       <span class=\"cmp-chevron\">\\n       </span>\\n      </div>\\n     </div>\\n    </div>\\n    <div class=\"cmp-inline-block\" data-tn-section=\"sidebar\" id=\"cmp-sidebar\">\\n     <dl class=\"cmp-claimed-profile-section cmp-sidebar-section\" data-tn-component=\"edit-page\">\\n      <dd>\\n       <span class=\"cmp-claimed-profile-text\" title=\"An individual from this business has claimed this profile. However, Indeed does not verify the accuracy of this information, and not all information found on this profile has been provided by or verified by the business.\">\\n        Claimed Profile\\n       </span>\\n      </dd>\\n     </dl>\\n     <dl class=\"cmp-persist-jobs cmp-persist-jobs-sidebar cmp-dl-list-big cmp-sidebar-section cmp-bordered-box\" data-tn-component=\"recently-viewed-jobs\" id=\"cmp-recently-viewed-jobs\">\\n      <h3>\\n       Recently viewed jobs\\n      </h3>\\n      <dt>\\n       <a data-tn-element=\"persist-jobs-link\" data-tn-link=\"\" href=\"/cmp/_/job?jk=6c7ebde0dbd89142&amp;tk=1c6vcca56akbi949&amp;from=persistjobs\">\\n        Senior Data Scientist\\n       </a>\\n      </dt>\\n      <dd class=\"cmp-persist-jobs-body\">\\n       <span class=\"cmp-persist-jobs-company\">\\n        Bluecore\\n       </span>\\n       -\\n       <span class=\"cmp-persist-jobs-location\">\\n        New York, NY\\n       </span>\\n      </dd>\\n     </dl>\\n     <dl class=\"cmp-dl-list-big cmp-sidebar-section cmp-bordered-box\" data-tn-component=\"metadata\" id=\"cmp-company-details-sidebar\">\\n      <dt>\\n       Headquarters\\n      </dt>\\n      <dd>\\n       124 Rivington Street New York City, NY 10002 United States\\n      </dd>\\n      <dt>\\n       Employees\\n      </dt>\\n      <dd>\\n       51 to 200\\n      </dd>\\n      <dt>\\n       Industry\\n      </dt>\\n      <dd>\\n       <ul class=\"cmp-plain-list\">\\n        <li>\\n         <a data-tn-element=\"industryLink\" data-tn-link=\"\" href=\"/q-Consulting-and-Business-Services-jobs.html\" rel=\"nofollow\">\\n          Consulting and Business Services\\n         </a>\\n        </li>\\n       </ul>\\n      </dd>\\n      <dt>\\n       Links\\n      </dt>\\n      <dd>\\n       <a data-tn-element=\"companyLink[]\" data-tn-link=\"redirect\" href=\"http://bluecore.com/\" rel=\"nofollow noopener\" target=\"_blank\">\\n        Bluecore website\\n       </a>\\n       <br/>\\n      </dd>\\n     </dl>\\n     <div class=\"cmp-post-a-job cmp-dl-list-big cmp-sidebar-section cmp-bordered-box\" id=\"cmp-post-a-job\">\\n      <h3>\\n       Employers\\n      </h3>\\n      <a href=\"/hire?isid=companypg&amp;ikw=about\">\\n       Post a job\\n      </a>\\n      - your next hire is here.\\n     </div>\\n     <div class=\"cmp-sidebar-section cmp-sns-section cmp-tw\">\\n      <h2>\\n       Twitter\\n      </h2>\\n      <div class=\"cmp-sns-section-content\">\\n       <iframe allowfullscreen=\"true\" allowtransparency=\"true\" class=\"twitter-timeline twitter-timeline-rendered\" data-widget-id=\"598838450389790720\" frameborder=\"0\" id=\"twitter-widget-0\" scrolling=\"no\" style=\"position: static; visibility: visible; display: inline-block; width: 300px; height: 420px; padding: 0px; border: none; max-width: 100%; min-width: 180px; margin-top: 0px; margin-bottom: 0px; min-height: 200px;\" title=\"Twitter Timeline\">\\n       </iframe>\\n       <script>\\n        !function(d,s,id){var js,fjs=d.getElementsByTagName(s)[0],p=/^http:/.test(d.location)?\\'http\\':\\'https\\';if(!d.getElementById(id)){js=d.createElement(s);js.id=id;js.src=p+\"://platform.twitter.com/widgets.js\";fjs.parentNode.insertBefore(js,fjs);}}(document,\"script\",\"twitter-wjs\");\\n       </script>\\n      </div>\\n     </div>\\n     <div class=\" fb_reset\" id=\"fb-root\">\\n      <div style=\"position: absolute; top: -10000px; height: 0px; width: 0px;\">\\n       <div>\\n        <iframe allowfullscreen=\"true\" allowtransparency=\"true\" aria-hidden=\"true\" frameborder=\"0\" id=\"fb_xdm_frame_https\" name=\"fb_xdm_frame_https\" scrolling=\"no\" src=\"https://staticxx.facebook.com/connect/xd_arbiter/r/lY4eZXm_YWu.js?version=42#channel=f39416eefa6011c&amp;origin=https%3A%2F%2Fwww.indeed.com\" style=\"border: none;\" tabindex=\"-1\" title=\"Facebook Cross Domain Communication Frame\">\\n        </iframe>\\n       </div>\\n      </div>\\n      <div style=\"position: absolute; top: -10000px; height: 0px; width: 0px;\">\\n       <div>\\n       </div>\\n      </div>\\n     </div>\\n     <script>\\n      (function(d, s, id) {\\n            var js, fjs = d.getElementsByTagName(s)[0];\\n            if (d.getElementById(id)) return;\\n            js = d.createElement(s); js.id = id;\\n            js.src = \"//connect.facebook.net/en_US/sdk.js#xfbml=1&amp;version=v2.3&amp;appId=115882278440564\";\\n            fjs.parentNode.insertBefore(js, fjs);\\n        }(document, \\'script\\', \\'facebook-jssdk\\'));\\n     </script>\\n     <div class=\"cmp-sidebar-section cmp-sns-section cmp-fb\">\\n      <h2>\\n       Facebook\\n      </h2>\\n      <div class=\"fb-page fb_iframe_widget\" data-height=\"420\" data-hide-cover=\"true\" data-href=\"https://www.facebook.com/getbluecore\" data-show-facepile=\"false\" data-show-posts=\"true\" data-width=\"280\" fb-iframe-plugin-query=\"app_id=115882278440564&amp;container_width=280&amp;height=420&amp;hide_cover=true&amp;href=https%3A%2F%2Fwww.facebook.com%2Fgetbluecore&amp;locale=en_US&amp;sdk=joey&amp;show_facepile=false&amp;show_posts=true&amp;width=280\" fb-xfbml-state=\"rendered\">\\n       <span style=\"vertical-align: bottom; width: 280px; height: 420px;\">\\n        <iframe allowfullscreen=\"true\" allowtransparency=\"true\" class=\"\" frameborder=\"0\" height=\"420px\" name=\"f25d03f50b13648\" scrolling=\"no\" src=\"https://www.facebook.com/v2.3/plugins/page.php?app_id=115882278440564&amp;channel=https%3A%2F%2Fstaticxx.facebook.com%2Fconnect%2Fxd_arbiter%2Fr%2FlY4eZXm_YWu.js%3Fversion%3D42%23cb%3Df14770d124791fc%26domain%3Dwww.indeed.com%26origin%3Dhttps%253A%252F%252Fwww.indeed.com%252Ff39416eefa6011c%26relation%3Dparent.parent&amp;container_width=280&amp;height=420&amp;hide_cover=true&amp;href=https%3A%2F%2Fwww.facebook.com%2Fgetbluecore&amp;locale=en_US&amp;sdk=joey&amp;show_facepile=false&amp;show_posts=true&amp;width=280\" style=\"border: none; visibility: visible; width: 280px; height: 420px;\" title=\"fb:page Facebook Social Plugin\" width=\"280px\">\\n        </iframe>\\n       </span>\\n      </div>\\n     </div>\\n    </div>\\n   </div>\\n   <div class=\"clearfix cmp-chapter\" data-tn-section=\"company-search-footer\" id=\"cmp-footer\">\\n    <form action=\"/cmp\" method=\"GET\">\\n     <input name=\"from\" type=\"hidden\" value=\"overview-cmp-search-footer\"/>\\n     <input id=\"q\" name=\"q\" placeholder=\"Company name\" type=\"text\" value=\"\"/>\\n     <input class=\"cmp-button\" data-tn-element=\"find-companies-button\" data-tn-link=\"\" type=\"submit\" value=\"Find companies\"/>\\n    </form>\\n   </div>\\n   <script src=\"/cmp/_s/s/2a8ed6e/static/scripts/i18n/en_US.js\">\\n   </script>\\n   <script src=\"/cmp/_s/s/37195e9/cmp-pc-min.js\">\\n   </script>\\n   <script>\\n    indeed.init( \\'1c6vcca56akbi949\\', \\'\\\\/\\\\/t.indeed.com\\\\/s\\\\/21bb7b3\\\\/turnstile-compiled.js\\',[[2,null],[-1,null],[-1,null],[-1,null],[-1,null],[-1,null],[1,null],[-1,null],[1,null],[1,null],[1,null],[-1,null],[1,null],[1,null],[1,null],[-1,null],[-1,null],[-1,null],[-1,null],[1,null],[-1,null],[-1,null],[1,null],[2,null],[1,null],[-1,null],[1,null],[1,null],[1,null],[-1,null],[-1,null],[-1,null],[-1,[]],[4,null],[1,null],[3,null],[-1,null],[-1,null],[1,null],[1,null],[-1,null],[2,null],[-1,null],[-1,null],[1,null],[2,null],[3,null],[-1,null],[-1,null],[-1,null],[-1,null],[-1,null],[-1,null],[-1,null],[1,null],[-1,null],[1,null],[1,null],[-1,null],[1,null],[-1,null],[1,null],[-1,null],[-1,null],[1,null],[1,null],[-1,null],[-1,null],[-1,null],[-1,null],[1,null],[2,null],[0,null],[-1,null],[1,null],[1,null],[1,null],[1,null],[5,null],[-1,null],[-1,null],[2,null],[-1,null],[-1,null],[2,null],[-1,null],[-1,null],[-1,null],[1,null],[1,null],[1,null],[1,null],[-1,null],[-1,null],[-1,null],[-1,null],[-1,null],[1,null],[1,null],[1,null],[-1,null],[-1,null],[1,null],[-1,null],[8,null],[0,null],[-1,null],[-1,null],[-1,null],[-1,null],[9,null],[3,null],[0,null],[10,null],[-1,null],[-1,null],[1,null],[1,null],[1,null],[0,null],[2,[]],[2,null],[1,null],[2,null],[4,null],[-1,null],[2,null],[1,null],[3,null],[-1,null],[-1,null],[1,null],[-1,null],[2,null],[1,null],[-1,null],[1,null],[0,null],[-1,null],[1,null],[-1,null],[4,null],[-1,null],[-1,null],[4,null],[-1,null],[0,null],[1,null],[1,null],[-1,null],[-1,null],[1,null],[-1,null],[-1,null],[1,null],[-1,null]], \\'en_US\\',false, \\'overview\\', false,false); indeed.pc.init( \\'1c6vcca56akbi949\\', \\'Bluecore\\', \\'c0fade3dd63bb21e\\', \\'overview\\', \\'3d8ad51ba1db02cb18c67f8a9d9edaa4\\',false, \\'\\', \\'\\',false, \\'\\' );\\n   </script>\\n   <script>\\n    indeed.overview(\\'1c6vcca56akbi949\\');\\n   </script>\\n   <script>\\n    new indeed.salariesCommon(false, \\'1c6vcca56akbi949\\', false); indeed.salaryLegalDisclaimerPopup(false);\\n   </script>\\n  </div>\\n  <style type=\"text/css\">\\n   #secondary_nav a,\\n#secondary_nav a:link,\\n#secondary_nav a:visited { color: #77c; text-decoration: none; }\\n#secondary_nav a:hover { text-decoration: underline;  }\\n  </style>\\n  <!-- -->\\n  <div id=\"footerWrapper\" role=\"contentinfo\" style=\"text-align:center;\">\\n   <div id=\"footer\" style=\"text-align:left;\">\\n    <div class=\"separator_bottom\">\\n    </div>\\n    <div id=\"secondary_nav\">\\n     <a href=\"/\" id=\"jobs_product_link\" title=\"Jobs\">\\n      Jobs\\n     </a>\\n     -\\n     <a href=\"/jobtrends/category-trends\">\\n      Job Category Trends\\n     </a>\\n     -\\n     <a href=\"/career-advice?isid=jasx_us-en&amp;ikw=jsfooter\" id=\"careeradvice_product_link\" title=\"Career Advice\">\\n      Career Advice\\n     </a>\\n     -\\n     <script type=\"text/javascript\">\\n      var jobsProductLink = document.getElementById(\\'jobs_product_link\\');\\n     </script>\\n     <a href=\"http://www.hiringlab.org\">\\n      Hiring Lab\\n     </a>\\n     -\\n     <a href=\"/find-jobs.jsp\">\\n      Browse Jobs\\n     </a>\\n     -\\n     <a href=\"/tools/jobseeker/\">\\n      Tools\\n     </a>\\n     -\\n     <a href=\"/publisher\">\\n      API\\n     </a>\\n     -\\n     <a href=\"/intl/en/about.html\">\\n      <span style=\"white-space: nowrap;\">\\n       About\\n      </span>\\n     </a>\\n     -\\n     <a href=\"https://indeed.zendesk.com/hc/en-us\">\\n      Help Center\\n     </a>\\n     <style type=\"text/css\">\\n      #footer-legal {\\n                    margin-top: 10px;\\n                    font-size: 9pt;\\n                }\\n     </style>\\n     <div id=\"footer-legal\">\\n      <div class=\"legal-footer\">\\n       ©2018 Indeed -\\n       <a href=\"/legal\">\\n        Cookies, Privacy and Terms\\n       </a>\\n      </div>\\n     </div>\\n    </div>\\n   </div>\\n  </div>\\n  <script type=\"text/javascript\">\\n   PENDING_ANALYTICS_VARS = window.PENDING_ANALYTICS_VARS || [];\\nPENDING_ANALYTICS_VARS[PENDING_ANALYTICS_VARS.length] = [\\'_setCustomVar\\', 1, \\'acmeTest\\', \\'true\\', 3];\\n  </script>\\n  <script type=\"text/javascript\">\\n   PENDING_ANALYTICS_VARS = window.PENDING_ANALYTICS_VARS || [];\\nPENDING_ANALYTICS_VARS[PENDING_ANALYTICS_VARS.length] = [\\'_setCustomVar\\', 5, \\'loggedIn\\', \\'false\\', 3];\\n  </script>\\n  <script type=\"text/javascript\">\\n   var ga_domains = [];\\n        ga_domains.push(\\'indeed.co.in\\');ga_domains.push(\\'indeed.lu\\');ga_domains.push(\\'indeed.fr\\');ga_domains.push(\\'indeed.de\\');ga_domains.push(\\'indeed.com.br\\');ga_domains.push(\\'indeed.co.uk\\');ga_domains.push(\\'indeed.hk\\');ga_domains.push(\\'indeed.fi\\');ga_domains.push(\\'indeed.pt\\');ga_domains.push(\\'indeed.jp\\');ga_domains.push(\\'indeed.com\\');ga_domains.push(\\'indeed.com.sg\\');ga_domains.push(\\'indeed.nl\\');ga_domains.push(\\'indeed.com.pk\\');ga_domains.push(\\'indeed.cl\\');ga_domains.push(\\'indeed.es\\');ga_domains.push(\\'indeed.co.ve\\');ga_domains.push(\\'indeed.ae\\');ga_domains.push(\\'indeed.com.mx\\');ga_domains.push(\\'indeed.com.my\\');ga_domains.push(\\'indeed.ch\\');ga_domains.push(\\'indeed.com.co\\');ga_domains.push(\\'indeed.com.ph\\');ga_domains.push(\\'indeed.co.za\\');ga_domains.push(\\'indeed.ie\\');ga_domains.push(\\'indeed.com.au\\');ga_domains.push(\\'indeed.ca\\');ga_domains.push(\\'indeed.com.pe\\');\\n\\n        (function (i, s, o, g, r, a, m) {\\n            i[\\'GoogleAnalyticsObject\\'] = r;\\n            i[r] = i[r] || function () {\\n                (i[r].q = i[r].q || []).push(arguments)\\n            }, i[r].l = 1 * new Date();\\n            a = s.createElement(o),\\n                    m = s.getElementsByTagName(o)[0];\\n            a.async = 1;\\n            a.src = g;\\n            m.parentNode.insertBefore(a, m)\\n        })(window, document, \\'script\\', \\'//www.google-analytics.com/analytics.js\\', \\'ga\\');\\n\\n        var ga = ga || [];\\n        ga(\\'create\\', \\'UA-90780-1\\', \\'auto\\', {\\n            \\'allowLinker\\': true\\n        });\\n        ga(\\'require\\', \\'linkid\\');\\n        ga(\\'require\\', \\'linker\\');\\n        ga(\\'linker:autoLink\\', ga_domains, false, true);\\n        ga(\\'require\\', \\'displayfeatures\\');\\n        ga(\\'send\\', \\'pageview\\');\\n\\n        \\n        (function () {\\n            if (window.PENDING_ANALYTICS_VARS &amp;&amp; window.PENDING_ANALYTICS_VARS.length &gt; 0) {\\n                for (var i in PENDING_ANALYTICS_VARS) {\\n                    ga(\\'set\\', PENDING_ANALYTICS_VARS[i][2], PENDING_ANALYTICS_VARS[i][3]);\\n                }\\n            }\\n        })();\\n  </script>\\n  <script>\\n   !function(f,b,e,v,n,t,s){if(f.fbq)return;n=f.fbq=function(){n.callMethod?\\n            n.callMethod.apply(n,arguments):n.queue.push(arguments)};if(!f._fbq)f._fbq=n;\\n        n.push=n;n.loaded=!0;n.version=\\'2.0\\';n.queue=[];t=b.createElement(e);t.async=!0;\\n        t.src=v;s=b.getElementsByTagName(e)[0];s.parentNode.insertBefore(t,s)}(window,\\n            document,\\'script\\',\\'https://connect.facebook.net/en_US/fbevents.js\\');\\n\\n    fbq(\\'init\\', \\'579216298929618\\');\\n    fbq(\\'track\\', \"PageView\");\\n  </script>\\n  <noscript>\\n   &lt;img height=\"1\" width=\"1\" style=\"display:none\"\\n               src=\"https://www.facebook.com/tr?id=579216298929618&amp;ev=PageView&amp;noscript=1\"\\n/&gt;\\n  </noscript>\\n  <script>\\n   var _comscore = _comscore || [];\\n_comscore.push({ c1: \"2\", c2: \"6486505\", c4:\"www.indeed.com/cmp/Bluecore\", c15:\"1c6vc8trma4cqbks\"});\\n(function() { var s = document.createElement(\"script\"), el = document.getElementsByTagName(\"script\")[0]; s.async = true; s.src = (document.location.protocol == \"https:\" ? \"https://sb\" : \"http://b\") + \".scorecardresearch.com/beacon.js\"; el.parentNode.insertBefore(s, el); })();\\n  </script>\\n  <noscript>\\n   &lt;img src=\"http://b.scorecardresearch.com/p?c1=2&amp;c2=6486505&amp;c4=www.indeed.com%2Fcmp%2FBluecore&amp;c15=1c6vc8trma4cqbks&amp;cv=2.0&amp;cj=1\" style=\"display:none\" width=\"0\" height=\"0\" alt=\"\"/&gt;\\n  </noscript>\\n  <iframe allowtransparency=\"true\" frameborder=\"0\" scrolling=\"no\" src=\"https://platform.twitter.com/widgets/widget_iframe.36c0c29c73929bf937f4c70adb1a29e4.html?origin=https%3A%2F%2Fwww.indeed.com\" style=\"display: none;\">\\n  </iframe>\\n  <iframe allowfullscreen=\"true\" allowtransparency=\"true\" frameborder=\"0\" id=\"rufous-sandbox\" scrolling=\"no\" style=\"position: absolute; visibility: hidden; display: none; width: 0px; height: 0px; padding: 0px; border: none;\" title=\"Twitter analytics iframe\">\\n  </iframe>\\n </body>\\n</html>'"
      ]
     },
     "execution_count": 181,
     "metadata": {},
     "output_type": "execute_result"
    }
   ],
   "source": [
    "soup = BeautifulSoup(driver.page_source, 'html.parser')\n",
    "soup.prettify()"
   ]
  },
  {
   "cell_type": "code",
   "execution_count": 226,
   "metadata": {},
   "outputs": [
    {
     "data": {
      "text/plain": [
       "'<span class=\"hidden\" id=\"cmp-more-description\">We\\'re one of New York City’s fastest growing SaaS start-ups, working with more than 190 customers representing more than 250 high-end apparel, electronics, automotive and other consumer brands.<br/><br/>We have only one rule: use good judgment. We hire incredible people so we don’t have to institute cumbersome rules or processes. We want you to be free to think, create and get things done on your own terms. We love positive energy in the office. In fact, we need it—happy people are more efficient and creative. So if 6 PM improv classes or midday gym sessions are what makes you happy, we will support you. When you join us, you’re stuck with us. We hired you for you, not just for this job. We know the best people move up and often go on to start their own companies. We want to help you get where you want to go.<br/><br/>Perks &amp; Benefits<br/>- Highly competitive compensation package and opportunity to work for one of the fastest growing start-ups in New York City.<br/>- Laid-back office, casual attire. Jeans and a t-shirt always OK, though we have some pretty snappy dressers on this team. The choice is yours.<br/>- Free breakfast, lunch, snacks, drinks.<br/>- Ergonomic desk options from top to bottom.<br/>- Monthly fitness stipend. Yoga, CrossFit, Spin … your choice.<br/>- Monthly NYC metro card (or similar public transit pass) paid for.<br/>- You’ll receive a new MacBook Pro with appropriate software installed to complete your work.<br/>- Full medical, dental and vision benefits program.\\xa0–\\xa0<a href=\"javascript:void(0);\" id=\"cmp-less-link\">less</a></span>'"
      ]
     },
     "execution_count": 226,
     "metadata": {},
     "output_type": "execute_result"
    }
   ],
   "source": [
    "selector = '//span[@id=\"cmp-more-description\"]'\n",
    "\n",
    "company_descr2 = str(soup.findAll('span',attrs={'id':'cmp-more-description'})[0])\n",
    "company_descr2"
   ]
  },
  {
   "cell_type": "code",
   "execution_count": 230,
   "metadata": {},
   "outputs": [
    {
     "name": "stdout",
     "output_type": "stream",
     "text": [
      "test\n"
     ]
    }
   ],
   "source": [
    "if soup.findAll('span',attrs={'id':'cmp-more-description'}):\n",
    "    print('test')"
   ]
  },
  {
   "cell_type": "code",
   "execution_count": 224,
   "metadata": {},
   "outputs": [
    {
     "name": "stdout",
     "output_type": "stream",
     "text": [
      "1479\n",
      "We're one of New York City’s fastest growing SaaS start-ups, working with more than 190 customers representing more than 250 high-end apparel, electronics, automotive and other consumer brands.\r\n",
      "\r\n",
      "We have only one rule: use good judgment. We hire incredible people so we don’t have to institute cumbersome rules or processes. We want you to be free to think, create and get things done on your own terms. We love positive energy in the office. In fact, we need it—happy people are more efficient and creative. So if 6 PM improv classes or midday gym sessions are what makes you happy, we will support you. When you join us, you’re stuck with us. We hired you for you, not just for this job. We know the best people move up and often go on to start their own companies. We want to help you get where you want to go.\r\n",
      "\r\n",
      "Perks and Benefits\r\n",
      "- Highly competitive compensation package and opportunity to work for one of the fastest growing start-ups in New York City.\r\n",
      "- Laid-back office, casual attire. Jeans and a t-shirt always OK, though we have some pretty snappy dressers on this team. The choice is yours.\r\n",
      "- Free breakfast, lunch, snacks, drinks.\r\n",
      "- Ergonomic desk options from top to bottom.\r\n",
      "- Monthly fitness stipend. Yoga, CrossFit, Spin … your choice.\r\n",
      "- Monthly NYC metro card (or similar public transit pass) paid for.\r\n",
      "- You’ll receive a new MacBook Pro with appropriate software installed to complete your work.\r\n",
      "- Full medical, dental and vision benefits program. – \n"
     ]
    }
   ],
   "source": [
    "company_descr3 = re.sub(r'<a ?.* id=\"cmp-less-link\">less</a>', r'', company_descr2, flags=re.IGNORECASE)\n",
    "company_descr3 = re.sub(r'<span ?.* id=\"cmp-more-description\">', r'', company_descr3, flags=re.IGNORECASE)\n",
    "company_descr3 = re.sub(r'</span>', r'', company_descr3, flags=re.IGNORECASE)\n",
    "company_descr3 = re.sub(r'(<br>)|(<br/>)', r'\\r\\n', company_descr3, flags=re.IGNORECASE)\n",
    "company_descr3 = re.sub(r'&amp;', r'and', company_descr3, flags=re.IGNORECASE)\n",
    "\n",
    "print(len(company_descr3))\n",
    "print(company_descr3)"
   ]
  },
  {
   "cell_type": "code",
   "execution_count": null,
   "metadata": {
    "collapsed": true
   },
   "outputs": [],
   "source": []
  },
  {
   "cell_type": "code",
   "execution_count": 164,
   "metadata": {},
   "outputs": [
    {
     "name": "stdout",
     "output_type": "stream",
     "text": [
      "We're one of New York City’s fastest growing SaaS start-ups, working with more than 190 customers representing more than 250 high-end apparel, electronics, automotive and other consumer brands.\n",
      "\n",
      "We have only one rule: use good judgment. We hire incredible people so we don’t have to institute cumbersome rules or processes. We want you to be free to think, create and get things done on your own terms. We love positive energy in the office. In fact, we need it—happy people are more efficient and creative. So if 6 PM improv classes or midday gym sessions are what makes you happy, we will support you. When you join us, you’re stuck with us. We hired you for you, not just for this job. We know the best people move up and often go on to start their own companies. We want to help you get where you want to go.\n",
      "\n",
      "Perks & Benefits\n",
      "- Highly competitive compensation package and opportunity to work for one of the fastest growing start-ups in New York City.\n",
      "- Laid-back office, casual attire. Jeans and a t-shirt always OK, though we have some pretty snappy dressers on this team. The choice is yours.\n",
      "- Free breakfast, lunch, snacks, drinks.\n",
      "- Ergonomic desk options from top to bottom.\n",
      "- Monthly fitness stipend. Yoga, CrossFit, Spin … your choice.\n",
      "- Monthly NYC metro card (or similar public transit pass) paid for.\n",
      "- You’ll receive a new MacBook Pro with appropriate software installed to complete your work.\n",
      "- Full medical, dental and vision benefits program. – less\n"
     ]
    }
   ],
   "source": [
    "# more company descr\n",
    "name_selector = '//a[@id= \"cmp-more-link\"]'\n",
    "driver.find_element_by_xpath(name_selector).click()\n",
    "\n",
    "selector = '//span[@id=\"cmp-more-description\"]'\n",
    "company_descr2 = driver.find_elements_by_xpath(selector)[0].text\n",
    "print(company_descr2)"
   ]
  },
  {
   "cell_type": "code",
   "execution_count": 166,
   "metadata": {},
   "outputs": [
    {
     "data": {
      "text/plain": [
       "\"At Bluecore we are transforming the way eCommerce marketers use data and automation to communicate with customers. Bluecore’s customer experience platform is designed to simplify the process of ingesting terabytes of behavioral data and automatically taking action on precise insights, driving engagement and conversion rates that defy industry standards. We're one of New York City’s fastest growing SaaS start-ups, working with more than 190 customers representing more than 250 high-end apparel, electronics, automotive and other consumer brands.\\n\\nWe have only one rule: use good judgment. We hire incredible people so we don’t have to institute cumbersome rules or processes. We want you to be free to think, create and get things done on your own terms. We love positive energy in the office. In fact, we need it—happy people are more efficient and creative. So if 6 PM improv classes or midday gym sessions are what makes you happy, we will support you. When you join us, you’re stuck with us. We hired you for you, not just for this job. We know the best people move up and often go on to start their own companies. We want to help you get where you want to go.\\n\\nPerks & Benefits\\n- Highly competitive compensation package and opportunity to work for one of the fastest growing start-ups in New York City.\\n- Laid-back office, casual attire. Jeans and a t-shirt always OK, though we have some pretty snappy dressers on this team. The choice is yours.\\n- Free breakfast, lunch, snacks, drinks.\\n- Ergonomic desk options from top to bottom.\\n- Monthly fitness stipend. Yoga, CrossFit, Spin … your choice.\\n- Monthly NYC metro card (or similar public transit pass) paid for.\\n- You’ll receive a new MacBook Pro with appropriate software installed to complete your work.\\n- Full medical, dental and vision benefits program. – less\""
      ]
     },
     "execution_count": 166,
     "metadata": {},
     "output_type": "execute_result"
    }
   ],
   "source": [
    "company_descr = company_descr1 + ' ' + company_descr2\n",
    "company_descr"
   ]
  },
  {
   "cell_type": "markdown",
   "metadata": {},
   "source": [
    "## Dates cleaning "
   ]
  },
  {
   "cell_type": "code",
   "execution_count": 233,
   "metadata": {},
   "outputs": [
    {
     "data": {
      "text/plain": [
       "datetime.datetime(2005, 6, 1, 13, 33)"
      ]
     },
     "execution_count": 233,
     "metadata": {},
     "output_type": "execute_result"
    }
   ],
   "source": [
    "from datetime import datetime\n",
    "\n",
    "datetime_object = datetime.strptime('Jun 1 2005  1:33PM', '%b %d %Y %I:%M%p')\n",
    "datetime_object"
   ]
  },
  {
   "cell_type": "code",
   "execution_count": 234,
   "metadata": {},
   "outputs": [
    {
     "data": {
      "text/plain": [
       "datetime.datetime(2018, 2, 18, 4, 14, 19, tzinfo=datetime.timezone(datetime.timedelta(0), 'UTC'))"
      ]
     },
     "execution_count": 234,
     "metadata": {},
     "output_type": "execute_result"
    }
   ],
   "source": [
    "datetime_object = datetime.strptime('Sun, 18 Feb 2018 04:14:19 +0000 (UTC)', '%a, %d %b %Y %H:%M:%S %z (%Z)')\n",
    "datetime_object"
   ]
  },
  {
   "cell_type": "code",
   "execution_count": 272,
   "metadata": {},
   "outputs": [
    {
     "name": "stdout",
     "output_type": "stream",
     "text": [
      "2018-02-18 04:14:19+00:00\n"
     ]
    }
   ],
   "source": [
    "print(datetime_object)"
   ]
  },
  {
   "cell_type": "markdown",
   "metadata": {},
   "source": [
    "## LinkedIn"
   ]
  },
  {
   "cell_type": "code",
   "execution_count": 319,
   "metadata": {
    "collapsed": true
   },
   "outputs": [],
   "source": [
    "driver = webdriver.Chrome('C:/Users/Arina/Chromedriver/chromedriver')  "
   ]
  },
  {
   "cell_type": "code",
   "execution_count": 292,
   "metadata": {},
   "outputs": [
    {
     "data": {
      "text/html": [
       "<div>\n",
       "<style>\n",
       "    .dataframe thead tr:only-child th {\n",
       "        text-align: right;\n",
       "    }\n",
       "\n",
       "    .dataframe thead th {\n",
       "        text-align: left;\n",
       "    }\n",
       "\n",
       "    .dataframe tbody tr th {\n",
       "        vertical-align: top;\n",
       "    }\n",
       "</style>\n",
       "<table border=\"1\" class=\"dataframe\">\n",
       "  <thead>\n",
       "    <tr style=\"text-align: right;\">\n",
       "      <th></th>\n",
       "      <th>email_from</th>\n",
       "      <th>email_subject</th>\n",
       "      <th>email_content</th>\n",
       "      <th>date</th>\n",
       "    </tr>\n",
       "  </thead>\n",
       "  <tbody>\n",
       "    <tr>\n",
       "      <th>0</th>\n",
       "      <td>We Work Remotely</td>\n",
       "      <td>Listings for Sun, Feb 18</td>\n",
       "      <td>Your daily We Work Remotely job listings\\r\\n\\r...</td>\n",
       "      <td>Sun, 18 Feb 2018 04:14:19 +0000 (UTC)</td>\n",
       "    </tr>\n",
       "    <tr>\n",
       "      <th>1</th>\n",
       "      <td>We Work Remotely</td>\n",
       "      <td>Listings for Mon, Feb 19</td>\n",
       "      <td>Your daily We Work Remotely job listings\\r\\n\\r...</td>\n",
       "      <td>Mon, 19 Feb 2018 04:15:13 +0000 (UTC)</td>\n",
       "    </tr>\n",
       "    <tr>\n",
       "      <th>2</th>\n",
       "      <td>Indeed Job Alert</td>\n",
       "      <td>You have new recommended jobs: Senior Data Sci...</td>\n",
       "      <td>Recommended Jobs for You\\r\\n\\r\\nJobs 1 to 23 o...</td>\n",
       "      <td>Mon, 19 Feb 2018 13:12:58 -0600 (CST)</td>\n",
       "    </tr>\n",
       "    <tr>\n",
       "      <th>3</th>\n",
       "      <td>Indeed</td>\n",
       "      <td>30+ new data science jobs</td>\n",
       "      <td>Indeed Job Alert\\r\\ndata science jobs\\r\\n\\r\\nJ...</td>\n",
       "      <td>Mon, 19 Feb 2018 17:27:47 -0600 (CST)</td>\n",
       "    </tr>\n",
       "    <tr>\n",
       "      <th>4</th>\n",
       "      <td>LinkedIn Job Alerts</td>\n",
       "      <td>Arina: 503 new jobs for 'data science'</td>\n",
       "      <td>LinkedIn | 503 new jobs matching your search f...</td>\n",
       "      <td>Tue, 20 Feb 2018 01:01:02 +0000 (UTC)</td>\n",
       "    </tr>\n",
       "    <tr>\n",
       "      <th>5</th>\n",
       "      <td>We Work Remotely</td>\n",
       "      <td>Listings for Tue, Feb 20</td>\n",
       "      <td>Your daily We Work Remotely job listings\\r\\n\\r...</td>\n",
       "      <td>Tue, 20 Feb 2018 04:21:59 +0000 (UTC)</td>\n",
       "    </tr>\n",
       "    <tr>\n",
       "      <th>6</th>\n",
       "      <td>Indeed Job Alert</td>\n",
       "      <td>You have new recommended jobs: Senior Data Sci...</td>\n",
       "      <td>Recommended Jobs for You\\r\\n\\r\\nJobs 1 to 9 of...</td>\n",
       "      <td>Tue, 20 Feb 2018 13:51:08 -0600 (CST)</td>\n",
       "    </tr>\n",
       "    <tr>\n",
       "      <th>7</th>\n",
       "      <td>Indeed</td>\n",
       "      <td>30+ new data science jobs</td>\n",
       "      <td>Indeed Job Alert\\r\\ndata science jobs\\r\\n\\r\\nJ...</td>\n",
       "      <td>Tue, 20 Feb 2018 19:23:41 -0600 (CST)</td>\n",
       "    </tr>\n",
       "    <tr>\n",
       "      <th>8</th>\n",
       "      <td>LinkedIn Job Alerts</td>\n",
       "      <td>Arina: 776 new jobs for 'data science'</td>\n",
       "      <td>LinkedIn | 776 new jobs matching your search f...</td>\n",
       "      <td>Wed, 21 Feb 2018 02:12:09 +0000 (UTC)</td>\n",
       "    </tr>\n",
       "    <tr>\n",
       "      <th>9</th>\n",
       "      <td>We Work Remotely</td>\n",
       "      <td>Listings for Wed, Feb 21</td>\n",
       "      <td>Your daily We Work Remotely job listings\\r\\n\\r...</td>\n",
       "      <td>Wed, 21 Feb 2018 04:44:32 +0000 (UTC)</td>\n",
       "    </tr>\n",
       "    <tr>\n",
       "      <th>10</th>\n",
       "      <td>Indeed Job Alert</td>\n",
       "      <td>You have new recommended jobs: Digital Insight...</td>\n",
       "      <td>Recommended Jobs for You\\r\\n\\r\\nJobs 1 to 12 o...</td>\n",
       "      <td>Wed, 21 Feb 2018 13:40:20 -0600 (CST)</td>\n",
       "    </tr>\n",
       "    <tr>\n",
       "      <th>11</th>\n",
       "      <td>Indeed</td>\n",
       "      <td>30+ new data science jobs</td>\n",
       "      <td>Indeed Job Alert\\r\\ndata science jobs\\r\\n\\r\\nJ...</td>\n",
       "      <td>Wed, 21 Feb 2018 18:14:45 -0600 (CST)</td>\n",
       "    </tr>\n",
       "    <tr>\n",
       "      <th>12</th>\n",
       "      <td>LinkedIn Job Alerts</td>\n",
       "      <td>Arina: 951 new jobs for 'data science'</td>\n",
       "      <td>LinkedIn | 951 new jobs matching your search f...</td>\n",
       "      <td>Thu, 22 Feb 2018 03:07:24 +0000 (UTC)</td>\n",
       "    </tr>\n",
       "    <tr>\n",
       "      <th>13</th>\n",
       "      <td>Indeed Job Alert</td>\n",
       "      <td>You have new recommended jobs: Product Manager...</td>\n",
       "      <td>Recommended Jobs for You\\r\\n\\r\\nJobs 1 to 10 o...</td>\n",
       "      <td>Thu, 22 Feb 2018 13:36:51 -0600 (CST)</td>\n",
       "    </tr>\n",
       "  </tbody>\n",
       "</table>\n",
       "</div>"
      ],
      "text/plain": [
       "             email_from                                      email_subject  \\\n",
       "0      We Work Remotely                           Listings for Sun, Feb 18   \n",
       "1      We Work Remotely                           Listings for Mon, Feb 19   \n",
       "2      Indeed Job Alert  You have new recommended jobs: Senior Data Sci...   \n",
       "3                Indeed                          30+ new data science jobs   \n",
       "4   LinkedIn Job Alerts             Arina: 503 new jobs for 'data science'   \n",
       "5      We Work Remotely                           Listings for Tue, Feb 20   \n",
       "6      Indeed Job Alert  You have new recommended jobs: Senior Data Sci...   \n",
       "7                Indeed                          30+ new data science jobs   \n",
       "8   LinkedIn Job Alerts             Arina: 776 new jobs for 'data science'   \n",
       "9      We Work Remotely                           Listings for Wed, Feb 21   \n",
       "10     Indeed Job Alert  You have new recommended jobs: Digital Insight...   \n",
       "11               Indeed                          30+ new data science jobs   \n",
       "12  LinkedIn Job Alerts             Arina: 951 new jobs for 'data science'   \n",
       "13     Indeed Job Alert  You have new recommended jobs: Product Manager...   \n",
       "\n",
       "                                        email_content  \\\n",
       "0   Your daily We Work Remotely job listings\\r\\n\\r...   \n",
       "1   Your daily We Work Remotely job listings\\r\\n\\r...   \n",
       "2   Recommended Jobs for You\\r\\n\\r\\nJobs 1 to 23 o...   \n",
       "3   Indeed Job Alert\\r\\ndata science jobs\\r\\n\\r\\nJ...   \n",
       "4   LinkedIn | 503 new jobs matching your search f...   \n",
       "5   Your daily We Work Remotely job listings\\r\\n\\r...   \n",
       "6   Recommended Jobs for You\\r\\n\\r\\nJobs 1 to 9 of...   \n",
       "7   Indeed Job Alert\\r\\ndata science jobs\\r\\n\\r\\nJ...   \n",
       "8   LinkedIn | 776 new jobs matching your search f...   \n",
       "9   Your daily We Work Remotely job listings\\r\\n\\r...   \n",
       "10  Recommended Jobs for You\\r\\n\\r\\nJobs 1 to 12 o...   \n",
       "11  Indeed Job Alert\\r\\ndata science jobs\\r\\n\\r\\nJ...   \n",
       "12  LinkedIn | 951 new jobs matching your search f...   \n",
       "13  Recommended Jobs for You\\r\\n\\r\\nJobs 1 to 10 o...   \n",
       "\n",
       "                                     date  \n",
       "0   Sun, 18 Feb 2018 04:14:19 +0000 (UTC)  \n",
       "1   Mon, 19 Feb 2018 04:15:13 +0000 (UTC)  \n",
       "2   Mon, 19 Feb 2018 13:12:58 -0600 (CST)  \n",
       "3   Mon, 19 Feb 2018 17:27:47 -0600 (CST)  \n",
       "4   Tue, 20 Feb 2018 01:01:02 +0000 (UTC)  \n",
       "5   Tue, 20 Feb 2018 04:21:59 +0000 (UTC)  \n",
       "6   Tue, 20 Feb 2018 13:51:08 -0600 (CST)  \n",
       "7   Tue, 20 Feb 2018 19:23:41 -0600 (CST)  \n",
       "8   Wed, 21 Feb 2018 02:12:09 +0000 (UTC)  \n",
       "9   Wed, 21 Feb 2018 04:44:32 +0000 (UTC)  \n",
       "10  Wed, 21 Feb 2018 13:40:20 -0600 (CST)  \n",
       "11  Wed, 21 Feb 2018 18:14:45 -0600 (CST)  \n",
       "12  Thu, 22 Feb 2018 03:07:24 +0000 (UTC)  \n",
       "13  Thu, 22 Feb 2018 13:36:51 -0600 (CST)  "
      ]
     },
     "execution_count": 292,
     "metadata": {},
     "output_type": "execute_result"
    }
   ],
   "source": [
    "df"
   ]
  },
  {
   "cell_type": "code",
   "execution_count": 293,
   "metadata": {},
   "outputs": [
    {
     "data": {
      "text/plain": [
       "\"LinkedIn | 503 new jobs matching your search for data science\\r\\n----------------------------------------------------------------\\r\\n\\r\\nData Science Analyst\\r\\nC2R Ventures\\r\\nGreater New York City Area\\r\\nInApply\\r\\nView job: https://www.linkedin.com/comm/jobs/view/563721832?alertAction=markasviewed&savedSearchAuthToken=1%26AQGD7Cf3Tt6dAwAAAWGwujktWL8C_I4kHFD7zV1BRz9ufqZvsBSHLA0y4K5f5vR9KgmKyCtbJXPjYGLrXS_DiNjc77kP8W6K7KMpu2Uw9Rh3EErZFaOx_NzvkRsNB-_MWJC5SUZFfjKN-4LQp08-_MFPyIrRvq56aswAyMhBwkMAaOhI6NDB8-WAD62uh4RdHI6QOPQuc62QMgybsb6JYIpbS27yQTtrMLHnBhiJrGHuMT8zFG_Zx2V2n2JTwTI986VccYLMBWhMGJHRwqEA21nSiviBU6ddyuGrtS9CqOk7cRJvWTDcJg%26AeWO7EqIvT-dT7KVC4fnKBSUV6Zt&savedSearchId=280713974&refId=64f7ef24-e228-4d80-a08f-63558a66e077&trk=eml-job-alert-member-details&midToken=AQHbEzDWyKpnOA&trkEmail=eml-email_job_alert_single_02-null-4-null-null-ct6d3%7Ejduy1mzd%7Euk-null-jobs%7Eview&lipi=urn%3Ali%3Apage%3Aemail_email_job_alert_single_02%3BYBms%2FIJUT9aLyjWi4kVMuQ%3D%3D\\r\\n\\r\\n----------------------------------------------------------------\\r\\n\\r\\nData Clinic - Part-time Internship Fall 2018 (Data Science for Good)\\r\\nTwo Sigma\\r\\nNew York City, NY, US\\r\\n1 person hired from your school\\r\\nView job: https://www.linkedin.com/comm/jobs/view/603794044?alertAction=markasviewed&savedSearchAuthToken=1%26AQGD7Cf3Tt6dAwAAAWGwujktWL8C_I4kHFD7zV1BRz9ufqZvsBSHLA0y4K5f5vR9KgmKyCtbJXPjYGLrXS_DiNjc77kP8W6K7KMpu2Uw9Rh3EErZFaOx_NzvkRsNB-_MWJC5SUZFfjKN-4LQp08-_MFPyIrRvq56aswAyMhBwkMAaOhI6NDB8-WAD62uh4RdHI6QOPQuc62QMgybsb6JYIpbS27yQTtrMLHnBhiJrGHuMT8zFG_Zx2V2n2JTwTI986VccYLMBWhMGJHRwqEA21nSiviBU6ddyuGrtS9CqOk7cRJvWTDcJg%26AeWO7EqIvT-dT7KVC4fnKBSUV6Zt&savedSearchId=280713974&refId=64f7ef24-e228-4d80-a08f-63558a66e077&trk=eml-job-alert-member-details&midToken=AQHbEzDWyKpnOA&trkEmail=eml-email_job_alert_single_02-null-5-null-null-ct6d3%7Ejduy1mzd%7Euk-null-jobs%7Eview&lipi=urn%3Ali%3Apage%3Aemail_email_job_alert_single_02%3BYBms%2FIJUT9aLyjWi4kVMuQ%3D%3D\\r\\n\\r\\n----------------------------------------------------------------\\r\\n\\r\\nData Science Analyst - Periscope\\r\\nMcKinsey & Company\\r\\nSan José, CR\\r\\n19 people hired from your school\\r\\nView job: https://www.linkedin.com/comm/jobs/view/603753318?alertAction=markasviewed&savedSearchAuthToken=1%26AQGD7Cf3Tt6dAwAAAWGwujktWL8C_I4kHFD7zV1BRz9ufqZvsBSHLA0y4K5f5vR9KgmKyCtbJXPjYGLrXS_DiNjc77kP8W6K7KMpu2Uw9Rh3EErZFaOx_NzvkRsNB-_MWJC5SUZFfjKN-4LQp08-_MFPyIrRvq56aswAyMhBwkMAaOhI6NDB8-WAD62uh4RdHI6QOPQuc62QMgybsb6JYIpbS27yQTtrMLHnBhiJrGHuMT8zFG_Zx2V2n2JTwTI986VccYLMBWhMGJHRwqEA21nSiviBU6ddyuGrtS9CqOk7cRJvWTDcJg%26AeWO7EqIvT-dT7KVC4fnKBSUV6Zt&savedSearchId=280713974&refId=64f7ef24-e228-4d80-a08f-63558a66e077&trk=eml-job-alert-member-details&midToken=AQHbEzDWyKpnOA&trkEmail=eml-email_job_alert_single_02-null-6-null-null-ct6d3%7Ejduy1mzd%7Euk-null-jobs%7Eview&lipi=urn%3Ali%3Apage%3Aemail_email_job_alert_single_02%3BYBms%2FIJUT9aLyjWi4kVMuQ%3D%3D\\r\\n\\r\\n----------------------------------------------------------------\\r\\n\\r\\nDirector Data Science, Chief Data Scientist\\r\\nExcel Health\\r\\nPhiladelphia, Pennsylvania\\r\\n2 people hired from your school\\r\\nInApply\\r\\nView job: https://www.linkedin.com/comm/jobs/view/563723943?alertAction=markasviewed&savedSearchAuthToken=1%26AQGD7Cf3Tt6dAwAAAWGwujktWL8C_I4kHFD7zV1BRz9ufqZvsBSHLA0y4K5f5vR9KgmKyCtbJXPjYGLrXS_DiNjc77kP8W6K7KMpu2Uw9Rh3EErZFaOx_NzvkRsNB-_MWJC5SUZFfjKN-4LQp08-_MFPyIrRvq56aswAyMhBwkMAaOhI6NDB8-WAD62uh4RdHI6QOPQuc62QMgybsb6JYIpbS27yQTtrMLHnBhiJrGHuMT8zFG_Zx2V2n2JTwTI986VccYLMBWhMGJHRwqEA21nSiviBU6ddyuGrtS9CqOk7cRJvWTDcJg%26AeWO7EqIvT-dT7KVC4fnKBSUV6Zt&savedSearchId=280713974&refId=64f7ef24-e228-4d80-a08f-63558a66e077&trk=eml-job-alert-member-details&midToken=AQHbEzDWyKpnOA&trkEmail=eml-email_job_alert_single_02-null-7-null-null-ct6d3%7Ejduy1mzd%7Euk-null-jobs%7Eview&lipi=urn%3Ali%3Apage%3Aemail_email_job_alert_single_02%3BYBms%2FIJUT9aLyjWi4kVMuQ%3D%3D\\r\\n\\r\\n----------------------------------------------------------------\\r\\n\\r\\nIntern, Data Science, Software/Spacecraft Engineering\\r\\nSES Satellites\\r\\nPrinceton, NJ, US\\r\\nView job: https://www.linkedin.com/comm/jobs/view/563716694?alertAction=markasviewed&savedSearchAuthToken=1%26AQGD7Cf3Tt6dAwAAAWGwujktWL8C_I4kHFD7zV1BRz9ufqZvsBSHLA0y4K5f5vR9KgmKyCtbJXPjYGLrXS_DiNjc77kP8W6K7KMpu2Uw9Rh3EErZFaOx_NzvkRsNB-_MWJC5SUZFfjKN-4LQp08-_MFPyIrRvq56aswAyMhBwkMAaOhI6NDB8-WAD62uh4RdHI6QOPQuc62QMgybsb6JYIpbS27yQTtrMLHnBhiJrGHuMT8zFG_Zx2V2n2JTwTI986VccYLMBWhMGJHRwqEA21nSiviBU6ddyuGrtS9CqOk7cRJvWTDcJg%26AeWO7EqIvT-dT7KVC4fnKBSUV6Zt&savedSearchId=280713974&refId=64f7ef24-e228-4d80-a08f-63558a66e077&trk=eml-job-alert-member-details&midToken=AQHbEzDWyKpnOA&trkEmail=eml-email_job_alert_single_02-null-8-null-null-ct6d3%7Ejduy1mzd%7Euk-null-jobs%7Eview&lipi=urn%3Ali%3Apage%3Aemail_email_job_alert_single_02%3BYBms%2FIJUT9aLyjWi4kVMuQ%3D%3D\\r\\n\\r\\n----------------------------------------------------------------\\r\\n\\r\\nAnalyst/Senior Analyst Data Science/Analytics\\r\\nWayfair\\r\\nBerlin, DE\\r\\n9 people hired from your school\\r\\nView job: https://www.linkedin.com/comm/jobs/view/603465671?alertAction=markasviewed&savedSearchAuthToken=1%26AQGD7Cf3Tt6dAwAAAWGwujktWL8C_I4kHFD7zV1BRz9ufqZvsBSHLA0y4K5f5vR9KgmKyCtbJXPjYGLrXS_DiNjc77kP8W6K7KMpu2Uw9Rh3EErZFaOx_NzvkRsNB-_MWJC5SUZFfjKN-4LQp08-_MFPyIrRvq56aswAyMhBwkMAaOhI6NDB8-WAD62uh4RdHI6QOPQuc62QMgybsb6JYIpbS27yQTtrMLHnBhiJrGHuMT8zFG_Zx2V2n2JTwTI986VccYLMBWhMGJHRwqEA21nSiviBU6ddyuGrtS9CqOk7cRJvWTDcJg%26AeWO7EqIvT-dT7KVC4fnKBSUV6Zt&savedSearchId=280713974&refId=64f7ef24-e228-4d80-a08f-63558a66e077&trk=eml-job-alert-member-details&midToken=AQHbEzDWyKpnOA&trkEmail=eml-email_job_alert_single_02-null-9-null-null-ct6d3%7Ejduy1mzd%7Euk-null-jobs%7Eview&lipi=urn%3Ali%3Apage%3Aemail_email_job_alert_single_02%3BYBms%2FIJUT9aLyjWi4kVMuQ%3D%3D\\r\\n\\r\\n----------------------------------------------------------------\\r\\n\\r\\nSenior Manager, Data Science\\r\\nSmith Hanley Associates\\r\\nRichmond, Virginia\\r\\nInApply\\r\\nView job: https://www.linkedin.com/comm/jobs/view/603785995?alertAction=markasviewed&savedSearchAuthToken=1%26AQGD7Cf3Tt6dAwAAAWGwujktWL8C_I4kHFD7zV1BRz9ufqZvsBSHLA0y4K5f5vR9KgmKyCtbJXPjYGLrXS_DiNjc77kP8W6K7KMpu2Uw9Rh3EErZFaOx_NzvkRsNB-_MWJC5SUZFfjKN-4LQp08-_MFPyIrRvq56aswAyMhBwkMAaOhI6NDB8-WAD62uh4RdHI6QOPQuc62QMgybsb6JYIpbS27yQTtrMLHnBhiJrGHuMT8zFG_Zx2V2n2JTwTI986VccYLMBWhMGJHRwqEA21nSiviBU6ddyuGrtS9CqOk7cRJvWTDcJg%26AeWO7EqIvT-dT7KVC4fnKBSUV6Zt&savedSearchId=280713974&refId=64f7ef24-e228-4d80-a08f-63558a66e077&trk=eml-job-alert-member-details&midToken=AQHbEzDWyKpnOA&trkEmail=eml-email_job_alert_single_02-null-10-null-null-ct6d3%7Ejduy1mzd%7Euk-null-jobs%7Eview&lipi=urn%3Ali%3Apage%3Aemail_email_job_alert_single_02%3BYBms%2FIJUT9aLyjWi4kVMuQ%3D%3D\\r\\n\\r\\n----------------------------------------------------------------\\r\\n\\r\\nSenior Leader, Data Science\\r\\nQPID Health\\r\\nBoston, Massachusetts\\r\\nInApply\\r\\nView job: https://www.linkedin.com/comm/jobs/view/563734531?alertAction=markasviewed&savedSearchAuthToken=1%26AQGD7Cf3Tt6dAwAAAWGwujktWL8C_I4kHFD7zV1BRz9ufqZvsBSHLA0y4K5f5vR9KgmKyCtbJXPjYGLrXS_DiNjc77kP8W6K7KMpu2Uw9Rh3EErZFaOx_NzvkRsNB-_MWJC5SUZFfjKN-4LQp08-_MFPyIrRvq56aswAyMhBwkMAaOhI6NDB8-WAD62uh4RdHI6QOPQuc62QMgybsb6JYIpbS27yQTtrMLHnBhiJrGHuMT8zFG_Zx2V2n2JTwTI986VccYLMBWhMGJHRwqEA21nSiviBU6ddyuGrtS9CqOk7cRJvWTDcJg%26AeWO7EqIvT-dT7KVC4fnKBSUV6Zt&savedSearchId=280713974&refId=64f7ef24-e228-4d80-a08f-63558a66e077&trk=eml-job-alert-member-details&midToken=AQHbEzDWyKpnOA&trkEmail=eml-email_job_alert_single_02-null-11-null-null-ct6d3%7Ejduy1mzd%7Euk-null-jobs%7Eview&lipi=urn%3Ali%3Apage%3Aemail_email_job_alert_single_02%3BYBms%2FIJUT9aLyjWi4kVMuQ%3D%3D\\r\\n\\r\\n----------------------------------------------------------------\\r\\n\\r\\nData Science Manager\\r\\nPress Ganey\\r\\nWakefield, MA, US\\r\\n3 people hired from your school\\r\\nView job: https://www.linkedin.com/comm/jobs/view/603789768?alertAction=markasviewed&savedSearchAuthToken=1%26AQGD7Cf3Tt6dAwAAAWGwujktWL8C_I4kHFD7zV1BRz9ufqZvsBSHLA0y4K5f5vR9KgmKyCtbJXPjYGLrXS_DiNjc77kP8W6K7KMpu2Uw9Rh3EErZFaOx_NzvkRsNB-_MWJC5SUZFfjKN-4LQp08-_MFPyIrRvq56aswAyMhBwkMAaOhI6NDB8-WAD62uh4RdHI6QOPQuc62QMgybsb6JYIpbS27yQTtrMLHnBhiJrGHuMT8zFG_Zx2V2n2JTwTI986VccYLMBWhMGJHRwqEA21nSiviBU6ddyuGrtS9CqOk7cRJvWTDcJg%26AeWO7EqIvT-dT7KVC4fnKBSUV6Zt&savedSearchId=280713974&refId=64f7ef24-e228-4d80-a08f-63558a66e077&trk=eml-job-alert-member-details&midToken=AQHbEzDWyKpnOA&trkEmail=eml-email_job_alert_single_02-null-12-null-null-ct6d3%7Ejduy1mzd%7Euk-null-jobs%7Eview&lipi=urn%3Ali%3Apage%3Aemail_email_job_alert_single_02%3BYBms%2FIJUT9aLyjWi4kVMuQ%3D%3D\\r\\n\\r\\n----------------------------------------------------------------\\r\\n\\r\\nVP Data Science\\r\\nRoku Inc.\\r\\nLos Gatos, CA, US\\r\\n1 person hired from your school\\r\\nView job: https://www.linkedin.com/comm/jobs/view/561641959?alertAction=markasviewed&savedSearchAuthToken=1%26AQGD7Cf3Tt6dAwAAAWGwujktWL8C_I4kHFD7zV1BRz9ufqZvsBSHLA0y4K5f5vR9KgmKyCtbJXPjYGLrXS_DiNjc77kP8W6K7KMpu2Uw9Rh3EErZFaOx_NzvkRsNB-_MWJC5SUZFfjKN-4LQp08-_MFPyIrRvq56aswAyMhBwkMAaOhI6NDB8-WAD62uh4RdHI6QOPQuc62QMgybsb6JYIpbS27yQTtrMLHnBhiJrGHuMT8zFG_Zx2V2n2JTwTI986VccYLMBWhMGJHRwqEA21nSiviBU6ddyuGrtS9CqOk7cRJvWTDcJg%26AeWO7EqIvT-dT7KVC4fnKBSUV6Zt&savedSearchId=280713974&refId=64f7ef24-e228-4d80-a08f-63558a66e077&trk=eml-job-alert-member-details&midToken=AQHbEzDWyKpnOA&trkEmail=eml-email_job_alert_single_02-null-13-null-null-ct6d3%7Ejduy1mzd%7Euk-null-jobs%7Eview&lipi=urn%3Ali%3Apage%3Aemail_email_job_alert_single_02%3BYBms%2FIJUT9aLyjWi4kVMuQ%3D%3D\\r\\n\\r\\n----------------------------------------------------------------\\r\\n\\r\\nData Science Specialist\\r\\ndunnhumby\\r\\nSão Paulo Area, Brazil\\r\\nInApply\\r\\nView job: https://www.linkedin.com/comm/jobs/view/563733785?alertAction=markasviewed&savedSearchAuthToken=1%26AQGD7Cf3Tt6dAwAAAWGwujktWL8C_I4kHFD7zV1BRz9ufqZvsBSHLA0y4K5f5vR9KgmKyCtbJXPjYGLrXS_DiNjc77kP8W6K7KMpu2Uw9Rh3EErZFaOx_NzvkRsNB-_MWJC5SUZFfjKN-4LQp08-_MFPyIrRvq56aswAyMhBwkMAaOhI6NDB8-WAD62uh4RdHI6QOPQuc62QMgybsb6JYIpbS27yQTtrMLHnBhiJrGHuMT8zFG_Zx2V2n2JTwTI986VccYLMBWhMGJHRwqEA21nSiviBU6ddyuGrtS9CqOk7cRJvWTDcJg%26AeWO7EqIvT-dT7KVC4fnKBSUV6Zt&savedSearchId=280713974&refId=64f7ef24-e228-4d80-a08f-63558a66e077&trk=eml-job-alert-member-details&midToken=AQHbEzDWyKpnOA&trkEmail=eml-email_job_alert_single_02-null-14-null-null-ct6d3%7Ejduy1mzd%7Euk-null-jobs%7Eview&lipi=urn%3Ali%3Apage%3Aemail_email_job_alert_single_02%3BYBms%2FIJUT9aLyjWi4kVMuQ%3D%3D\\r\\n\\r\\n----------------------------------------------------------------\\r\\nSee more new jobs: https://www.linkedin.com/comm/jobs/search?savedSearchId=280713974&alertAction=viewjobs&savedSearchAuthToken=1%26AQE6wP3HYGZTnQAAAWGwujkvimJo2f4ssVyLAz3bcf5kAVioYrOvYKp96s_UKH9BOetkA4CdVbz9YeMe-WeY0g6YDjR3xI7qCpr47w5VyBPiiUwQpST-CeAfIfNML3Vh6eYNFccvqrxcqO9VGntXrhLciTF7Szuj1O4j4ympOwb-3tBZttGNOQnHEaCla4EWjEJIqvUoe0vuGN7zR2GJ-PjRhaf4-7qvhJwPx1lKqeRvmY1Dd3Qm4HdTZEnLrnyyTCfvimRYkvz1iBBSMR8piKgVIq_XHwNPRTv4qDDoqKuxVjMP%26ASmewv5ZzmzkdeyT5Z8-Ymep2xo7&trk=eml-job-alert-member-teaser&midToken=AQHbEzDWyKpnOA&trkEmail=eml-email_job_alert_single_02-null-1-null-null-ct6d3%7Ejduy1mzd%7Euk-null-jobs%7Ejserp%7Esearch&lipi=urn%3Ali%3Apage%3Aemail_email_job_alert_single_02%3BYBms%2FIJUT9aLyjWi4kVMuQ%3D%3D\\r\\nManage job alerts: https://www.linkedin.com/e/v2?e=ct6d3-jduy1mzd-uk&lipi=urn%3Ali%3Apage%3Aemail_email_job_alert_single_02%3BYBms%2FIJUT9aLyjWi4kVMuQ%3D%3D&a=jobs-jserp-search-mirror&midToken=AQHbEzDWyKpnOA&ek=email_job_alert_single_02&li=2&m=footer&ts=manage_alert&alertAction=manage&savedSearchId=280713974\\r\\n\\r\\nSee jobs where you're a top applicant\\r\\nDiscover jobs where you have an edge\\r\\nTry Premium for free https://www.linkedin.com/comm/premium/products/?family=jss&trk=eml-job-alert2-premium-upsell-top-applicant&midToken=AQHbEzDWyKpnOA&trkEmail=eml-email_job_alert_single_02-null-30-null-null-ct6d3%7Ejduy1mzd%7Euk-null-neptune%2Fpremium%2Eproducts&lipi=urn%3Ali%3Apage%3Aemail_email_job_alert_single_02%3BYBms%2FIJUT9aLyjWi4kVMuQ%3D%3D\\r\\n\\r\\n\\r\\n.....................................\\r\\n\\r\\nUnsubscribe from this alert: https://www.linkedin.com/e/v2?e=ct6d3-jduy1mzd-uk&lipi=urn%3Ali%3Apage%3Aemail_email_job_alert_single_02%3BYBms%2FIJUT9aLyjWi4kVMuQ%3D%3D&a=jobs-jserp-search-mirror&midToken=AQHbEzDWyKpnOA&ek=email_job_alert_single_02&li=3&m=footer&ts=delete_alert&alertAction=delete&savedSearchAuthToken=1%26AQHewlo3ryFD0QAAAWGwujkrvL1gdLFcjkBYRjBmXJoCr6A4Dg_H3MRf-ZPxYNGBCgYTWQTUFzrOe53Hf4o4j5e3QJvktraOWddGH1a_ZhSY4rtR0HRQMatQ8e2Ww7ugPL4LOJ_YzqE9uqQVbr4rpPvvBhKVmRKSavsiHnvdWPjS1NELTUIb_2Egxush_3Yv5FxhskVVWKjX0H9hjR9JT1Tr720YQw-M5ylW4Eo6FHm0C1JL3D3VVo9iYpRFV_3rYWsmJSxXLKiEWd9qVI8gSonGGs2h7wTyEjG4eKSYEg6B9A%26AZRHaMI32EnGOqcEUE-edLLUDfi8&savedSearchId=280713974\\r\\n\\r\\nHelp: https://www.linkedin.com/e/v2?e=ct6d3-jduy1mzd-uk&lipi=urn%3Ali%3Apage%3Aemail_email_job_alert_single_02%3BYBms%2FIJUT9aLyjWi4kVMuQ%3D%3D&a=customerServiceUrl&midToken=AQHbEzDWyKpnOA&ek=email_job_alert_single_02&li=40&m=footer&ts=help&articleId=67\\r\\n\\r\\n\\r\\nYou are receiving LinkedIn notification emails.\\r\\n\\r\\nThis email was intended for Arina Igumenshcheva (Pythonic data scientist, web developer,  UX explorer).\\r\\nLearn why we included this: https://www.linkedin.com/e/v2?e=ct6d3-jduy1mzd-uk&lipi=urn%3Ali%3Apage%3Aemail_email_job_alert_single_02%3BYBms%2FIJUT9aLyjWi4kVMuQ%3D%3D&a=customerServiceUrl&midToken=AQHbEzDWyKpnOA&ek=email_job_alert_single_02&articleId=4788\\r\\n\\r\\n© 2018 LinkedIn Corporation, 1000 West Maude Avenue, Sunnyvale, CA 94085. LinkedIn and the LinkedIn logo are registered trademarks of LinkedIn.\""
      ]
     },
     "execution_count": 293,
     "metadata": {},
     "output_type": "execute_result"
    }
   ],
   "source": [
    "df.email_content[4]"
   ]
  },
  {
   "cell_type": "code",
   "execution_count": 320,
   "metadata": {},
   "outputs": [
    {
     "data": {
      "text/plain": [
       "'linkedin job alerts'"
      ]
     },
     "execution_count": 320,
     "metadata": {},
     "output_type": "execute_result"
    }
   ],
   "source": [
    "# https://www.indeed.com/viewjob?jk=6c7ebde0dbd89142&from=rje&rgtk=1c6nnh4em1db5a8e\n",
    "df.email_from[4].strip().lower()"
   ]
  },
  {
   "cell_type": "code",
   "execution_count": 321,
   "metadata": {},
   "outputs": [
    {
     "data": {
      "text/plain": [
       "\"LinkedIn | 503 new jobs matching your search for data science\\r\\n----------------------------------------------------------------\\r\\n\\r\\nData Science Analyst\\r\\nC2R Ventures\\r\\nGreater New York City Area\\r\\nInApply\\r\\nView job: https://www.linkedin.com/comm/jobs/view/563721832?alertAction=markasviewed&savedSearchAuthToken=1%26AQGD7Cf3Tt6dAwAAAWGwujktWL8C_I4kHFD7zV1BRz9ufqZvsBSHLA0y4K5f5vR9KgmKyCtbJXPjYGLrXS_DiNjc77kP8W6K7KMpu2Uw9Rh3EErZFaOx_NzvkRsNB-_MWJC5SUZFfjKN-4LQp08-_MFPyIrRvq56aswAyMhBwkMAaOhI6NDB8-WAD62uh4RdHI6QOPQuc62QMgybsb6JYIpbS27yQTtrMLHnBhiJrGHuMT8zFG_Zx2V2n2JTwTI986VccYLMBWhMGJHRwqEA21nSiviBU6ddyuGrtS9CqOk7cRJvWTDcJg%26AeWO7EqIvT-dT7KVC4fnKBSUV6Zt&savedSearchId=280713974&refId=64f7ef24-e228-4d80-a08f-63558a66e077&trk=eml-job-alert-member-details&midToken=AQHbEzDWyKpnOA&trkEmail=eml-email_job_alert_single_02-null-4-null-null-ct6d3%7Ejduy1mzd%7Euk-null-jobs%7Eview&lipi=urn%3Ali%3Apage%3Aemail_email_job_alert_single_02%3BYBms%2FIJUT9aLyjWi4kVMuQ%3D%3D\\r\\n\\r\\n----------------------------------------------------------------\\r\\n\\r\\nData Clinic - Part-time Internship Fall 2018 (Data Science for Good)\\r\\nTwo Sigma\\r\\nNew York City, NY, US\\r\\n1 person hired from your school\\r\\nView job: https://www.linkedin.com/comm/jobs/view/603794044?alertAction=markasviewed&savedSearchAuthToken=1%26AQGD7Cf3Tt6dAwAAAWGwujktWL8C_I4kHFD7zV1BRz9ufqZvsBSHLA0y4K5f5vR9KgmKyCtbJXPjYGLrXS_DiNjc77kP8W6K7KMpu2Uw9Rh3EErZFaOx_NzvkRsNB-_MWJC5SUZFfjKN-4LQp08-_MFPyIrRvq56aswAyMhBwkMAaOhI6NDB8-WAD62uh4RdHI6QOPQuc62QMgybsb6JYIpbS27yQTtrMLHnBhiJrGHuMT8zFG_Zx2V2n2JTwTI986VccYLMBWhMGJHRwqEA21nSiviBU6ddyuGrtS9CqOk7cRJvWTDcJg%26AeWO7EqIvT-dT7KVC4fnKBSUV6Zt&savedSearchId=280713974&refId=64f7ef24-e228-4d80-a08f-63558a66e077&trk=eml-job-alert-member-details&midToken=AQHbEzDWyKpnOA&trkEmail=eml-email_job_alert_single_02-null-5-null-null-ct6d3%7Ejduy1mzd%7Euk-null-jobs%7Eview&lipi=urn%3Ali%3Apage%3Aemail_email_job_alert_single_02%3BYBms%2FIJUT9aLyjWi4kVMuQ%3D%3D\\r\\n\\r\\n----------------------------------------------------------------\\r\\n\\r\\nData Science Analyst - Periscope\\r\\nMcKinsey & Company\\r\\nSan José, CR\\r\\n19 people hired from your school\\r\\nView job: https://www.linkedin.com/comm/jobs/view/603753318?alertAction=markasviewed&savedSearchAuthToken=1%26AQGD7Cf3Tt6dAwAAAWGwujktWL8C_I4kHFD7zV1BRz9ufqZvsBSHLA0y4K5f5vR9KgmKyCtbJXPjYGLrXS_DiNjc77kP8W6K7KMpu2Uw9Rh3EErZFaOx_NzvkRsNB-_MWJC5SUZFfjKN-4LQp08-_MFPyIrRvq56aswAyMhBwkMAaOhI6NDB8-WAD62uh4RdHI6QOPQuc62QMgybsb6JYIpbS27yQTtrMLHnBhiJrGHuMT8zFG_Zx2V2n2JTwTI986VccYLMBWhMGJHRwqEA21nSiviBU6ddyuGrtS9CqOk7cRJvWTDcJg%26AeWO7EqIvT-dT7KVC4fnKBSUV6Zt&savedSearchId=280713974&refId=64f7ef24-e228-4d80-a08f-63558a66e077&trk=eml-job-alert-member-details&midToken=AQHbEzDWyKpnOA&trkEmail=eml-email_job_alert_single_02-null-6-null-null-ct6d3%7Ejduy1mzd%7Euk-null-jobs%7Eview&lipi=urn%3Ali%3Apage%3Aemail_email_job_alert_single_02%3BYBms%2FIJUT9aLyjWi4kVMuQ%3D%3D\\r\\n\\r\\n----------------------------------------------------------------\\r\\n\\r\\nDirector Data Science, Chief Data Scientist\\r\\nExcel Health\\r\\nPhiladelphia, Pennsylvania\\r\\n2 people hired from your school\\r\\nInApply\\r\\nView job: https://www.linkedin.com/comm/jobs/view/563723943?alertAction=markasviewed&savedSearchAuthToken=1%26AQGD7Cf3Tt6dAwAAAWGwujktWL8C_I4kHFD7zV1BRz9ufqZvsBSHLA0y4K5f5vR9KgmKyCtbJXPjYGLrXS_DiNjc77kP8W6K7KMpu2Uw9Rh3EErZFaOx_NzvkRsNB-_MWJC5SUZFfjKN-4LQp08-_MFPyIrRvq56aswAyMhBwkMAaOhI6NDB8-WAD62uh4RdHI6QOPQuc62QMgybsb6JYIpbS27yQTtrMLHnBhiJrGHuMT8zFG_Zx2V2n2JTwTI986VccYLMBWhMGJHRwqEA21nSiviBU6ddyuGrtS9CqOk7cRJvWTDcJg%26AeWO7EqIvT-dT7KVC4fnKBSUV6Zt&savedSearchId=280713974&refId=64f7ef24-e228-4d80-a08f-63558a66e077&trk=eml-job-alert-member-details&midToken=AQHbEzDWyKpnOA&trkEmail=eml-email_job_alert_single_02-null-7-null-null-ct6d3%7Ejduy1mzd%7Euk-null-jobs%7Eview&lipi=urn%3Ali%3Apage%3Aemail_email_job_alert_single_02%3BYBms%2FIJUT9aLyjWi4kVMuQ%3D%3D\\r\\n\\r\\n----------------------------------------------------------------\\r\\n\\r\\nIntern, Data Science, Software/Spacecraft Engineering\\r\\nSES Satellites\\r\\nPrinceton, NJ, US\\r\\nView job: https://www.linkedin.com/comm/jobs/view/563716694?alertAction=markasviewed&savedSearchAuthToken=1%26AQGD7Cf3Tt6dAwAAAWGwujktWL8C_I4kHFD7zV1BRz9ufqZvsBSHLA0y4K5f5vR9KgmKyCtbJXPjYGLrXS_DiNjc77kP8W6K7KMpu2Uw9Rh3EErZFaOx_NzvkRsNB-_MWJC5SUZFfjKN-4LQp08-_MFPyIrRvq56aswAyMhBwkMAaOhI6NDB8-WAD62uh4RdHI6QOPQuc62QMgybsb6JYIpbS27yQTtrMLHnBhiJrGHuMT8zFG_Zx2V2n2JTwTI986VccYLMBWhMGJHRwqEA21nSiviBU6ddyuGrtS9CqOk7cRJvWTDcJg%26AeWO7EqIvT-dT7KVC4fnKBSUV6Zt&savedSearchId=280713974&refId=64f7ef24-e228-4d80-a08f-63558a66e077&trk=eml-job-alert-member-details&midToken=AQHbEzDWyKpnOA&trkEmail=eml-email_job_alert_single_02-null-8-null-null-ct6d3%7Ejduy1mzd%7Euk-null-jobs%7Eview&lipi=urn%3Ali%3Apage%3Aemail_email_job_alert_single_02%3BYBms%2FIJUT9aLyjWi4kVMuQ%3D%3D\\r\\n\\r\\n----------------------------------------------------------------\\r\\n\\r\\nAnalyst/Senior Analyst Data Science/Analytics\\r\\nWayfair\\r\\nBerlin, DE\\r\\n9 people hired from your school\\r\\nView job: https://www.linkedin.com/comm/jobs/view/603465671?alertAction=markasviewed&savedSearchAuthToken=1%26AQGD7Cf3Tt6dAwAAAWGwujktWL8C_I4kHFD7zV1BRz9ufqZvsBSHLA0y4K5f5vR9KgmKyCtbJXPjYGLrXS_DiNjc77kP8W6K7KMpu2Uw9Rh3EErZFaOx_NzvkRsNB-_MWJC5SUZFfjKN-4LQp08-_MFPyIrRvq56aswAyMhBwkMAaOhI6NDB8-WAD62uh4RdHI6QOPQuc62QMgybsb6JYIpbS27yQTtrMLHnBhiJrGHuMT8zFG_Zx2V2n2JTwTI986VccYLMBWhMGJHRwqEA21nSiviBU6ddyuGrtS9CqOk7cRJvWTDcJg%26AeWO7EqIvT-dT7KVC4fnKBSUV6Zt&savedSearchId=280713974&refId=64f7ef24-e228-4d80-a08f-63558a66e077&trk=eml-job-alert-member-details&midToken=AQHbEzDWyKpnOA&trkEmail=eml-email_job_alert_single_02-null-9-null-null-ct6d3%7Ejduy1mzd%7Euk-null-jobs%7Eview&lipi=urn%3Ali%3Apage%3Aemail_email_job_alert_single_02%3BYBms%2FIJUT9aLyjWi4kVMuQ%3D%3D\\r\\n\\r\\n----------------------------------------------------------------\\r\\n\\r\\nSenior Manager, Data Science\\r\\nSmith Hanley Associates\\r\\nRichmond, Virginia\\r\\nInApply\\r\\nView job: https://www.linkedin.com/comm/jobs/view/603785995?alertAction=markasviewed&savedSearchAuthToken=1%26AQGD7Cf3Tt6dAwAAAWGwujktWL8C_I4kHFD7zV1BRz9ufqZvsBSHLA0y4K5f5vR9KgmKyCtbJXPjYGLrXS_DiNjc77kP8W6K7KMpu2Uw9Rh3EErZFaOx_NzvkRsNB-_MWJC5SUZFfjKN-4LQp08-_MFPyIrRvq56aswAyMhBwkMAaOhI6NDB8-WAD62uh4RdHI6QOPQuc62QMgybsb6JYIpbS27yQTtrMLHnBhiJrGHuMT8zFG_Zx2V2n2JTwTI986VccYLMBWhMGJHRwqEA21nSiviBU6ddyuGrtS9CqOk7cRJvWTDcJg%26AeWO7EqIvT-dT7KVC4fnKBSUV6Zt&savedSearchId=280713974&refId=64f7ef24-e228-4d80-a08f-63558a66e077&trk=eml-job-alert-member-details&midToken=AQHbEzDWyKpnOA&trkEmail=eml-email_job_alert_single_02-null-10-null-null-ct6d3%7Ejduy1mzd%7Euk-null-jobs%7Eview&lipi=urn%3Ali%3Apage%3Aemail_email_job_alert_single_02%3BYBms%2FIJUT9aLyjWi4kVMuQ%3D%3D\\r\\n\\r\\n----------------------------------------------------------------\\r\\n\\r\\nSenior Leader, Data Science\\r\\nQPID Health\\r\\nBoston, Massachusetts\\r\\nInApply\\r\\nView job: https://www.linkedin.com/comm/jobs/view/563734531?alertAction=markasviewed&savedSearchAuthToken=1%26AQGD7Cf3Tt6dAwAAAWGwujktWL8C_I4kHFD7zV1BRz9ufqZvsBSHLA0y4K5f5vR9KgmKyCtbJXPjYGLrXS_DiNjc77kP8W6K7KMpu2Uw9Rh3EErZFaOx_NzvkRsNB-_MWJC5SUZFfjKN-4LQp08-_MFPyIrRvq56aswAyMhBwkMAaOhI6NDB8-WAD62uh4RdHI6QOPQuc62QMgybsb6JYIpbS27yQTtrMLHnBhiJrGHuMT8zFG_Zx2V2n2JTwTI986VccYLMBWhMGJHRwqEA21nSiviBU6ddyuGrtS9CqOk7cRJvWTDcJg%26AeWO7EqIvT-dT7KVC4fnKBSUV6Zt&savedSearchId=280713974&refId=64f7ef24-e228-4d80-a08f-63558a66e077&trk=eml-job-alert-member-details&midToken=AQHbEzDWyKpnOA&trkEmail=eml-email_job_alert_single_02-null-11-null-null-ct6d3%7Ejduy1mzd%7Euk-null-jobs%7Eview&lipi=urn%3Ali%3Apage%3Aemail_email_job_alert_single_02%3BYBms%2FIJUT9aLyjWi4kVMuQ%3D%3D\\r\\n\\r\\n----------------------------------------------------------------\\r\\n\\r\\nData Science Manager\\r\\nPress Ganey\\r\\nWakefield, MA, US\\r\\n3 people hired from your school\\r\\nView job: https://www.linkedin.com/comm/jobs/view/603789768?alertAction=markasviewed&savedSearchAuthToken=1%26AQGD7Cf3Tt6dAwAAAWGwujktWL8C_I4kHFD7zV1BRz9ufqZvsBSHLA0y4K5f5vR9KgmKyCtbJXPjYGLrXS_DiNjc77kP8W6K7KMpu2Uw9Rh3EErZFaOx_NzvkRsNB-_MWJC5SUZFfjKN-4LQp08-_MFPyIrRvq56aswAyMhBwkMAaOhI6NDB8-WAD62uh4RdHI6QOPQuc62QMgybsb6JYIpbS27yQTtrMLHnBhiJrGHuMT8zFG_Zx2V2n2JTwTI986VccYLMBWhMGJHRwqEA21nSiviBU6ddyuGrtS9CqOk7cRJvWTDcJg%26AeWO7EqIvT-dT7KVC4fnKBSUV6Zt&savedSearchId=280713974&refId=64f7ef24-e228-4d80-a08f-63558a66e077&trk=eml-job-alert-member-details&midToken=AQHbEzDWyKpnOA&trkEmail=eml-email_job_alert_single_02-null-12-null-null-ct6d3%7Ejduy1mzd%7Euk-null-jobs%7Eview&lipi=urn%3Ali%3Apage%3Aemail_email_job_alert_single_02%3BYBms%2FIJUT9aLyjWi4kVMuQ%3D%3D\\r\\n\\r\\n----------------------------------------------------------------\\r\\n\\r\\nVP Data Science\\r\\nRoku Inc.\\r\\nLos Gatos, CA, US\\r\\n1 person hired from your school\\r\\nView job: https://www.linkedin.com/comm/jobs/view/561641959?alertAction=markasviewed&savedSearchAuthToken=1%26AQGD7Cf3Tt6dAwAAAWGwujktWL8C_I4kHFD7zV1BRz9ufqZvsBSHLA0y4K5f5vR9KgmKyCtbJXPjYGLrXS_DiNjc77kP8W6K7KMpu2Uw9Rh3EErZFaOx_NzvkRsNB-_MWJC5SUZFfjKN-4LQp08-_MFPyIrRvq56aswAyMhBwkMAaOhI6NDB8-WAD62uh4RdHI6QOPQuc62QMgybsb6JYIpbS27yQTtrMLHnBhiJrGHuMT8zFG_Zx2V2n2JTwTI986VccYLMBWhMGJHRwqEA21nSiviBU6ddyuGrtS9CqOk7cRJvWTDcJg%26AeWO7EqIvT-dT7KVC4fnKBSUV6Zt&savedSearchId=280713974&refId=64f7ef24-e228-4d80-a08f-63558a66e077&trk=eml-job-alert-member-details&midToken=AQHbEzDWyKpnOA&trkEmail=eml-email_job_alert_single_02-null-13-null-null-ct6d3%7Ejduy1mzd%7Euk-null-jobs%7Eview&lipi=urn%3Ali%3Apage%3Aemail_email_job_alert_single_02%3BYBms%2FIJUT9aLyjWi4kVMuQ%3D%3D\\r\\n\\r\\n----------------------------------------------------------------\\r\\n\\r\\nData Science Specialist\\r\\ndunnhumby\\r\\nSão Paulo Area, Brazil\\r\\nInApply\\r\\nView job: https://www.linkedin.com/comm/jobs/view/563733785?alertAction=markasviewed&savedSearchAuthToken=1%26AQGD7Cf3Tt6dAwAAAWGwujktWL8C_I4kHFD7zV1BRz9ufqZvsBSHLA0y4K5f5vR9KgmKyCtbJXPjYGLrXS_DiNjc77kP8W6K7KMpu2Uw9Rh3EErZFaOx_NzvkRsNB-_MWJC5SUZFfjKN-4LQp08-_MFPyIrRvq56aswAyMhBwkMAaOhI6NDB8-WAD62uh4RdHI6QOPQuc62QMgybsb6JYIpbS27yQTtrMLHnBhiJrGHuMT8zFG_Zx2V2n2JTwTI986VccYLMBWhMGJHRwqEA21nSiviBU6ddyuGrtS9CqOk7cRJvWTDcJg%26AeWO7EqIvT-dT7KVC4fnKBSUV6Zt&savedSearchId=280713974&refId=64f7ef24-e228-4d80-a08f-63558a66e077&trk=eml-job-alert-member-details&midToken=AQHbEzDWyKpnOA&trkEmail=eml-email_job_alert_single_02-null-14-null-null-ct6d3%7Ejduy1mzd%7Euk-null-jobs%7Eview&lipi=urn%3Ali%3Apage%3Aemail_email_job_alert_single_02%3BYBms%2FIJUT9aLyjWi4kVMuQ%3D%3D\\r\\n\\r\\n----------------------------------------------------------------\\r\\nSee more new jobs: https://www.linkedin.com/comm/jobs/search?savedSearchId=280713974&alertAction=viewjobs&savedSearchAuthToken=1%26AQE6wP3HYGZTnQAAAWGwujkvimJo2f4ssVyLAz3bcf5kAVioYrOvYKp96s_UKH9BOetkA4CdVbz9YeMe-WeY0g6YDjR3xI7qCpr47w5VyBPiiUwQpST-CeAfIfNML3Vh6eYNFccvqrxcqO9VGntXrhLciTF7Szuj1O4j4ympOwb-3tBZttGNOQnHEaCla4EWjEJIqvUoe0vuGN7zR2GJ-PjRhaf4-7qvhJwPx1lKqeRvmY1Dd3Qm4HdTZEnLrnyyTCfvimRYkvz1iBBSMR8piKgVIq_XHwNPRTv4qDDoqKuxVjMP%26ASmewv5ZzmzkdeyT5Z8-Ymep2xo7&trk=eml-job-alert-member-teaser&midToken=AQHbEzDWyKpnOA&trkEmail=eml-email_job_alert_single_02-null-1-null-null-ct6d3%7Ejduy1mzd%7Euk-null-jobs%7Ejserp%7Esearch&lipi=urn%3Ali%3Apage%3Aemail_email_job_alert_single_02%3BYBms%2FIJUT9aLyjWi4kVMuQ%3D%3D\\r\\nManage job alerts: https://www.linkedin.com/e/v2?e=ct6d3-jduy1mzd-uk&lipi=urn%3Ali%3Apage%3Aemail_email_job_alert_single_02%3BYBms%2FIJUT9aLyjWi4kVMuQ%3D%3D&a=jobs-jserp-search-mirror&midToken=AQHbEzDWyKpnOA&ek=email_job_alert_single_02&li=2&m=footer&ts=manage_alert&alertAction=manage&savedSearchId=280713974\\r\\n\\r\\nSee jobs where you're a top applicant\\r\\nDiscover jobs where you have an edge\\r\\nTry Premium for free https://www.linkedin.com/comm/premium/products/?family=jss&trk=eml-job-alert2-premium-upsell-top-applicant&midToken=AQHbEzDWyKpnOA&trkEmail=eml-email_job_alert_single_02-null-30-null-null-ct6d3%7Ejduy1mzd%7Euk-null-neptune%2Fpremium%2Eproducts&lipi=urn%3Ali%3Apage%3Aemail_email_job_alert_single_02%3BYBms%2FIJUT9aLyjWi4kVMuQ%3D%3D\\r\\n\\r\\n\\r\\n.....................................\\r\\n\\r\\nUnsubscribe from this alert: https://www.linkedin.com/e/v2?e=ct6d3-jduy1mzd-uk&lipi=urn%3Ali%3Apage%3Aemail_email_job_alert_single_02%3BYBms%2FIJUT9aLyjWi4kVMuQ%3D%3D&a=jobs-jserp-search-mirror&midToken=AQHbEzDWyKpnOA&ek=email_job_alert_single_02&li=3&m=footer&ts=delete_alert&alertAction=delete&savedSearchAuthToken=1%26AQHewlo3ryFD0QAAAWGwujkrvL1gdLFcjkBYRjBmXJoCr6A4Dg_H3MRf-ZPxYNGBCgYTWQTUFzrOe53Hf4o4j5e3QJvktraOWddGH1a_ZhSY4rtR0HRQMatQ8e2Ww7ugPL4LOJ_YzqE9uqQVbr4rpPvvBhKVmRKSavsiHnvdWPjS1NELTUIb_2Egxush_3Yv5FxhskVVWKjX0H9hjR9JT1Tr720YQw-M5ylW4Eo6FHm0C1JL3D3VVo9iYpRFV_3rYWsmJSxXLKiEWd9qVI8gSonGGs2h7wTyEjG4eKSYEg6B9A%26AZRHaMI32EnGOqcEUE-edLLUDfi8&savedSearchId=280713974\\r\\n\\r\\nHelp: https://www.linkedin.com/e/v2?e=ct6d3-jduy1mzd-uk&lipi=urn%3Ali%3Apage%3Aemail_email_job_alert_single_02%3BYBms%2FIJUT9aLyjWi4kVMuQ%3D%3D&a=customerServiceUrl&midToken=AQHbEzDWyKpnOA&ek=email_job_alert_single_02&li=40&m=footer&ts=help&articleId=67\\r\\n\\r\\n\\r\\nYou are receiving LinkedIn notification emails.\\r\\n\\r\\nThis email was intended for Arina Igumenshcheva (Pythonic data scientist, web developer,  UX explorer).\\r\\nLearn why we included this: https://www.linkedin.com/e/v2?e=ct6d3-jduy1mzd-uk&lipi=urn%3Ali%3Apage%3Aemail_email_job_alert_single_02%3BYBms%2FIJUT9aLyjWi4kVMuQ%3D%3D&a=customerServiceUrl&midToken=AQHbEzDWyKpnOA&ek=email_job_alert_single_02&articleId=4788\\r\\n\\r\\n© 2018 LinkedIn Corporation, 1000 West Maude Avenue, Sunnyvale, CA 94085. LinkedIn and the LinkedIn logo are registered trademarks of LinkedIn.\""
      ]
     },
     "execution_count": 321,
     "metadata": {},
     "output_type": "execute_result"
    }
   ],
   "source": [
    "text = df.email_content[4]\n",
    "#text = re.sub(r'\\r\\n', r' ', text)\n",
    "#text = re.sub(r'Cancel this Recommended Job Alert:.*', r'', text, flags=re.IGNORECASE)\n",
    "text"
   ]
  },
  {
   "cell_type": "code",
   "execution_count": 322,
   "metadata": {},
   "outputs": [
    {
     "data": {
      "text/plain": [
       "['https://www.linkedin.com/comm/jobs/view/563721832?alertAction=markasviewed&savedSearchAuthToken=1%26AQGD7Cf3Tt6dAwAAAWGwujktWL8C_I4kHFD7zV1BRz9ufqZvsBSHLA0y4K5f5vR9KgmKyCtbJXPjYGLrXS_DiNjc77kP8W6K7KMpu2Uw9Rh3EErZFaOx_NzvkRsNB-_MWJC5SUZFfjKN-4LQp08-_MFPyIrRvq56aswAyMhBwkMAaOhI6NDB8-WAD62uh4RdHI6QOPQuc62QMgybsb6JYIpbS27yQTtrMLHnBhiJrGHuMT8zFG_Zx2V2n2JTwTI986VccYLMBWhMGJHRwqEA21nSiviBU6ddyuGrtS9CqOk7cRJvWTDcJg%26AeWO7EqIvT-dT7KVC4fnKBSUV6Zt&savedSearchId=280713974&refId=64f7ef24-e228-4d80-a08f-63558a66e077&trk=eml-job-alert-member-details&midToken=AQHbEzDWyKpnOA&trkEmail=eml-email_job_alert_single_02-null-4-null-null-ct6d3%7Ejduy1mzd%7Euk-null-jobs%7Eview&lipi=urn%3Ali%3Apage%3Aemail_email_job_alert_single_02%3BYBms%2FIJUT9aLyjWi4kVMuQ%3D%3D',\n",
       " 'https://www.linkedin.com/comm/jobs/view/603794044?alertAction=markasviewed&savedSearchAuthToken=1%26AQGD7Cf3Tt6dAwAAAWGwujktWL8C_I4kHFD7zV1BRz9ufqZvsBSHLA0y4K5f5vR9KgmKyCtbJXPjYGLrXS_DiNjc77kP8W6K7KMpu2Uw9Rh3EErZFaOx_NzvkRsNB-_MWJC5SUZFfjKN-4LQp08-_MFPyIrRvq56aswAyMhBwkMAaOhI6NDB8-WAD62uh4RdHI6QOPQuc62QMgybsb6JYIpbS27yQTtrMLHnBhiJrGHuMT8zFG_Zx2V2n2JTwTI986VccYLMBWhMGJHRwqEA21nSiviBU6ddyuGrtS9CqOk7cRJvWTDcJg%26AeWO7EqIvT-dT7KVC4fnKBSUV6Zt&savedSearchId=280713974&refId=64f7ef24-e228-4d80-a08f-63558a66e077&trk=eml-job-alert-member-details&midToken=AQHbEzDWyKpnOA&trkEmail=eml-email_job_alert_single_02-null-5-null-null-ct6d3%7Ejduy1mzd%7Euk-null-jobs%7Eview&lipi=urn%3Ali%3Apage%3Aemail_email_job_alert_single_02%3BYBms%2FIJUT9aLyjWi4kVMuQ%3D%3D',\n",
       " 'https://www.linkedin.com/comm/jobs/view/603753318?alertAction=markasviewed&savedSearchAuthToken=1%26AQGD7Cf3Tt6dAwAAAWGwujktWL8C_I4kHFD7zV1BRz9ufqZvsBSHLA0y4K5f5vR9KgmKyCtbJXPjYGLrXS_DiNjc77kP8W6K7KMpu2Uw9Rh3EErZFaOx_NzvkRsNB-_MWJC5SUZFfjKN-4LQp08-_MFPyIrRvq56aswAyMhBwkMAaOhI6NDB8-WAD62uh4RdHI6QOPQuc62QMgybsb6JYIpbS27yQTtrMLHnBhiJrGHuMT8zFG_Zx2V2n2JTwTI986VccYLMBWhMGJHRwqEA21nSiviBU6ddyuGrtS9CqOk7cRJvWTDcJg%26AeWO7EqIvT-dT7KVC4fnKBSUV6Zt&savedSearchId=280713974&refId=64f7ef24-e228-4d80-a08f-63558a66e077&trk=eml-job-alert-member-details&midToken=AQHbEzDWyKpnOA&trkEmail=eml-email_job_alert_single_02-null-6-null-null-ct6d3%7Ejduy1mzd%7Euk-null-jobs%7Eview&lipi=urn%3Ali%3Apage%3Aemail_email_job_alert_single_02%3BYBms%2FIJUT9aLyjWi4kVMuQ%3D%3D',\n",
       " 'https://www.linkedin.com/comm/jobs/view/563723943?alertAction=markasviewed&savedSearchAuthToken=1%26AQGD7Cf3Tt6dAwAAAWGwujktWL8C_I4kHFD7zV1BRz9ufqZvsBSHLA0y4K5f5vR9KgmKyCtbJXPjYGLrXS_DiNjc77kP8W6K7KMpu2Uw9Rh3EErZFaOx_NzvkRsNB-_MWJC5SUZFfjKN-4LQp08-_MFPyIrRvq56aswAyMhBwkMAaOhI6NDB8-WAD62uh4RdHI6QOPQuc62QMgybsb6JYIpbS27yQTtrMLHnBhiJrGHuMT8zFG_Zx2V2n2JTwTI986VccYLMBWhMGJHRwqEA21nSiviBU6ddyuGrtS9CqOk7cRJvWTDcJg%26AeWO7EqIvT-dT7KVC4fnKBSUV6Zt&savedSearchId=280713974&refId=64f7ef24-e228-4d80-a08f-63558a66e077&trk=eml-job-alert-member-details&midToken=AQHbEzDWyKpnOA&trkEmail=eml-email_job_alert_single_02-null-7-null-null-ct6d3%7Ejduy1mzd%7Euk-null-jobs%7Eview&lipi=urn%3Ali%3Apage%3Aemail_email_job_alert_single_02%3BYBms%2FIJUT9aLyjWi4kVMuQ%3D%3D',\n",
       " 'https://www.linkedin.com/comm/jobs/view/563716694?alertAction=markasviewed&savedSearchAuthToken=1%26AQGD7Cf3Tt6dAwAAAWGwujktWL8C_I4kHFD7zV1BRz9ufqZvsBSHLA0y4K5f5vR9KgmKyCtbJXPjYGLrXS_DiNjc77kP8W6K7KMpu2Uw9Rh3EErZFaOx_NzvkRsNB-_MWJC5SUZFfjKN-4LQp08-_MFPyIrRvq56aswAyMhBwkMAaOhI6NDB8-WAD62uh4RdHI6QOPQuc62QMgybsb6JYIpbS27yQTtrMLHnBhiJrGHuMT8zFG_Zx2V2n2JTwTI986VccYLMBWhMGJHRwqEA21nSiviBU6ddyuGrtS9CqOk7cRJvWTDcJg%26AeWO7EqIvT-dT7KVC4fnKBSUV6Zt&savedSearchId=280713974&refId=64f7ef24-e228-4d80-a08f-63558a66e077&trk=eml-job-alert-member-details&midToken=AQHbEzDWyKpnOA&trkEmail=eml-email_job_alert_single_02-null-8-null-null-ct6d3%7Ejduy1mzd%7Euk-null-jobs%7Eview&lipi=urn%3Ali%3Apage%3Aemail_email_job_alert_single_02%3BYBms%2FIJUT9aLyjWi4kVMuQ%3D%3D',\n",
       " 'https://www.linkedin.com/comm/jobs/view/603465671?alertAction=markasviewed&savedSearchAuthToken=1%26AQGD7Cf3Tt6dAwAAAWGwujktWL8C_I4kHFD7zV1BRz9ufqZvsBSHLA0y4K5f5vR9KgmKyCtbJXPjYGLrXS_DiNjc77kP8W6K7KMpu2Uw9Rh3EErZFaOx_NzvkRsNB-_MWJC5SUZFfjKN-4LQp08-_MFPyIrRvq56aswAyMhBwkMAaOhI6NDB8-WAD62uh4RdHI6QOPQuc62QMgybsb6JYIpbS27yQTtrMLHnBhiJrGHuMT8zFG_Zx2V2n2JTwTI986VccYLMBWhMGJHRwqEA21nSiviBU6ddyuGrtS9CqOk7cRJvWTDcJg%26AeWO7EqIvT-dT7KVC4fnKBSUV6Zt&savedSearchId=280713974&refId=64f7ef24-e228-4d80-a08f-63558a66e077&trk=eml-job-alert-member-details&midToken=AQHbEzDWyKpnOA&trkEmail=eml-email_job_alert_single_02-null-9-null-null-ct6d3%7Ejduy1mzd%7Euk-null-jobs%7Eview&lipi=urn%3Ali%3Apage%3Aemail_email_job_alert_single_02%3BYBms%2FIJUT9aLyjWi4kVMuQ%3D%3D',\n",
       " 'https://www.linkedin.com/comm/jobs/view/603785995?alertAction=markasviewed&savedSearchAuthToken=1%26AQGD7Cf3Tt6dAwAAAWGwujktWL8C_I4kHFD7zV1BRz9ufqZvsBSHLA0y4K5f5vR9KgmKyCtbJXPjYGLrXS_DiNjc77kP8W6K7KMpu2Uw9Rh3EErZFaOx_NzvkRsNB-_MWJC5SUZFfjKN-4LQp08-_MFPyIrRvq56aswAyMhBwkMAaOhI6NDB8-WAD62uh4RdHI6QOPQuc62QMgybsb6JYIpbS27yQTtrMLHnBhiJrGHuMT8zFG_Zx2V2n2JTwTI986VccYLMBWhMGJHRwqEA21nSiviBU6ddyuGrtS9CqOk7cRJvWTDcJg%26AeWO7EqIvT-dT7KVC4fnKBSUV6Zt&savedSearchId=280713974&refId=64f7ef24-e228-4d80-a08f-63558a66e077&trk=eml-job-alert-member-details&midToken=AQHbEzDWyKpnOA&trkEmail=eml-email_job_alert_single_02-null-10-null-null-ct6d3%7Ejduy1mzd%7Euk-null-jobs%7Eview&lipi=urn%3Ali%3Apage%3Aemail_email_job_alert_single_02%3BYBms%2FIJUT9aLyjWi4kVMuQ%3D%3D',\n",
       " 'https://www.linkedin.com/comm/jobs/view/563734531?alertAction=markasviewed&savedSearchAuthToken=1%26AQGD7Cf3Tt6dAwAAAWGwujktWL8C_I4kHFD7zV1BRz9ufqZvsBSHLA0y4K5f5vR9KgmKyCtbJXPjYGLrXS_DiNjc77kP8W6K7KMpu2Uw9Rh3EErZFaOx_NzvkRsNB-_MWJC5SUZFfjKN-4LQp08-_MFPyIrRvq56aswAyMhBwkMAaOhI6NDB8-WAD62uh4RdHI6QOPQuc62QMgybsb6JYIpbS27yQTtrMLHnBhiJrGHuMT8zFG_Zx2V2n2JTwTI986VccYLMBWhMGJHRwqEA21nSiviBU6ddyuGrtS9CqOk7cRJvWTDcJg%26AeWO7EqIvT-dT7KVC4fnKBSUV6Zt&savedSearchId=280713974&refId=64f7ef24-e228-4d80-a08f-63558a66e077&trk=eml-job-alert-member-details&midToken=AQHbEzDWyKpnOA&trkEmail=eml-email_job_alert_single_02-null-11-null-null-ct6d3%7Ejduy1mzd%7Euk-null-jobs%7Eview&lipi=urn%3Ali%3Apage%3Aemail_email_job_alert_single_02%3BYBms%2FIJUT9aLyjWi4kVMuQ%3D%3D',\n",
       " 'https://www.linkedin.com/comm/jobs/view/603789768?alertAction=markasviewed&savedSearchAuthToken=1%26AQGD7Cf3Tt6dAwAAAWGwujktWL8C_I4kHFD7zV1BRz9ufqZvsBSHLA0y4K5f5vR9KgmKyCtbJXPjYGLrXS_DiNjc77kP8W6K7KMpu2Uw9Rh3EErZFaOx_NzvkRsNB-_MWJC5SUZFfjKN-4LQp08-_MFPyIrRvq56aswAyMhBwkMAaOhI6NDB8-WAD62uh4RdHI6QOPQuc62QMgybsb6JYIpbS27yQTtrMLHnBhiJrGHuMT8zFG_Zx2V2n2JTwTI986VccYLMBWhMGJHRwqEA21nSiviBU6ddyuGrtS9CqOk7cRJvWTDcJg%26AeWO7EqIvT-dT7KVC4fnKBSUV6Zt&savedSearchId=280713974&refId=64f7ef24-e228-4d80-a08f-63558a66e077&trk=eml-job-alert-member-details&midToken=AQHbEzDWyKpnOA&trkEmail=eml-email_job_alert_single_02-null-12-null-null-ct6d3%7Ejduy1mzd%7Euk-null-jobs%7Eview&lipi=urn%3Ali%3Apage%3Aemail_email_job_alert_single_02%3BYBms%2FIJUT9aLyjWi4kVMuQ%3D%3D',\n",
       " 'https://www.linkedin.com/comm/jobs/view/561641959?alertAction=markasviewed&savedSearchAuthToken=1%26AQGD7Cf3Tt6dAwAAAWGwujktWL8C_I4kHFD7zV1BRz9ufqZvsBSHLA0y4K5f5vR9KgmKyCtbJXPjYGLrXS_DiNjc77kP8W6K7KMpu2Uw9Rh3EErZFaOx_NzvkRsNB-_MWJC5SUZFfjKN-4LQp08-_MFPyIrRvq56aswAyMhBwkMAaOhI6NDB8-WAD62uh4RdHI6QOPQuc62QMgybsb6JYIpbS27yQTtrMLHnBhiJrGHuMT8zFG_Zx2V2n2JTwTI986VccYLMBWhMGJHRwqEA21nSiviBU6ddyuGrtS9CqOk7cRJvWTDcJg%26AeWO7EqIvT-dT7KVC4fnKBSUV6Zt&savedSearchId=280713974&refId=64f7ef24-e228-4d80-a08f-63558a66e077&trk=eml-job-alert-member-details&midToken=AQHbEzDWyKpnOA&trkEmail=eml-email_job_alert_single_02-null-13-null-null-ct6d3%7Ejduy1mzd%7Euk-null-jobs%7Eview&lipi=urn%3Ali%3Apage%3Aemail_email_job_alert_single_02%3BYBms%2FIJUT9aLyjWi4kVMuQ%3D%3D',\n",
       " 'https://www.linkedin.com/comm/jobs/view/563733785?alertAction=markasviewed&savedSearchAuthToken=1%26AQGD7Cf3Tt6dAwAAAWGwujktWL8C_I4kHFD7zV1BRz9ufqZvsBSHLA0y4K5f5vR9KgmKyCtbJXPjYGLrXS_DiNjc77kP8W6K7KMpu2Uw9Rh3EErZFaOx_NzvkRsNB-_MWJC5SUZFfjKN-4LQp08-_MFPyIrRvq56aswAyMhBwkMAaOhI6NDB8-WAD62uh4RdHI6QOPQuc62QMgybsb6JYIpbS27yQTtrMLHnBhiJrGHuMT8zFG_Zx2V2n2JTwTI986VccYLMBWhMGJHRwqEA21nSiviBU6ddyuGrtS9CqOk7cRJvWTDcJg%26AeWO7EqIvT-dT7KVC4fnKBSUV6Zt&savedSearchId=280713974&refId=64f7ef24-e228-4d80-a08f-63558a66e077&trk=eml-job-alert-member-details&midToken=AQHbEzDWyKpnOA&trkEmail=eml-email_job_alert_single_02-null-14-null-null-ct6d3%7Ejduy1mzd%7Euk-null-jobs%7Eview&lipi=urn%3Ali%3Apage%3Aemail_email_job_alert_single_02%3BYBms%2FIJUT9aLyjWi4kVMuQ%3D%3D']"
      ]
     },
     "execution_count": 322,
     "metadata": {},
     "output_type": "execute_result"
    }
   ],
   "source": [
    "# parse out the raw link parts\n",
    "p =r\"https://www.linkedin.com/comm/jobs/view/\\S*\"\n",
    "\n",
    "links_list = re.findall(p, text)\n",
    "links_list"
   ]
  },
  {
   "cell_type": "code",
   "execution_count": 323,
   "metadata": {},
   "outputs": [
    {
     "data": {
      "text/plain": [
       "11"
      ]
     },
     "execution_count": 323,
     "metadata": {},
     "output_type": "execute_result"
    }
   ],
   "source": [
    "len(links_list)"
   ]
  },
  {
   "cell_type": "code",
   "execution_count": 324,
   "metadata": {},
   "outputs": [
    {
     "data": {
      "text/plain": [
       "'Tue, 20 Feb 2018 01:01:02 +0000 (UTC)'"
      ]
     },
     "execution_count": 324,
     "metadata": {},
     "output_type": "execute_result"
    }
   ],
   "source": [
    "df.date[4]"
   ]
  },
  {
   "cell_type": "code",
   "execution_count": 325,
   "metadata": {},
   "outputs": [
    {
     "data": {
      "text/plain": [
       "'LinkedIn Job Alerts'"
      ]
     },
     "execution_count": 325,
     "metadata": {},
     "output_type": "execute_result"
    }
   ],
   "source": [
    "df.email_from[4]"
   ]
  },
  {
   "cell_type": "code",
   "execution_count": 326,
   "metadata": {},
   "outputs": [
    {
     "data": {
      "text/plain": [
       "'https://www.linkedin.com/comm/jobs/view/563721832?alertAction=markasviewed&savedSearchAuthToken=1%26AQGD7Cf3Tt6dAwAAAWGwujktWL8C_I4kHFD7zV1BRz9ufqZvsBSHLA0y4K5f5vR9KgmKyCtbJXPjYGLrXS_DiNjc77kP8W6K7KMpu2Uw9Rh3EErZFaOx_NzvkRsNB-_MWJC5SUZFfjKN-4LQp08-_MFPyIrRvq56aswAyMhBwkMAaOhI6NDB8-WAD62uh4RdHI6QOPQuc62QMgybsb6JYIpbS27yQTtrMLHnBhiJrGHuMT8zFG_Zx2V2n2JTwTI986VccYLMBWhMGJHRwqEA21nSiviBU6ddyuGrtS9CqOk7cRJvWTDcJg%26AeWO7EqIvT-dT7KVC4fnKBSUV6Zt&savedSearchId=280713974&refId=64f7ef24-e228-4d80-a08f-63558a66e077&trk=eml-job-alert-member-details&midToken=AQHbEzDWyKpnOA&trkEmail=eml-email_job_alert_single_02-null-4-null-null-ct6d3%7Ejduy1mzd%7Euk-null-jobs%7Eview&lipi=urn%3Ali%3Apage%3Aemail_email_job_alert_single_02%3BYBms%2FIJUT9aLyjWi4kVMuQ%3D%3D'"
      ]
     },
     "execution_count": 326,
     "metadata": {},
     "output_type": "execute_result"
    }
   ],
   "source": [
    "# loop over job posts in email\n",
    "linky_url = links_list[0]\n",
    "linky_url"
   ]
  },
  {
   "cell_type": "code",
   "execution_count": 327,
   "metadata": {
    "collapsed": true
   },
   "outputs": [],
   "source": [
    "driver.get(linky_url)"
   ]
  },
  {
   "cell_type": "code",
   "execution_count": 328,
   "metadata": {},
   "outputs": [
    {
     "name": "stdout",
     "output_type": "stream",
     "text": [
      "Data Science Analyst\n"
     ]
    }
   ],
   "source": [
    "# job title\n",
    "selector = '//section[@id=\"top-card\"]//h1[@class=\"title\"]'\n",
    "job_title = driver.find_elements_by_xpath(selector)[0].text\n",
    "print(job_title)"
   ]
  },
  {
   "cell_type": "code",
   "execution_count": 329,
   "metadata": {},
   "outputs": [
    {
     "name": "stdout",
     "output_type": "stream",
     "text": [
      "C2R Ventures\n"
     ]
    }
   ],
   "source": [
    "# company name\n",
    "selector = '//section[@id=\"top-card\"]//span[@class=\"company\"]'\n",
    "company_name = driver.find_elements_by_xpath(selector)[0].text\n",
    "print(company_name)"
   ]
  },
  {
   "cell_type": "code",
   "execution_count": 330,
   "metadata": {},
   "outputs": [
    {
     "name": "stdout",
     "output_type": "stream",
     "text": [
      "Greater New York City Area\n"
     ]
    }
   ],
   "source": [
    "# location\n",
    "selector = '//section[@id=\"top-card\"]//h3[@class=\"location\"]/span/span'\n",
    "location = driver.find_elements_by_xpath(selector)[0].text\n",
    "print(location)"
   ]
  },
  {
   "cell_type": "code",
   "execution_count": 331,
   "metadata": {},
   "outputs": [
    {
     "name": "stdout",
     "output_type": "stream",
     "text": [
      "Posted 3 days ago\n"
     ]
    }
   ],
   "source": [
    "# date posted\n",
    "#selector = '//div[@id=\"info-link-row\"]//span[@class=\"date\"]'\n",
    "selector = '//section[@id=\"top-card\"]//ul[@class=\"posting-info\"]/li[@class=\"posted\"]/span'\n",
    "date_posted = driver.find_elements_by_xpath(selector)[0].text\n",
    "print(date_posted)"
   ]
  },
  {
   "cell_type": "code",
   "execution_count": 332,
   "metadata": {},
   "outputs": [
    {
     "name": "stdout",
     "output_type": "stream",
     "text": [
      "Innovative Health Services organization is seeking a Data Science Analyst for key role within their Population Health Analytics team.\n",
      " \n",
      "In this role you’ll work collaboratively with stakeholders from across the organization to develop sophisticated analytics to provide information, insights and BI (Business Intelligence) solutions that contribute to sound strategic planning, decision-making, goal setting, and effective performance measurement.  \n",
      "\n",
      "This is a Fulltime role located in New York City.\n",
      "    Required Domain Skills:\n",
      "Minimum 2 years of Data Science/Analytics Development experience for a Health Provider, Health Plan or Accountable Care Organization including either:\n",
      "Working knowledge of a health care EMR such as Epic/Clarity, eCW, etc.; a payer claims system such as Facets, Amisys, etc.; or a hospital/provider billing system such as Idx, Soarian, etc.\n",
      "    Required Technical Skills:\n",
      "Strong data mining skills using tools like SQL, R, Python, SAS, Java/MapReduce, Aster, etc.\n",
      "Strong analytical skills, with the ability to perform complex analysis and make recommendations based on statistical inferences. Experience with and an understanding of a wide variety of analytical or statistical methods.\n",
      "Strong working knowledge of Business Intelligence products such as Tableau, Information Builders, Dimensional Insights, SAP/Business Objects, SAS, MicroStrategy, etc.\n",
      "Solid understanding of ETL tools like SSIS, Data Stage, PowerCenter, etc.\n",
      "BS, MS in Comptuer Science, Enginerring, Mathematics, etc\n"
     ]
    }
   ],
   "source": [
    "# job posting\n",
    "selector = '//section[@id=\"summary-detail\"]//div[@class=\"description-section\"]'\n",
    "job_posting = driver.find_elements_by_xpath(selector)[0].text\n",
    "print(job_posting)"
   ]
  },
  {
   "cell_type": "code",
   "execution_count": 337,
   "metadata": {},
   "outputs": [
    {
     "data": {
      "text/plain": [
       "'https://www.linkedin.com/comm/jobs/view/563721832?alertAction=markasviewed&savedSearchAuthToken=1%26AQGD7Cf3Tt6dAwAAAWGwujktWL8C_I4kHFD7zV1BRz9ufqZvsBSHLA0y4K5f5vR9KgmKyCtbJXPjYGLrXS_DiNjc77kP8W6K7KMpu2Uw9Rh3EErZFaOx_NzvkRsNB-_MWJC5SUZFfjKN-4LQp08-_MFPyIrRvq56aswAyMhBwkMAaOhI6NDB8-WAD62uh4RdHI6QOPQuc62QMgybsb6JYIpbS27yQTtrMLHnBhiJrGHuMT8zFG_Zx2V2n2JTwTI986VccYLMBWhMGJHRwqEA21nSiviBU6ddyuGrtS9CqOk7cRJvWTDcJg%26AeWO7EqIvT-dT7KVC4fnKBSUV6Zt&savedSearchId=280713974&refId=64f7ef24-e228-4d80-a08f-63558a66e077&trk=eml-job-alert-member-details&midToken=AQHbEzDWyKpnOA&trkEmail=eml-email_job_alert_single_02-null-4-null-null-ct6d3%7Ejduy1mzd%7Euk-null-jobs%7Eview&lipi=urn%3Ali%3Apage%3Aemail_email_job_alert_single_02%3BYBms%2FIJUT9aLyjWi4kVMuQ%3D%3D'"
      ]
     },
     "execution_count": 337,
     "metadata": {},
     "output_type": "execute_result"
    }
   ],
   "source": [
    "driver.current_url"
   ]
  },
  {
   "cell_type": "code",
   "execution_count": 338,
   "metadata": {},
   "outputs": [
    {
     "name": "stdout",
     "output_type": "stream",
     "text": [
      "C2R Ventures is a Talent Advisory Collective dedicated to disrupting the Technology, Financial, FinTech and Management Consulting recruitment space.\n",
      "\n",
      "Our values and our approach are simple: relationships (both client and candidate) matter above all else.\n",
      "\n",
      "Our core mission is to represent elite candidates and connect them with businesses who are using Mathematics and Technology as their driving force and competitive advantage.\n"
     ]
    }
   ],
   "source": [
    "# company descr\n",
    "selector = '//section[@id=\"company-lcp\"]//div[@class=\"description-container\"]'\n",
    "company_descr = driver.find_elements_by_xpath(selector)[0].text\n",
    "print(company_descr)"
   ]
  },
  {
   "cell_type": "code",
   "execution_count": null,
   "metadata": {
    "collapsed": true
   },
   "outputs": [],
   "source": []
  }
 ],
 "metadata": {
  "kernelspec": {
   "display_name": "Python 3",
   "language": "python",
   "name": "python3"
  },
  "language_info": {
   "codemirror_mode": {
    "name": "ipython",
    "version": 3
   },
   "file_extension": ".py",
   "mimetype": "text/x-python",
   "name": "python",
   "nbconvert_exporter": "python",
   "pygments_lexer": "ipython3",
   "version": "3.6.3"
  }
 },
 "nbformat": 4,
 "nbformat_minor": 2
}
